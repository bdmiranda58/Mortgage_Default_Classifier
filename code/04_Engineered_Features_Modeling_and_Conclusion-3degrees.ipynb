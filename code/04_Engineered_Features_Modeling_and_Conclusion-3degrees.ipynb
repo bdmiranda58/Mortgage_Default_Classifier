{
 "cells": [
  {
   "cell_type": "markdown",
   "metadata": {},
   "source": [
    "<img style=\"float: left;\" src=\"../images/fanniemae.png\">\n",
    "<br><br><br><br><br><br>\n",
    "______"
   ]
  },
  {
   "cell_type": "markdown",
   "metadata": {},
   "source": [
    "# Mortgage Loan Default Classifier\n",
    "____________\n",
    "____________"
   ]
  },
  {
   "cell_type": "markdown",
   "metadata": {},
   "source": [
    "## Problem Statement:\n",
    "_____________\n",
    "Fannie Mae, or more specifically the Federal National Mortgage Association (FNMA), is a government sponsored entity whose primary goal is to raise home ownership and affordable housing levels.  Fannie Mae attempts to accomplish this in essence by purchasing mortgage loans within certain parameters from mortgage lenders.  In turn, mortgage lenders are provided cash flow to issue additional mortgages.<br>\n",
    "\n",
    "The cause of the Financial Crisis of 2008 can in part be drawn back to the purchase of mortgage loans with an actual probability of default that were higher than assumed.  By creating a classification model that will predict whether a mortgage loan will default based on pre-purchase characteristics, Fannie Mae may better avoid high risk mortgage loans.  The model will be evaluated based on Accuracy and False Negative Rate.  In this particular case, the \"positive\" class will be loans that default therefore, we will seek to minimize the False Negative Rate while maximizing Accuracy."
   ]
  },
  {
   "cell_type": "markdown",
   "metadata": {},
   "source": [
    "## Engineered Features, Production Model, and Conclusion\n",
    "___________\n",
    "In order to render a better accuracy and false negative rate interaction features and a neural network will be introduced.  Correlation between continuous features and whether a loan default were minimal.  By using PolynomialFeatures, the model can investgate whether the interaction between these features are of more importance than the feature alone.  Additional, a neural network wil be introduced to increase accuracy and decrease the false negative rate.  A logistic regressor has an advantage of being able to indentify key features that have the greatest influence in determining whether a loan will default.  However, as evidenced by the base model, it may not be able to reach the accuracy needed to be a successful model.  A neural network does not have the interpretability inherent in the logistic model however, it has been shown to highly accurate because of their ability to generalise and respond to unexpected patterns. The high degree of inaction between features in this dataset may make a neural network the right choice in this situation."
   ]
  },
  {
   "cell_type": "code",
   "execution_count": 1,
   "metadata": {},
   "outputs": [
    {
     "name": "stderr",
     "output_type": "stream",
     "text": [
      "Using TensorFlow backend.\n"
     ]
    }
   ],
   "source": [
    "import pandas as pd\n",
    "import numpy as np\n",
    "import seaborn as sns\n",
    "import matplotlib.pyplot as plt\n",
    "\n",
    "from sklearn.utils import resample\n",
    "from sklearn.linear_model import LogisticRegression\n",
    "from sklearn.model_selection import train_test_split, cross_val_score, GridSearchCV\n",
    "from sklearn.preprocessing import StandardScaler, PolynomialFeatures \n",
    "from sklearn.metrics import confusion_matrix\n",
    "\n",
    "from keras.models import Sequential\n",
    "from keras.layers import Dense, Dropout\n",
    "from keras import regularizers\n",
    "from keras.callbacks import EarlyStopping\n",
    "\n",
    "%matplotlib inline"
   ]
  },
  {
   "cell_type": "code",
   "execution_count": 2,
   "metadata": {},
   "outputs": [
    {
     "data": {
      "text/html": [
       "<div>\n",
       "<style scoped>\n",
       "    .dataframe tbody tr th:only-of-type {\n",
       "        vertical-align: middle;\n",
       "    }\n",
       "\n",
       "    .dataframe tbody tr th {\n",
       "        vertical-align: top;\n",
       "    }\n",
       "\n",
       "    .dataframe thead th {\n",
       "        text-align: right;\n",
       "    }\n",
       "</style>\n",
       "<table border=\"1\" class=\"dataframe\">\n",
       "  <thead>\n",
       "    <tr style=\"text-align: right;\">\n",
       "      <th></th>\n",
       "      <th>LOAN IDENTIFIER</th>\n",
       "      <th>ORIGINATION CHANNEL</th>\n",
       "      <th>SELLER NAME</th>\n",
       "      <th>ORIGINAL INTEREST RATE</th>\n",
       "      <th>ORIGINAL UPB</th>\n",
       "      <th>ORIGINAL LOAN TERM</th>\n",
       "      <th>ORIGINAL LOAN-TO-VALUE (LTV)</th>\n",
       "      <th>ORIGINAL COMBINED LOAN-TO-VALUE (CLTV)</th>\n",
       "      <th>NUMBER OF BORROWERS</th>\n",
       "      <th>ORIGINAL DEBT TO INCOME RATIO</th>\n",
       "      <th>...</th>\n",
       "      <th>LOAN PURPOSE</th>\n",
       "      <th>PROPERTY TYPE</th>\n",
       "      <th>NUMBER OF UNITS</th>\n",
       "      <th>OCCUPANCY TYPE</th>\n",
       "      <th>PROPERTY STATE</th>\n",
       "      <th>PRODUCT TYPE</th>\n",
       "      <th>RELOCATION MORTGAGE INDICATOR</th>\n",
       "      <th>DEFAULT</th>\n",
       "      <th>MI</th>\n",
       "      <th>MIN CREDIT SCORE</th>\n",
       "    </tr>\n",
       "  </thead>\n",
       "  <tbody>\n",
       "    <tr>\n",
       "      <th>0</th>\n",
       "      <td>100000841305</td>\n",
       "      <td>C</td>\n",
       "      <td>CITIMORTGAGE, INC.</td>\n",
       "      <td>4.125</td>\n",
       "      <td>124000</td>\n",
       "      <td>360</td>\n",
       "      <td>79</td>\n",
       "      <td>79.0</td>\n",
       "      <td>1.0</td>\n",
       "      <td>28.0</td>\n",
       "      <td>...</td>\n",
       "      <td>R</td>\n",
       "      <td>SF</td>\n",
       "      <td>1</td>\n",
       "      <td>P</td>\n",
       "      <td>TX</td>\n",
       "      <td>FRM</td>\n",
       "      <td>N</td>\n",
       "      <td>0</td>\n",
       "      <td>0.0</td>\n",
       "      <td>792.0</td>\n",
       "    </tr>\n",
       "    <tr>\n",
       "      <th>1</th>\n",
       "      <td>100001889356</td>\n",
       "      <td>R</td>\n",
       "      <td>OTHER</td>\n",
       "      <td>4.625</td>\n",
       "      <td>115000</td>\n",
       "      <td>240</td>\n",
       "      <td>68</td>\n",
       "      <td>68.0</td>\n",
       "      <td>1.0</td>\n",
       "      <td>34.0</td>\n",
       "      <td>...</td>\n",
       "      <td>C</td>\n",
       "      <td>SF</td>\n",
       "      <td>1</td>\n",
       "      <td>P</td>\n",
       "      <td>IL</td>\n",
       "      <td>FRM</td>\n",
       "      <td>N</td>\n",
       "      <td>0</td>\n",
       "      <td>0.0</td>\n",
       "      <td>705.0</td>\n",
       "    </tr>\n",
       "    <tr>\n",
       "      <th>2</th>\n",
       "      <td>100006453372</td>\n",
       "      <td>C</td>\n",
       "      <td>BANK OF AMERICA, N.A.</td>\n",
       "      <td>4.375</td>\n",
       "      <td>175000</td>\n",
       "      <td>360</td>\n",
       "      <td>52</td>\n",
       "      <td>52.0</td>\n",
       "      <td>2.0</td>\n",
       "      <td>29.0</td>\n",
       "      <td>...</td>\n",
       "      <td>C</td>\n",
       "      <td>PU</td>\n",
       "      <td>1</td>\n",
       "      <td>S</td>\n",
       "      <td>AZ</td>\n",
       "      <td>FRM</td>\n",
       "      <td>N</td>\n",
       "      <td>0</td>\n",
       "      <td>0.0</td>\n",
       "      <td>776.0</td>\n",
       "    </tr>\n",
       "    <tr>\n",
       "      <th>3</th>\n",
       "      <td>100010656545</td>\n",
       "      <td>C</td>\n",
       "      <td>BANK OF AMERICA, N.A.</td>\n",
       "      <td>4.375</td>\n",
       "      <td>365000</td>\n",
       "      <td>360</td>\n",
       "      <td>59</td>\n",
       "      <td>59.0</td>\n",
       "      <td>3.0</td>\n",
       "      <td>40.0</td>\n",
       "      <td>...</td>\n",
       "      <td>C</td>\n",
       "      <td>PU</td>\n",
       "      <td>1</td>\n",
       "      <td>P</td>\n",
       "      <td>IL</td>\n",
       "      <td>FRM</td>\n",
       "      <td>N</td>\n",
       "      <td>0</td>\n",
       "      <td>0.0</td>\n",
       "      <td>797.0</td>\n",
       "    </tr>\n",
       "    <tr>\n",
       "      <th>4</th>\n",
       "      <td>100010758624</td>\n",
       "      <td>R</td>\n",
       "      <td>CITIMORTGAGE, INC.</td>\n",
       "      <td>3.875</td>\n",
       "      <td>69000</td>\n",
       "      <td>120</td>\n",
       "      <td>28</td>\n",
       "      <td>28.0</td>\n",
       "      <td>1.0</td>\n",
       "      <td>32.0</td>\n",
       "      <td>...</td>\n",
       "      <td>C</td>\n",
       "      <td>SF</td>\n",
       "      <td>1</td>\n",
       "      <td>P</td>\n",
       "      <td>SC</td>\n",
       "      <td>FRM</td>\n",
       "      <td>N</td>\n",
       "      <td>0</td>\n",
       "      <td>0.0</td>\n",
       "      <td>785.0</td>\n",
       "    </tr>\n",
       "  </tbody>\n",
       "</table>\n",
       "<p>5 rows × 21 columns</p>\n",
       "</div>"
      ],
      "text/plain": [
       "   LOAN IDENTIFIER ORIGINATION CHANNEL            SELLER NAME  \\\n",
       "0     100000841305                   C     CITIMORTGAGE, INC.   \n",
       "1     100001889356                   R                  OTHER   \n",
       "2     100006453372                   C  BANK OF AMERICA, N.A.   \n",
       "3     100010656545                   C  BANK OF AMERICA, N.A.   \n",
       "4     100010758624                   R     CITIMORTGAGE, INC.   \n",
       "\n",
       "   ORIGINAL INTEREST RATE  ORIGINAL UPB  ORIGINAL LOAN TERM  \\\n",
       "0                   4.125        124000                 360   \n",
       "1                   4.625        115000                 240   \n",
       "2                   4.375        175000                 360   \n",
       "3                   4.375        365000                 360   \n",
       "4                   3.875         69000                 120   \n",
       "\n",
       "   ORIGINAL LOAN-TO-VALUE (LTV)  ORIGINAL COMBINED LOAN-TO-VALUE (CLTV)  \\\n",
       "0                            79                                    79.0   \n",
       "1                            68                                    68.0   \n",
       "2                            52                                    52.0   \n",
       "3                            59                                    59.0   \n",
       "4                            28                                    28.0   \n",
       "\n",
       "   NUMBER OF BORROWERS  ORIGINAL DEBT TO INCOME RATIO        ...         \\\n",
       "0                  1.0                           28.0        ...          \n",
       "1                  1.0                           34.0        ...          \n",
       "2                  2.0                           29.0        ...          \n",
       "3                  3.0                           40.0        ...          \n",
       "4                  1.0                           32.0        ...          \n",
       "\n",
       "  LOAN PURPOSE PROPERTY TYPE NUMBER OF UNITS  OCCUPANCY TYPE PROPERTY STATE  \\\n",
       "0            R            SF               1               P             TX   \n",
       "1            C            SF               1               P             IL   \n",
       "2            C            PU               1               S             AZ   \n",
       "3            C            PU               1               P             IL   \n",
       "4            C            SF               1               P             SC   \n",
       "\n",
       "  PRODUCT TYPE RELOCATION MORTGAGE INDICATOR DEFAULT   MI  MIN CREDIT SCORE  \n",
       "0          FRM                             N       0  0.0             792.0  \n",
       "1          FRM                             N       0  0.0             705.0  \n",
       "2          FRM                             N       0  0.0             776.0  \n",
       "3          FRM                             N       0  0.0             797.0  \n",
       "4          FRM                             N       0  0.0             785.0  \n",
       "\n",
       "[5 rows x 21 columns]"
      ]
     },
     "execution_count": 2,
     "metadata": {},
     "output_type": "execute_result"
    }
   ],
   "source": [
    "df = pd.read_csv('../data/complete2011q1.csv')\n",
    "df.head()"
   ]
  },
  {
   "cell_type": "code",
   "execution_count": 3,
   "metadata": {},
   "outputs": [],
   "source": [
    "continuous_features = ['ORIGINAL INTEREST RATE', 'ORIGINAL UPB', 'ORIGINAL LOAN-TO-VALUE (LTV)', \n",
    "                       'ORIGINAL COMBINED LOAN-TO-VALUE (CLTV)', 'ORIGINAL DEBT TO INCOME RATIO',\n",
    "                       'MIN CREDIT SCORE']"
   ]
  },
  {
   "cell_type": "code",
   "execution_count": 4,
   "metadata": {},
   "outputs": [
    {
     "name": "stderr",
     "output_type": "stream",
     "text": [
      "C:\\Users\\bdmir\\Anaconda3\\envs\\dsi\\lib\\site-packages\\sklearn\\preprocessing\\data.py:1263: FutureWarning: arrays to stack must be passed as a \"sequence\" type such as list or tuple. Support for non-sequence iterables such as generators is deprecated as of NumPy 1.16 and will raise an error in the future.\n",
      "  for c in combinations)\n"
     ]
    },
    {
     "data": {
      "text/html": [
       "<div>\n",
       "<style scoped>\n",
       "    .dataframe tbody tr th:only-of-type {\n",
       "        vertical-align: middle;\n",
       "    }\n",
       "\n",
       "    .dataframe tbody tr th {\n",
       "        vertical-align: top;\n",
       "    }\n",
       "\n",
       "    .dataframe thead th {\n",
       "        text-align: right;\n",
       "    }\n",
       "</style>\n",
       "<table border=\"1\" class=\"dataframe\">\n",
       "  <thead>\n",
       "    <tr style=\"text-align: right;\">\n",
       "      <th></th>\n",
       "      <th>LOAN IDENTIFIER</th>\n",
       "      <th>ORIGINATION CHANNEL</th>\n",
       "      <th>SELLER NAME</th>\n",
       "      <th>ORIGINAL INTEREST RATE</th>\n",
       "      <th>ORIGINAL UPB</th>\n",
       "      <th>ORIGINAL LOAN TERM</th>\n",
       "      <th>ORIGINAL LOAN-TO-VALUE (LTV)</th>\n",
       "      <th>ORIGINAL COMBINED LOAN-TO-VALUE (CLTV)</th>\n",
       "      <th>NUMBER OF BORROWERS</th>\n",
       "      <th>ORIGINAL DEBT TO INCOME RATIO</th>\n",
       "      <th>...</th>\n",
       "      <th>ORIGINAL COMBINED LOAN-TO-VALUE (CLTV)^3</th>\n",
       "      <th>ORIGINAL COMBINED LOAN-TO-VALUE (CLTV)^2 ORIGINAL DEBT TO INCOME RATIO</th>\n",
       "      <th>ORIGINAL COMBINED LOAN-TO-VALUE (CLTV)^2 MIN CREDIT SCORE</th>\n",
       "      <th>ORIGINAL COMBINED LOAN-TO-VALUE (CLTV) ORIGINAL DEBT TO INCOME RATIO^2</th>\n",
       "      <th>ORIGINAL COMBINED LOAN-TO-VALUE (CLTV) ORIGINAL DEBT TO INCOME RATIO MIN CREDIT SCORE</th>\n",
       "      <th>ORIGINAL COMBINED LOAN-TO-VALUE (CLTV) MIN CREDIT SCORE^2</th>\n",
       "      <th>ORIGINAL DEBT TO INCOME RATIO^3</th>\n",
       "      <th>ORIGINAL DEBT TO INCOME RATIO^2 MIN CREDIT SCORE</th>\n",
       "      <th>ORIGINAL DEBT TO INCOME RATIO MIN CREDIT SCORE^2</th>\n",
       "      <th>MIN CREDIT SCORE^3</th>\n",
       "    </tr>\n",
       "  </thead>\n",
       "  <tbody>\n",
       "    <tr>\n",
       "      <th>0</th>\n",
       "      <td>100000841305</td>\n",
       "      <td>C</td>\n",
       "      <td>CITIMORTGAGE, INC.</td>\n",
       "      <td>4.125</td>\n",
       "      <td>124000</td>\n",
       "      <td>360</td>\n",
       "      <td>79</td>\n",
       "      <td>79.0</td>\n",
       "      <td>1.0</td>\n",
       "      <td>28.0</td>\n",
       "      <td>...</td>\n",
       "      <td>493039.0</td>\n",
       "      <td>174748.0</td>\n",
       "      <td>4942872.0</td>\n",
       "      <td>61936.0</td>\n",
       "      <td>1751904.0</td>\n",
       "      <td>49553856.0</td>\n",
       "      <td>21952.0</td>\n",
       "      <td>620928.0</td>\n",
       "      <td>17563392.0</td>\n",
       "      <td>496793088.0</td>\n",
       "    </tr>\n",
       "    <tr>\n",
       "      <th>1</th>\n",
       "      <td>100001889356</td>\n",
       "      <td>R</td>\n",
       "      <td>OTHER</td>\n",
       "      <td>4.625</td>\n",
       "      <td>115000</td>\n",
       "      <td>240</td>\n",
       "      <td>68</td>\n",
       "      <td>68.0</td>\n",
       "      <td>1.0</td>\n",
       "      <td>34.0</td>\n",
       "      <td>...</td>\n",
       "      <td>314432.0</td>\n",
       "      <td>157216.0</td>\n",
       "      <td>3259920.0</td>\n",
       "      <td>78608.0</td>\n",
       "      <td>1629960.0</td>\n",
       "      <td>33797700.0</td>\n",
       "      <td>39304.0</td>\n",
       "      <td>814980.0</td>\n",
       "      <td>16898850.0</td>\n",
       "      <td>350402625.0</td>\n",
       "    </tr>\n",
       "    <tr>\n",
       "      <th>2</th>\n",
       "      <td>100006453372</td>\n",
       "      <td>C</td>\n",
       "      <td>BANK OF AMERICA, N.A.</td>\n",
       "      <td>4.375</td>\n",
       "      <td>175000</td>\n",
       "      <td>360</td>\n",
       "      <td>52</td>\n",
       "      <td>52.0</td>\n",
       "      <td>2.0</td>\n",
       "      <td>29.0</td>\n",
       "      <td>...</td>\n",
       "      <td>140608.0</td>\n",
       "      <td>78416.0</td>\n",
       "      <td>2098304.0</td>\n",
       "      <td>43732.0</td>\n",
       "      <td>1170208.0</td>\n",
       "      <td>31313152.0</td>\n",
       "      <td>24389.0</td>\n",
       "      <td>652616.0</td>\n",
       "      <td>17463104.0</td>\n",
       "      <td>467288576.0</td>\n",
       "    </tr>\n",
       "    <tr>\n",
       "      <th>3</th>\n",
       "      <td>100010656545</td>\n",
       "      <td>C</td>\n",
       "      <td>BANK OF AMERICA, N.A.</td>\n",
       "      <td>4.375</td>\n",
       "      <td>365000</td>\n",
       "      <td>360</td>\n",
       "      <td>59</td>\n",
       "      <td>59.0</td>\n",
       "      <td>3.0</td>\n",
       "      <td>40.0</td>\n",
       "      <td>...</td>\n",
       "      <td>205379.0</td>\n",
       "      <td>139240.0</td>\n",
       "      <td>2774357.0</td>\n",
       "      <td>94400.0</td>\n",
       "      <td>1880920.0</td>\n",
       "      <td>37477331.0</td>\n",
       "      <td>64000.0</td>\n",
       "      <td>1275200.0</td>\n",
       "      <td>25408360.0</td>\n",
       "      <td>506261573.0</td>\n",
       "    </tr>\n",
       "    <tr>\n",
       "      <th>4</th>\n",
       "      <td>100010758624</td>\n",
       "      <td>R</td>\n",
       "      <td>CITIMORTGAGE, INC.</td>\n",
       "      <td>3.875</td>\n",
       "      <td>69000</td>\n",
       "      <td>120</td>\n",
       "      <td>28</td>\n",
       "      <td>28.0</td>\n",
       "      <td>1.0</td>\n",
       "      <td>32.0</td>\n",
       "      <td>...</td>\n",
       "      <td>21952.0</td>\n",
       "      <td>25088.0</td>\n",
       "      <td>615440.0</td>\n",
       "      <td>28672.0</td>\n",
       "      <td>703360.0</td>\n",
       "      <td>17254300.0</td>\n",
       "      <td>32768.0</td>\n",
       "      <td>803840.0</td>\n",
       "      <td>19719200.0</td>\n",
       "      <td>483736625.0</td>\n",
       "    </tr>\n",
       "  </tbody>\n",
       "</table>\n",
       "<p>5 rows × 98 columns</p>\n",
       "</div>"
      ],
      "text/plain": [
       "   LOAN IDENTIFIER ORIGINATION CHANNEL            SELLER NAME  \\\n",
       "0     100000841305                   C     CITIMORTGAGE, INC.   \n",
       "1     100001889356                   R                  OTHER   \n",
       "2     100006453372                   C  BANK OF AMERICA, N.A.   \n",
       "3     100010656545                   C  BANK OF AMERICA, N.A.   \n",
       "4     100010758624                   R     CITIMORTGAGE, INC.   \n",
       "\n",
       "   ORIGINAL INTEREST RATE  ORIGINAL UPB  ORIGINAL LOAN TERM  \\\n",
       "0                   4.125        124000                 360   \n",
       "1                   4.625        115000                 240   \n",
       "2                   4.375        175000                 360   \n",
       "3                   4.375        365000                 360   \n",
       "4                   3.875         69000                 120   \n",
       "\n",
       "   ORIGINAL LOAN-TO-VALUE (LTV)  ORIGINAL COMBINED LOAN-TO-VALUE (CLTV)  \\\n",
       "0                            79                                    79.0   \n",
       "1                            68                                    68.0   \n",
       "2                            52                                    52.0   \n",
       "3                            59                                    59.0   \n",
       "4                            28                                    28.0   \n",
       "\n",
       "   NUMBER OF BORROWERS  ORIGINAL DEBT TO INCOME RATIO         ...          \\\n",
       "0                  1.0                           28.0         ...           \n",
       "1                  1.0                           34.0         ...           \n",
       "2                  2.0                           29.0         ...           \n",
       "3                  3.0                           40.0         ...           \n",
       "4                  1.0                           32.0         ...           \n",
       "\n",
       "  ORIGINAL COMBINED LOAN-TO-VALUE (CLTV)^3  \\\n",
       "0                                 493039.0   \n",
       "1                                 314432.0   \n",
       "2                                 140608.0   \n",
       "3                                 205379.0   \n",
       "4                                  21952.0   \n",
       "\n",
       "  ORIGINAL COMBINED LOAN-TO-VALUE (CLTV)^2 ORIGINAL DEBT TO INCOME RATIO  \\\n",
       "0                                           174748.0                       \n",
       "1                                           157216.0                       \n",
       "2                                            78416.0                       \n",
       "3                                           139240.0                       \n",
       "4                                            25088.0                       \n",
       "\n",
       "  ORIGINAL COMBINED LOAN-TO-VALUE (CLTV)^2 MIN CREDIT SCORE  \\\n",
       "0                                          4942872.0          \n",
       "1                                          3259920.0          \n",
       "2                                          2098304.0          \n",
       "3                                          2774357.0          \n",
       "4                                           615440.0          \n",
       "\n",
       "   ORIGINAL COMBINED LOAN-TO-VALUE (CLTV) ORIGINAL DEBT TO INCOME RATIO^2  \\\n",
       "0                                            61936.0                        \n",
       "1                                            78608.0                        \n",
       "2                                            43732.0                        \n",
       "3                                            94400.0                        \n",
       "4                                            28672.0                        \n",
       "\n",
       "  ORIGINAL COMBINED LOAN-TO-VALUE (CLTV) ORIGINAL DEBT TO INCOME RATIO MIN CREDIT SCORE  \\\n",
       "0                                          1751904.0                                      \n",
       "1                                          1629960.0                                      \n",
       "2                                          1170208.0                                      \n",
       "3                                          1880920.0                                      \n",
       "4                                           703360.0                                      \n",
       "\n",
       "  ORIGINAL COMBINED LOAN-TO-VALUE (CLTV) MIN CREDIT SCORE^2  \\\n",
       "0                                         49553856.0          \n",
       "1                                         33797700.0          \n",
       "2                                         31313152.0          \n",
       "3                                         37477331.0          \n",
       "4                                         17254300.0          \n",
       "\n",
       "  ORIGINAL DEBT TO INCOME RATIO^3  \\\n",
       "0                         21952.0   \n",
       "1                         39304.0   \n",
       "2                         24389.0   \n",
       "3                         64000.0   \n",
       "4                         32768.0   \n",
       "\n",
       "  ORIGINAL DEBT TO INCOME RATIO^2 MIN CREDIT SCORE  \\\n",
       "0                                         620928.0   \n",
       "1                                         814980.0   \n",
       "2                                         652616.0   \n",
       "3                                        1275200.0   \n",
       "4                                         803840.0   \n",
       "\n",
       "   ORIGINAL DEBT TO INCOME RATIO MIN CREDIT SCORE^2  MIN CREDIT SCORE^3  \n",
       "0                                        17563392.0         496793088.0  \n",
       "1                                        16898850.0         350402625.0  \n",
       "2                                        17463104.0         467288576.0  \n",
       "3                                        25408360.0         506261573.0  \n",
       "4                                        19719200.0         483736625.0  \n",
       "\n",
       "[5 rows x 98 columns]"
      ]
     },
     "execution_count": 4,
     "metadata": {},
     "output_type": "execute_result"
    }
   ],
   "source": [
    "poly = PolynomialFeatures(degree=3, include_bias=False)\n",
    "df_poly = pd.DataFrame(poly.fit_transform(df[continuous_features]), columns=poly.get_feature_names(continuous_features))\n",
    "df_poly = df_poly.drop(columns=continuous_features)\n",
    "df_poly = pd.concat([df, df_poly], axis=1)\n",
    "df_poly.head()"
   ]
  },
  {
   "cell_type": "code",
   "execution_count": 5,
   "metadata": {},
   "outputs": [],
   "source": [
    "categorical_features = ['ORIGINATION CHANNEL', 'SELLER NAME', 'FIRST TIME HOME BUYER INDICATOR', 'LOAN PURPOSE', \n",
    "                        'PROPERTY TYPE', 'OCCUPANCY TYPE', 'PROPERTY STATE', 'PRODUCT TYPE', 'RELOCATION MORTGAGE INDICATOR']"
   ]
  },
  {
   "cell_type": "code",
   "execution_count": 6,
   "metadata": {},
   "outputs": [
    {
     "data": {
      "text/plain": [
       "(504559, 169)"
      ]
     },
     "execution_count": 6,
     "metadata": {},
     "output_type": "execute_result"
    }
   ],
   "source": [
    "df_poly = pd.get_dummies(df_poly, columns=categorical_features, drop_first=True)\n",
    "df_poly.shape"
   ]
  },
  {
   "cell_type": "markdown",
   "metadata": {},
   "source": [
    "### Target number of observations  = features ^ 2\n",
    "- 112^2 = 12,544  \n",
    "\n",
    "Need to upsample minority and downsample majority"
   ]
  },
  {
   "cell_type": "code",
   "execution_count": 7,
   "metadata": {
    "scrolled": true
   },
   "outputs": [
    {
     "data": {
      "text/plain": [
       "0    502998\n",
       "1      1561\n",
       "Name: DEFAULT, dtype: int64"
      ]
     },
     "execution_count": 7,
     "metadata": {},
     "output_type": "execute_result"
    }
   ],
   "source": [
    "df['DEFAULT'].value_counts()"
   ]
  },
  {
   "cell_type": "code",
   "execution_count": 8,
   "metadata": {},
   "outputs": [
    {
     "data": {
      "text/plain": [
       "1    36912\n",
       "0    36912\n",
       "Name: DEFAULT, dtype: int64"
      ]
     },
     "execution_count": 8,
     "metadata": {},
     "output_type": "execute_result"
    }
   ],
   "source": [
    "# balance targets\n",
    "# split classes\n",
    "df_maj = df_poly[df_poly['DEFAULT'] == 0]\n",
    "df_min = df_poly[df_poly['DEFAULT'] == 1]\n",
    "\n",
    "# upsample minority\n",
    "df_min_resample = resample(df_min,\n",
    "                           replace=True,\n",
    "                           n_samples=int(len(df_poly.columns)**2.05),\n",
    "                           random_state=42)\n",
    "\n",
    "# downsample majority\n",
    "df_maj_resample = resample(df_maj, \n",
    "                           replace=False,    \n",
    "                           n_samples=df_min_resample.shape[0],\n",
    "                           random_state=42)             \n",
    "\n",
    "\n",
    "# concat downsample and minority\n",
    "df_resample = pd.concat([df_maj_resample, df_min_resample])\n",
    " \n",
    "# Display new class counts\n",
    "df_resample['DEFAULT'].value_counts()"
   ]
  },
  {
   "cell_type": "code",
   "execution_count": 9,
   "metadata": {},
   "outputs": [],
   "source": [
    "# train test split\n",
    "X = df_resample.drop(columns=['DEFAULT'])\n",
    "y = df_resample['DEFAULT']\n",
    "\n",
    "X_train, X_test, y_train, y_test = train_test_split(X, y,\n",
    "                                                    stratify=y,\n",
    "                                                    shuffle=True,\n",
    "                                                    random_state=42)"
   ]
  },
  {
   "cell_type": "code",
   "execution_count": 10,
   "metadata": {},
   "outputs": [],
   "source": [
    "ss = StandardScaler()\n",
    "ss.fit(X_train, y_train)\n",
    "X_train_sc = ss.transform(X_train)\n",
    "X_test_sc = ss.transform(X_test)"
   ]
  },
  {
   "cell_type": "markdown",
   "metadata": {},
   "source": [
    "## Logistic Classifier"
   ]
  },
  {
   "cell_type": "code",
   "execution_count": 11,
   "metadata": {},
   "outputs": [
    {
     "data": {
      "text/plain": [
       "GridSearchCV(cv=5, error_score='raise',\n",
       "       estimator=LogisticRegression(C=1.0, class_weight=None, dual=False, fit_intercept=True,\n",
       "          intercept_scaling=1, max_iter=100, multi_class='ovr', n_jobs=1,\n",
       "          penalty='l2', random_state=None, solver='liblinear', tol=0.0001,\n",
       "          verbose=0, warm_start=False),\n",
       "       fit_params=None, iid=True, n_jobs=-1,\n",
       "       param_grid={'penalty': ['l1', 'l2'], 'C': [0.1, 0.2, 0.3, 0.4]},\n",
       "       pre_dispatch='2*n_jobs', refit=True, return_train_score=True,\n",
       "       scoring=None, verbose=0)"
      ]
     },
     "execution_count": 11,
     "metadata": {},
     "output_type": "execute_result"
    }
   ],
   "source": [
    "params = {\n",
    "    'penalty': ['l1', 'l2'],\n",
    "    'C': [0.1, 0.2, 0.3, 0.4]\n",
    "}\n",
    "\n",
    "grid_log_cv = GridSearchCV(LogisticRegression(), params, cv=5, return_train_score=True, n_jobs=-1)\n",
    "grid_log_cv.fit(X_train_sc, y_train)"
   ]
  },
  {
   "cell_type": "code",
   "execution_count": 12,
   "metadata": {},
   "outputs": [
    {
     "data": {
      "text/plain": [
       "{'C': 0.4, 'penalty': 'l1'}"
      ]
     },
     "execution_count": 12,
     "metadata": {},
     "output_type": "execute_result"
    }
   ],
   "source": [
    "grid_log_cv.best_params_"
   ]
  },
  {
   "cell_type": "code",
   "execution_count": 13,
   "metadata": {},
   "outputs": [
    {
     "data": {
      "text/plain": [
       "0.7805591677503251"
      ]
     },
     "execution_count": 13,
     "metadata": {},
     "output_type": "execute_result"
    }
   ],
   "source": [
    "grid_log_cv.best_score_"
   ]
  },
  {
   "cell_type": "code",
   "execution_count": 14,
   "metadata": {},
   "outputs": [],
   "source": [
    "log_opt = grid_log_cv.best_estimator_"
   ]
  },
  {
   "cell_type": "code",
   "execution_count": 15,
   "metadata": {},
   "outputs": [
    {
     "data": {
      "text/plain": [
       "0.7816970091027308"
      ]
     },
     "execution_count": 15,
     "metadata": {},
     "output_type": "execute_result"
    }
   ],
   "source": [
    "log_opt.score(X_test_sc, y_test)"
   ]
  },
  {
   "cell_type": "code",
   "execution_count": 40,
   "metadata": {},
   "outputs": [],
   "source": [
    "features = pd.DataFrame(log_opt.coef_, index=['Coefs']).T"
   ]
  },
  {
   "cell_type": "code",
   "execution_count": 41,
   "metadata": {},
   "outputs": [],
   "source": [
    "features['Features'] = X.columns\n",
    "features['DefaultProb'] = features['Coefs'].map(lambda x: np.exp(x))"
   ]
  },
  {
   "cell_type": "code",
   "execution_count": 42,
   "metadata": {},
   "outputs": [],
   "source": [
    "pd.set_option('display.max_colwidth', -1)"
   ]
  },
  {
   "cell_type": "code",
   "execution_count": 43,
   "metadata": {},
   "outputs": [
    {
     "data": {
      "text/html": [
       "<div>\n",
       "<style scoped>\n",
       "    .dataframe tbody tr th:only-of-type {\n",
       "        vertical-align: middle;\n",
       "    }\n",
       "\n",
       "    .dataframe tbody tr th {\n",
       "        vertical-align: top;\n",
       "    }\n",
       "\n",
       "    .dataframe thead th {\n",
       "        text-align: right;\n",
       "    }\n",
       "</style>\n",
       "<table border=\"1\" class=\"dataframe\">\n",
       "  <thead>\n",
       "    <tr style=\"text-align: right;\">\n",
       "      <th></th>\n",
       "      <th>Coefs</th>\n",
       "      <th>Features</th>\n",
       "      <th>DefaultProb</th>\n",
       "    </tr>\n",
       "  </thead>\n",
       "  <tbody>\n",
       "    <tr>\n",
       "      <th>53</th>\n",
       "      <td>-2.104007</td>\n",
       "      <td>ORIGINAL UPB^3</td>\n",
       "      <td>0.121967</td>\n",
       "    </tr>\n",
       "    <tr>\n",
       "      <th>42</th>\n",
       "      <td>-1.620308</td>\n",
       "      <td>ORIGINAL INTEREST RATE ORIGINAL UPB MIN CREDIT SCORE</td>\n",
       "      <td>0.197838</td>\n",
       "    </tr>\n",
       "    <tr>\n",
       "      <th>44</th>\n",
       "      <td>-1.514897</td>\n",
       "      <td>ORIGINAL INTEREST RATE ORIGINAL LOAN-TO-VALUE (LTV) ORIGINAL COMBINED LOAN-TO-VALUE (CLTV)</td>\n",
       "      <td>0.219831</td>\n",
       "    </tr>\n",
       "    <tr>\n",
       "      <th>28</th>\n",
       "      <td>-1.388698</td>\n",
       "      <td>ORIGINAL COMBINED LOAN-TO-VALUE (CLTV) MIN CREDIT SCORE</td>\n",
       "      <td>0.249400</td>\n",
       "    </tr>\n",
       "    <tr>\n",
       "      <th>2</th>\n",
       "      <td>-1.259733</td>\n",
       "      <td>ORIGINAL UPB</td>\n",
       "      <td>0.283730</td>\n",
       "    </tr>\n",
       "    <tr>\n",
       "      <th>55</th>\n",
       "      <td>-1.251780</td>\n",
       "      <td>ORIGINAL UPB^2 ORIGINAL COMBINED LOAN-TO-VALUE (CLTV)</td>\n",
       "      <td>0.285995</td>\n",
       "    </tr>\n",
       "    <tr>\n",
       "      <th>10</th>\n",
       "      <td>-0.902360</td>\n",
       "      <td>MIN CREDIT SCORE</td>\n",
       "      <td>0.405611</td>\n",
       "    </tr>\n",
       "    <tr>\n",
       "      <th>56</th>\n",
       "      <td>-0.804111</td>\n",
       "      <td>ORIGINAL UPB^2 ORIGINAL DEBT TO INCOME RATIO</td>\n",
       "      <td>0.447485</td>\n",
       "    </tr>\n",
       "    <tr>\n",
       "      <th>21</th>\n",
       "      <td>-0.700083</td>\n",
       "      <td>ORIGINAL UPB MIN CREDIT SCORE</td>\n",
       "      <td>0.496544</td>\n",
       "    </tr>\n",
       "    <tr>\n",
       "      <th>20</th>\n",
       "      <td>-0.670695</td>\n",
       "      <td>ORIGINAL UPB ORIGINAL DEBT TO INCOME RATIO</td>\n",
       "      <td>0.511353</td>\n",
       "    </tr>\n",
       "  </tbody>\n",
       "</table>\n",
       "</div>"
      ],
      "text/plain": [
       "       Coefs  \\\n",
       "53 -2.104007   \n",
       "42 -1.620308   \n",
       "44 -1.514897   \n",
       "28 -1.388698   \n",
       "2  -1.259733   \n",
       "55 -1.251780   \n",
       "10 -0.902360   \n",
       "56 -0.804111   \n",
       "21 -0.700083   \n",
       "20 -0.670695   \n",
       "\n",
       "                                                                                      Features  \\\n",
       "53  ORIGINAL UPB^3                                                                               \n",
       "42  ORIGINAL INTEREST RATE ORIGINAL UPB MIN CREDIT SCORE                                         \n",
       "44  ORIGINAL INTEREST RATE ORIGINAL LOAN-TO-VALUE (LTV) ORIGINAL COMBINED LOAN-TO-VALUE (CLTV)   \n",
       "28  ORIGINAL COMBINED LOAN-TO-VALUE (CLTV) MIN CREDIT SCORE                                      \n",
       "2   ORIGINAL UPB                                                                                 \n",
       "55  ORIGINAL UPB^2 ORIGINAL COMBINED LOAN-TO-VALUE (CLTV)                                        \n",
       "10  MIN CREDIT SCORE                                                                             \n",
       "56  ORIGINAL UPB^2 ORIGINAL DEBT TO INCOME RATIO                                                 \n",
       "21  ORIGINAL UPB MIN CREDIT SCORE                                                                \n",
       "20  ORIGINAL UPB ORIGINAL DEBT TO INCOME RATIO                                                   \n",
       "\n",
       "    DefaultProb  \n",
       "53  0.121967     \n",
       "42  0.197838     \n",
       "44  0.219831     \n",
       "28  0.249400     \n",
       "2   0.283730     \n",
       "55  0.285995     \n",
       "10  0.405611     \n",
       "56  0.447485     \n",
       "21  0.496544     \n",
       "20  0.511353     "
      ]
     },
     "execution_count": 43,
     "metadata": {},
     "output_type": "execute_result"
    }
   ],
   "source": [
    "features.sort_values(by='Coefs').head(10)"
   ]
  },
  {
   "cell_type": "code",
   "execution_count": 44,
   "metadata": {},
   "outputs": [
    {
     "data": {
      "text/html": [
       "<div>\n",
       "<style scoped>\n",
       "    .dataframe tbody tr th:only-of-type {\n",
       "        vertical-align: middle;\n",
       "    }\n",
       "\n",
       "    .dataframe tbody tr th {\n",
       "        vertical-align: top;\n",
       "    }\n",
       "\n",
       "    .dataframe thead th {\n",
       "        text-align: right;\n",
       "    }\n",
       "</style>\n",
       "<table border=\"1\" class=\"dataframe\">\n",
       "  <thead>\n",
       "    <tr style=\"text-align: right;\">\n",
       "      <th></th>\n",
       "      <th>Coefs</th>\n",
       "      <th>Features</th>\n",
       "      <th>DefaultProb</th>\n",
       "    </tr>\n",
       "  </thead>\n",
       "  <tbody>\n",
       "    <tr>\n",
       "      <th>85</th>\n",
       "      <td>0.709059</td>\n",
       "      <td>ORIGINAL DEBT TO INCOME RATIO^2 MIN CREDIT SCORE</td>\n",
       "      <td>2.032078</td>\n",
       "    </tr>\n",
       "    <tr>\n",
       "      <th>40</th>\n",
       "      <td>0.772726</td>\n",
       "      <td>ORIGINAL INTEREST RATE ORIGINAL UPB ORIGINAL COMBINED LOAN-TO-VALUE (CLTV)</td>\n",
       "      <td>2.165661</td>\n",
       "    </tr>\n",
       "    <tr>\n",
       "      <th>49</th>\n",
       "      <td>0.947573</td>\n",
       "      <td>ORIGINAL INTEREST RATE ORIGINAL COMBINED LOAN-TO-VALUE (CLTV) MIN CREDIT SCORE</td>\n",
       "      <td>2.579441</td>\n",
       "    </tr>\n",
       "    <tr>\n",
       "      <th>80</th>\n",
       "      <td>0.979216</td>\n",
       "      <td>ORIGINAL COMBINED LOAN-TO-VALUE (CLTV)^2 MIN CREDIT SCORE</td>\n",
       "      <td>2.662368</td>\n",
       "    </tr>\n",
       "    <tr>\n",
       "      <th>87</th>\n",
       "      <td>0.984795</td>\n",
       "      <td>MIN CREDIT SCORE^3</td>\n",
       "      <td>2.677263</td>\n",
       "    </tr>\n",
       "    <tr>\n",
       "      <th>13</th>\n",
       "      <td>1.023202</td>\n",
       "      <td>ORIGINAL INTEREST RATE ORIGINAL LOAN-TO-VALUE (LTV)</td>\n",
       "      <td>2.782088</td>\n",
       "    </tr>\n",
       "    <tr>\n",
       "      <th>41</th>\n",
       "      <td>1.115561</td>\n",
       "      <td>ORIGINAL INTEREST RATE ORIGINAL UPB ORIGINAL DEBT TO INCOME RATIO</td>\n",
       "      <td>3.051279</td>\n",
       "    </tr>\n",
       "    <tr>\n",
       "      <th>46</th>\n",
       "      <td>1.155019</td>\n",
       "      <td>ORIGINAL INTEREST RATE ORIGINAL LOAN-TO-VALUE (LTV) MIN CREDIT SCORE</td>\n",
       "      <td>3.174084</td>\n",
       "    </tr>\n",
       "    <tr>\n",
       "      <th>57</th>\n",
       "      <td>2.674859</td>\n",
       "      <td>ORIGINAL UPB^2 MIN CREDIT SCORE</td>\n",
       "      <td>14.510310</td>\n",
       "    </tr>\n",
       "    <tr>\n",
       "      <th>17</th>\n",
       "      <td>3.846629</td>\n",
       "      <td>ORIGINAL UPB^2</td>\n",
       "      <td>46.834939</td>\n",
       "    </tr>\n",
       "  </tbody>\n",
       "</table>\n",
       "</div>"
      ],
      "text/plain": [
       "       Coefs  \\\n",
       "85  0.709059   \n",
       "40  0.772726   \n",
       "49  0.947573   \n",
       "80  0.979216   \n",
       "87  0.984795   \n",
       "13  1.023202   \n",
       "41  1.115561   \n",
       "46  1.155019   \n",
       "57  2.674859   \n",
       "17  3.846629   \n",
       "\n",
       "                                                                          Features  \\\n",
       "85  ORIGINAL DEBT TO INCOME RATIO^2 MIN CREDIT SCORE                                 \n",
       "40  ORIGINAL INTEREST RATE ORIGINAL UPB ORIGINAL COMBINED LOAN-TO-VALUE (CLTV)       \n",
       "49  ORIGINAL INTEREST RATE ORIGINAL COMBINED LOAN-TO-VALUE (CLTV) MIN CREDIT SCORE   \n",
       "80  ORIGINAL COMBINED LOAN-TO-VALUE (CLTV)^2 MIN CREDIT SCORE                        \n",
       "87  MIN CREDIT SCORE^3                                                               \n",
       "13  ORIGINAL INTEREST RATE ORIGINAL LOAN-TO-VALUE (LTV)                              \n",
       "41  ORIGINAL INTEREST RATE ORIGINAL UPB ORIGINAL DEBT TO INCOME RATIO                \n",
       "46  ORIGINAL INTEREST RATE ORIGINAL LOAN-TO-VALUE (LTV) MIN CREDIT SCORE             \n",
       "57  ORIGINAL UPB^2 MIN CREDIT SCORE                                                  \n",
       "17  ORIGINAL UPB^2                                                                   \n",
       "\n",
       "    DefaultProb  \n",
       "85  2.032078     \n",
       "40  2.165661     \n",
       "49  2.579441     \n",
       "80  2.662368     \n",
       "87  2.677263     \n",
       "13  2.782088     \n",
       "41  3.051279     \n",
       "46  3.174084     \n",
       "57  14.510310    \n",
       "17  46.834939    "
      ]
     },
     "execution_count": 44,
     "metadata": {},
     "output_type": "execute_result"
    }
   ],
   "source": [
    "features.sort_values(by='Coefs').tail(10)"
   ]
  },
  {
   "cell_type": "code",
   "execution_count": 20,
   "metadata": {},
   "outputs": [],
   "source": [
    "y_pred = log_opt.predict(X_test_sc)"
   ]
  },
  {
   "cell_type": "code",
   "execution_count": 21,
   "metadata": {},
   "outputs": [],
   "source": [
    "def false_negative_rate(fn, tp):\n",
    "    return fn/(tp+fn)\n",
    "\n",
    "def accuracy(tn, tp, y_test):\n",
    "    return (tn + tp)/len(y_test)"
   ]
  },
  {
   "cell_type": "code",
   "execution_count": 22,
   "metadata": {},
   "outputs": [
    {
     "data": {
      "text/plain": [
       "array([[6967, 2261],\n",
       "       [1768, 7460]], dtype=int64)"
      ]
     },
     "execution_count": 22,
     "metadata": {},
     "output_type": "execute_result"
    }
   ],
   "source": [
    "confusion_matrix(y_test, y_pred)"
   ]
  },
  {
   "cell_type": "code",
   "execution_count": 23,
   "metadata": {},
   "outputs": [],
   "source": [
    "tn, fp, fn, tp = confusion_matrix(y_test, y_pred).ravel()"
   ]
  },
  {
   "cell_type": "code",
   "execution_count": 24,
   "metadata": {},
   "outputs": [
    {
     "data": {
      "text/plain": [
       "0.1915908105765063"
      ]
     },
     "execution_count": 24,
     "metadata": {},
     "output_type": "execute_result"
    }
   ],
   "source": [
    "false_negative_rate(fn, tp)"
   ]
  },
  {
   "cell_type": "code",
   "execution_count": 25,
   "metadata": {},
   "outputs": [
    {
     "data": {
      "text/plain": [
       "0.7816970091027308"
      ]
     },
     "execution_count": 25,
     "metadata": {},
     "output_type": "execute_result"
    }
   ],
   "source": [
    "accuracy(tn, tp, y_test)"
   ]
  },
  {
   "cell_type": "code",
   "execution_count": 26,
   "metadata": {},
   "outputs": [
    {
     "data": {
      "text/html": [
       "<div>\n",
       "<style scoped>\n",
       "    .dataframe tbody tr th:only-of-type {\n",
       "        vertical-align: middle;\n",
       "    }\n",
       "\n",
       "    .dataframe tbody tr th {\n",
       "        vertical-align: top;\n",
       "    }\n",
       "\n",
       "    .dataframe thead th {\n",
       "        text-align: right;\n",
       "    }\n",
       "</style>\n",
       "<table border=\"1\" class=\"dataframe\">\n",
       "  <thead>\n",
       "    <tr style=\"text-align: right;\">\n",
       "      <th></th>\n",
       "      <th>NO DEFAULT</th>\n",
       "      <th>DEFAULT</th>\n",
       "      <th>y_pred</th>\n",
       "      <th>y_pred_adj</th>\n",
       "    </tr>\n",
       "  </thead>\n",
       "  <tbody>\n",
       "    <tr>\n",
       "      <th>0</th>\n",
       "      <td>0.435455</td>\n",
       "      <td>0.564545</td>\n",
       "      <td>1</td>\n",
       "      <td>1</td>\n",
       "    </tr>\n",
       "    <tr>\n",
       "      <th>1</th>\n",
       "      <td>0.165299</td>\n",
       "      <td>0.834701</td>\n",
       "      <td>1</td>\n",
       "      <td>1</td>\n",
       "    </tr>\n",
       "    <tr>\n",
       "      <th>2</th>\n",
       "      <td>0.297912</td>\n",
       "      <td>0.702088</td>\n",
       "      <td>1</td>\n",
       "      <td>1</td>\n",
       "    </tr>\n",
       "    <tr>\n",
       "      <th>3</th>\n",
       "      <td>0.804277</td>\n",
       "      <td>0.195723</td>\n",
       "      <td>0</td>\n",
       "      <td>1</td>\n",
       "    </tr>\n",
       "    <tr>\n",
       "      <th>4</th>\n",
       "      <td>0.054671</td>\n",
       "      <td>0.945329</td>\n",
       "      <td>1</td>\n",
       "      <td>1</td>\n",
       "    </tr>\n",
       "  </tbody>\n",
       "</table>\n",
       "</div>"
      ],
      "text/plain": [
       "   NO DEFAULT   DEFAULT  y_pred  y_pred_adj\n",
       "0    0.435455  0.564545       1           1\n",
       "1    0.165299  0.834701       1           1\n",
       "2    0.297912  0.702088       1           1\n",
       "3    0.804277  0.195723       0           1\n",
       "4    0.054671  0.945329       1           1"
      ]
     },
     "execution_count": 26,
     "metadata": {},
     "output_type": "execute_result"
    }
   ],
   "source": [
    "df_pred = pd.DataFrame(log_opt.predict_proba(X_test_sc), columns=['NO DEFAULT', 'DEFAULT'])\n",
    "df_pred['y_pred'] = y_pred\n",
    "df_pred['y_pred_adj'] = df_pred['DEFAULT'].map(lambda x: 1 if x >= 0.05 else 0)\n",
    "df_pred.head()"
   ]
  },
  {
   "cell_type": "code",
   "execution_count": 27,
   "metadata": {},
   "outputs": [
    {
     "data": {
      "text/plain": [
       "array([[1481, 7747],\n",
       "       [  42, 9186]], dtype=int64)"
      ]
     },
     "execution_count": 27,
     "metadata": {},
     "output_type": "execute_result"
    }
   ],
   "source": [
    "confusion_matrix(y_test, df_pred['y_pred_adj'])"
   ]
  },
  {
   "cell_type": "code",
   "execution_count": 28,
   "metadata": {},
   "outputs": [],
   "source": [
    "tn, fp, fn, tp = confusion_matrix(y_test, df_pred['y_pred_adj']).ravel()"
   ]
  },
  {
   "cell_type": "code",
   "execution_count": 29,
   "metadata": {},
   "outputs": [
    {
     "data": {
      "text/plain": [
       "0.004551365409622887"
      ]
     },
     "execution_count": 29,
     "metadata": {},
     "output_type": "execute_result"
    }
   ],
   "source": [
    "false_negative_rate(fn, tp)"
   ]
  },
  {
   "cell_type": "code",
   "execution_count": 30,
   "metadata": {},
   "outputs": [
    {
     "data": {
      "text/plain": [
       "0.5779692241005635"
      ]
     },
     "execution_count": 30,
     "metadata": {},
     "output_type": "execute_result"
    }
   ],
   "source": [
    "accuracy(tn, tp, y_test)"
   ]
  },
  {
   "cell_type": "markdown",
   "metadata": {},
   "source": [
    "__Insight:__\n",
    "The interaction features that were engineered increased the accuracy of the logistic model from 0.72 to 0.78.  However, an acceptable false negative rate is not obtainable without a huge loss of accurary and Non-Default misclassification."
   ]
  },
  {
   "cell_type": "markdown",
   "metadata": {},
   "source": [
    "## Neural Network"
   ]
  },
  {
   "cell_type": "code",
   "execution_count": 31,
   "metadata": {},
   "outputs": [
    {
     "name": "stdout",
     "output_type": "stream",
     "text": [
      "Train on 55368 samples, validate on 18456 samples\n",
      "Epoch 1/100\n",
      "55368/55368 [==============================] - 4s 64us/step - loss: 0.4349 - acc: 0.8020 - val_loss: 0.3578 - val_acc: 0.8486\n",
      "Epoch 2/100\n",
      "55368/55368 [==============================] - 3s 58us/step - loss: 0.3264 - acc: 0.8644 - val_loss: 0.2761 - val_acc: 0.8928\n",
      "Epoch 3/100\n",
      "55368/55368 [==============================] - 3s 59us/step - loss: 0.2530 - acc: 0.9021 - val_loss: 0.2153 - val_acc: 0.9263\n",
      "Epoch 4/100\n",
      "55368/55368 [==============================] - 3s 57us/step - loss: 0.2049 - acc: 0.9238 - val_loss: 0.1771 - val_acc: 0.9360\n",
      "Epoch 5/100\n",
      "55368/55368 [==============================] - 3s 57us/step - loss: 0.1760 - acc: 0.9358 - val_loss: 0.1685 - val_acc: 0.9399\n",
      "Epoch 6/100\n",
      "55368/55368 [==============================] - 3s 59us/step - loss: 0.1521 - acc: 0.9457 - val_loss: 0.1613 - val_acc: 0.9423\n",
      "Epoch 7/100\n",
      "55368/55368 [==============================] - 3s 58us/step - loss: 0.1329 - acc: 0.9529 - val_loss: 0.1336 - val_acc: 0.9578\n",
      "Epoch 8/100\n",
      "55368/55368 [==============================] - 3s 58us/step - loss: 0.1230 - acc: 0.9575 - val_loss: 0.1168 - val_acc: 0.9637\n",
      "Epoch 9/100\n",
      "55368/55368 [==============================] - 3s 58us/step - loss: 0.1099 - acc: 0.9611 - val_loss: 0.1122 - val_acc: 0.9651\n",
      "Epoch 10/100\n",
      "55368/55368 [==============================] - 3s 59us/step - loss: 0.1016 - acc: 0.9647 - val_loss: 0.1419 - val_acc: 0.9539\n",
      "Epoch 11/100\n",
      "55368/55368 [==============================] - 3s 58us/step - loss: 0.0952 - acc: 0.9674 - val_loss: 0.1201 - val_acc: 0.9591\n"
     ]
    }
   ],
   "source": [
    "num = X_train_sc.shape[1]\n",
    "\n",
    "nn = Sequential()\n",
    "\n",
    "nn.add(Dense(num, activation='relu', input_dim=num))\n",
    "nn.add(Dropout(0.1))\n",
    "nn.add(Dense(int(num/2), activation='relu'))\n",
    "nn.add(Dense(1, activation='sigmoid'))\n",
    "\n",
    "nn.compile(optimizer='adam', loss='binary_crossentropy', metrics=['accuracy'])\n",
    "\n",
    "early = EarlyStopping(monitor='val_loss', min_delta=0, patience=2)\n",
    "\n",
    "nn_result = nn.fit(X_train_sc, y_train, epochs=100, validation_data=(X_test_sc, y_test), callbacks=[early])"
   ]
  },
  {
   "cell_type": "code",
   "execution_count": 32,
   "metadata": {},
   "outputs": [
    {
     "data": {
      "text/html": [
       "<div>\n",
       "<style scoped>\n",
       "    .dataframe tbody tr th:only-of-type {\n",
       "        vertical-align: middle;\n",
       "    }\n",
       "\n",
       "    .dataframe tbody tr th {\n",
       "        vertical-align: top;\n",
       "    }\n",
       "\n",
       "    .dataframe thead th {\n",
       "        text-align: right;\n",
       "    }\n",
       "</style>\n",
       "<table border=\"1\" class=\"dataframe\">\n",
       "  <thead>\n",
       "    <tr style=\"text-align: right;\">\n",
       "      <th></th>\n",
       "      <th>DEFAULT</th>\n",
       "      <th>y_pred</th>\n",
       "      <th>y_pred_adj</th>\n",
       "    </tr>\n",
       "  </thead>\n",
       "  <tbody>\n",
       "    <tr>\n",
       "      <th>0</th>\n",
       "      <td>9.970945e-01</td>\n",
       "      <td>1</td>\n",
       "      <td>1</td>\n",
       "    </tr>\n",
       "    <tr>\n",
       "      <th>1</th>\n",
       "      <td>7.283272e-01</td>\n",
       "      <td>1</td>\n",
       "      <td>1</td>\n",
       "    </tr>\n",
       "    <tr>\n",
       "      <th>2</th>\n",
       "      <td>9.998760e-01</td>\n",
       "      <td>1</td>\n",
       "      <td>1</td>\n",
       "    </tr>\n",
       "    <tr>\n",
       "      <th>3</th>\n",
       "      <td>4.637454e-09</td>\n",
       "      <td>0</td>\n",
       "      <td>0</td>\n",
       "    </tr>\n",
       "    <tr>\n",
       "      <th>4</th>\n",
       "      <td>8.673341e-01</td>\n",
       "      <td>1</td>\n",
       "      <td>1</td>\n",
       "    </tr>\n",
       "  </tbody>\n",
       "</table>\n",
       "</div>"
      ],
      "text/plain": [
       "        DEFAULT  y_pred  y_pred_adj\n",
       "0  9.970945e-01       1           1\n",
       "1  7.283272e-01       1           1\n",
       "2  9.998760e-01       1           1\n",
       "3  4.637454e-09       0           0\n",
       "4  8.673341e-01       1           1"
      ]
     },
     "execution_count": 32,
     "metadata": {},
     "output_type": "execute_result"
    }
   ],
   "source": [
    "df_pred_nn = pd.DataFrame(nn.predict_proba(X_test_sc), columns=['DEFAULT'])\n",
    "df_pred_nn['y_pred'] = nn.predict_classes(X_test_sc)\n",
    "df_pred_nn['y_pred_adj'] = df_pred_nn['DEFAULT'].map(lambda x: 1 if x >= 0.3 else 0)\n",
    "df_pred_nn.head()"
   ]
  },
  {
   "cell_type": "code",
   "execution_count": 33,
   "metadata": {},
   "outputs": [
    {
     "data": {
      "text/plain": [
       "array([[8329,  899],\n",
       "       [  14, 9214]], dtype=int64)"
      ]
     },
     "execution_count": 33,
     "metadata": {},
     "output_type": "execute_result"
    }
   ],
   "source": [
    "confusion_matrix(y_test, df_pred_nn['y_pred_adj'])"
   ]
  },
  {
   "cell_type": "code",
   "execution_count": 34,
   "metadata": {},
   "outputs": [],
   "source": [
    "tn, fp, fn, tp = confusion_matrix(y_test, df_pred_nn['y_pred_adj']).ravel()"
   ]
  },
  {
   "cell_type": "code",
   "execution_count": 35,
   "metadata": {},
   "outputs": [
    {
     "data": {
      "text/plain": [
       "0.001517121803207629"
      ]
     },
     "execution_count": 35,
     "metadata": {},
     "output_type": "execute_result"
    }
   ],
   "source": [
    "false_negative_rate(fn, tp)"
   ]
  },
  {
   "cell_type": "code",
   "execution_count": 36,
   "metadata": {},
   "outputs": [
    {
     "data": {
      "text/plain": [
       "0.9505309926311226"
      ]
     },
     "execution_count": 36,
     "metadata": {},
     "output_type": "execute_result"
    }
   ],
   "source": [
    "accuracy(tn, tp, y_test)"
   ]
  },
  {
   "cell_type": "markdown",
   "metadata": {},
   "source": [
    "## Conclusion\n",
    "The neural network model with an adjusted threshold of 0.3 is able to obtain 0.90 accuracy and a false negative rate of 0.074% which far surpasses the benchmark of 0.309%.  For reference, Fannie Mae would be able to avoid 235 defaulted loans using this model.  Using an average of $50,000 loss per default, this would equate to a loss avoidance of \\$11,750,000 per 100,000 loans."
   ]
  },
  {
   "cell_type": "code",
   "execution_count": null,
   "metadata": {},
   "outputs": [],
   "source": []
  }
 ],
 "metadata": {
  "kernelspec": {
   "display_name": "Python [conda env:dsi]",
   "language": "python",
   "name": "conda-env-dsi-py"
  },
  "language_info": {
   "codemirror_mode": {
    "name": "ipython",
    "version": 3
   },
   "file_extension": ".py",
   "mimetype": "text/x-python",
   "name": "python",
   "nbconvert_exporter": "python",
   "pygments_lexer": "ipython3",
   "version": "3.6.5"
  }
 },
 "nbformat": 4,
 "nbformat_minor": 2
}
