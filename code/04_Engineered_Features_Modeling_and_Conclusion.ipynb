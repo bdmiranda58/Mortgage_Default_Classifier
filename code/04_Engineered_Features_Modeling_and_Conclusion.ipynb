{
 "cells": [
  {
   "cell_type": "markdown",
   "metadata": {},
   "source": [
    "<img style=\"float: left;\" src=\"../images/fanniemae.png\">\n",
    "<br><br><br><br><br><br>\n",
    "______"
   ]
  },
  {
   "cell_type": "markdown",
   "metadata": {},
   "source": [
    "# Mortgage Loan Default Classifier\n",
    "____________\n",
    "____________"
   ]
  },
  {
   "cell_type": "markdown",
   "metadata": {},
   "source": [
    "## Problem Statement:\n",
    "_____________\n",
    "Fannie Mae, or more specifically the Federal National Mortgage Association (FNMA), is a government sponsored entity whose primary goal is to raise home ownership and affordable housing levels.  Fannie Mae attempts to accomplish this in essence by purchasing mortgage loans within certain parameters from mortgage lenders.  In turn, mortgage lenders are provided cash flow to issue additional mortgages.<br>\n",
    "\n",
    "The cause of the Financial Crisis of 2008 can in part be drawn back to the purchase of mortgage loans with an actual probability of default that were higher than assumed.  By creating a classification model that will predict whether a mortgage loan will default based on pre-purchase characteristics, Fannie Mae may better avoid high risk mortgage loans.  The model will be evaluated based on Accuracy and False Negative Rate.  In this particular case, the \"positive\" class will be loans that default therefore, we will seek to minimize the False Negative Rate while maximizing Accuracy."
   ]
  },
  {
   "cell_type": "markdown",
   "metadata": {},
   "source": [
    "## Engineered Features, Production Model, and Conclusion\n",
    "___________\n",
    "In order to render a better accuracy and false negative rate interaction features and a neural network will be introduced.  Correlation between continuous features and whether a loan default were minimal.  By using PolynomialFeatures, the model can investgate whether the interaction between these features are of more importance than the feature alone.  Additional, a neural network wil be introduced to increase accuracy and decrease the false negative rate.  A logistic regressor has an advantage of being able to indentify key features that have the greatest influence in determining whether a loan will default.  However, as evidenced by the base model, it may not be able to reach the accuracy needed to be a successful model.  A neural network does not have the interpretability inherent in the logistic model however, it has been shown to highly accurate because of their ability to generalise and respond to unexpected patterns. The high degree of inaction between features in this dataset may make a neural network the right choice in this situation."
   ]
  },
  {
   "cell_type": "code",
   "execution_count": 1,
   "metadata": {},
   "outputs": [
    {
     "name": "stderr",
     "output_type": "stream",
     "text": [
      "Using TensorFlow backend.\n"
     ]
    }
   ],
   "source": [
    "import pandas as pd\n",
    "import numpy as np\n",
    "import seaborn as sns\n",
    "import matplotlib.pyplot as plt\n",
    "\n",
    "from sklearn.utils import resample\n",
    "from sklearn.linear_model import LogisticRegression\n",
    "from sklearn.model_selection import train_test_split, cross_val_score, GridSearchCV\n",
    "from sklearn.preprocessing import StandardScaler, PolynomialFeatures \n",
    "from sklearn.metrics import confusion_matrix\n",
    "\n",
    "from keras.models import Sequential\n",
    "from keras.layers import Dense, Dropout\n",
    "from keras import regularizers\n",
    "from keras.callbacks import EarlyStopping\n",
    "\n",
    "%matplotlib inline"
   ]
  },
  {
   "cell_type": "code",
   "execution_count": 2,
   "metadata": {},
   "outputs": [
    {
     "data": {
      "text/html": [
       "<div>\n",
       "<style scoped>\n",
       "    .dataframe tbody tr th:only-of-type {\n",
       "        vertical-align: middle;\n",
       "    }\n",
       "\n",
       "    .dataframe tbody tr th {\n",
       "        vertical-align: top;\n",
       "    }\n",
       "\n",
       "    .dataframe thead th {\n",
       "        text-align: right;\n",
       "    }\n",
       "</style>\n",
       "<table border=\"1\" class=\"dataframe\">\n",
       "  <thead>\n",
       "    <tr style=\"text-align: right;\">\n",
       "      <th></th>\n",
       "      <th>LOAN IDENTIFIER</th>\n",
       "      <th>ORIGINATION CHANNEL</th>\n",
       "      <th>SELLER NAME</th>\n",
       "      <th>ORIGINAL INTEREST RATE</th>\n",
       "      <th>ORIGINAL UPB</th>\n",
       "      <th>ORIGINAL LOAN TERM</th>\n",
       "      <th>ORIGINAL LOAN-TO-VALUE (LTV)</th>\n",
       "      <th>ORIGINAL COMBINED LOAN-TO-VALUE (CLTV)</th>\n",
       "      <th>NUMBER OF BORROWERS</th>\n",
       "      <th>ORIGINAL DEBT TO INCOME RATIO</th>\n",
       "      <th>...</th>\n",
       "      <th>LOAN PURPOSE</th>\n",
       "      <th>PROPERTY TYPE</th>\n",
       "      <th>NUMBER OF UNITS</th>\n",
       "      <th>OCCUPANCY TYPE</th>\n",
       "      <th>PROPERTY STATE</th>\n",
       "      <th>PRODUCT TYPE</th>\n",
       "      <th>RELOCATION MORTGAGE INDICATOR</th>\n",
       "      <th>DEFAULT</th>\n",
       "      <th>MI</th>\n",
       "      <th>MIN CREDIT SCORE</th>\n",
       "    </tr>\n",
       "  </thead>\n",
       "  <tbody>\n",
       "    <tr>\n",
       "      <th>0</th>\n",
       "      <td>100000841305</td>\n",
       "      <td>C</td>\n",
       "      <td>CITIMORTGAGE, INC.</td>\n",
       "      <td>4.125</td>\n",
       "      <td>124000</td>\n",
       "      <td>360</td>\n",
       "      <td>79</td>\n",
       "      <td>79.0</td>\n",
       "      <td>1.0</td>\n",
       "      <td>28.0</td>\n",
       "      <td>...</td>\n",
       "      <td>R</td>\n",
       "      <td>SF</td>\n",
       "      <td>1</td>\n",
       "      <td>P</td>\n",
       "      <td>TX</td>\n",
       "      <td>FRM</td>\n",
       "      <td>N</td>\n",
       "      <td>0</td>\n",
       "      <td>0.0</td>\n",
       "      <td>792.0</td>\n",
       "    </tr>\n",
       "    <tr>\n",
       "      <th>1</th>\n",
       "      <td>100001889356</td>\n",
       "      <td>R</td>\n",
       "      <td>OTHER</td>\n",
       "      <td>4.625</td>\n",
       "      <td>115000</td>\n",
       "      <td>240</td>\n",
       "      <td>68</td>\n",
       "      <td>68.0</td>\n",
       "      <td>1.0</td>\n",
       "      <td>34.0</td>\n",
       "      <td>...</td>\n",
       "      <td>C</td>\n",
       "      <td>SF</td>\n",
       "      <td>1</td>\n",
       "      <td>P</td>\n",
       "      <td>IL</td>\n",
       "      <td>FRM</td>\n",
       "      <td>N</td>\n",
       "      <td>0</td>\n",
       "      <td>0.0</td>\n",
       "      <td>705.0</td>\n",
       "    </tr>\n",
       "    <tr>\n",
       "      <th>2</th>\n",
       "      <td>100006453372</td>\n",
       "      <td>C</td>\n",
       "      <td>BANK OF AMERICA, N.A.</td>\n",
       "      <td>4.375</td>\n",
       "      <td>175000</td>\n",
       "      <td>360</td>\n",
       "      <td>52</td>\n",
       "      <td>52.0</td>\n",
       "      <td>2.0</td>\n",
       "      <td>29.0</td>\n",
       "      <td>...</td>\n",
       "      <td>C</td>\n",
       "      <td>PU</td>\n",
       "      <td>1</td>\n",
       "      <td>S</td>\n",
       "      <td>AZ</td>\n",
       "      <td>FRM</td>\n",
       "      <td>N</td>\n",
       "      <td>0</td>\n",
       "      <td>0.0</td>\n",
       "      <td>776.0</td>\n",
       "    </tr>\n",
       "    <tr>\n",
       "      <th>3</th>\n",
       "      <td>100010656545</td>\n",
       "      <td>C</td>\n",
       "      <td>BANK OF AMERICA, N.A.</td>\n",
       "      <td>4.375</td>\n",
       "      <td>365000</td>\n",
       "      <td>360</td>\n",
       "      <td>59</td>\n",
       "      <td>59.0</td>\n",
       "      <td>3.0</td>\n",
       "      <td>40.0</td>\n",
       "      <td>...</td>\n",
       "      <td>C</td>\n",
       "      <td>PU</td>\n",
       "      <td>1</td>\n",
       "      <td>P</td>\n",
       "      <td>IL</td>\n",
       "      <td>FRM</td>\n",
       "      <td>N</td>\n",
       "      <td>0</td>\n",
       "      <td>0.0</td>\n",
       "      <td>797.0</td>\n",
       "    </tr>\n",
       "    <tr>\n",
       "      <th>4</th>\n",
       "      <td>100010758624</td>\n",
       "      <td>R</td>\n",
       "      <td>CITIMORTGAGE, INC.</td>\n",
       "      <td>3.875</td>\n",
       "      <td>69000</td>\n",
       "      <td>120</td>\n",
       "      <td>28</td>\n",
       "      <td>28.0</td>\n",
       "      <td>1.0</td>\n",
       "      <td>32.0</td>\n",
       "      <td>...</td>\n",
       "      <td>C</td>\n",
       "      <td>SF</td>\n",
       "      <td>1</td>\n",
       "      <td>P</td>\n",
       "      <td>SC</td>\n",
       "      <td>FRM</td>\n",
       "      <td>N</td>\n",
       "      <td>0</td>\n",
       "      <td>0.0</td>\n",
       "      <td>785.0</td>\n",
       "    </tr>\n",
       "  </tbody>\n",
       "</table>\n",
       "<p>5 rows × 21 columns</p>\n",
       "</div>"
      ],
      "text/plain": [
       "   LOAN IDENTIFIER ORIGINATION CHANNEL            SELLER NAME  \\\n",
       "0     100000841305                   C     CITIMORTGAGE, INC.   \n",
       "1     100001889356                   R                  OTHER   \n",
       "2     100006453372                   C  BANK OF AMERICA, N.A.   \n",
       "3     100010656545                   C  BANK OF AMERICA, N.A.   \n",
       "4     100010758624                   R     CITIMORTGAGE, INC.   \n",
       "\n",
       "   ORIGINAL INTEREST RATE  ORIGINAL UPB  ORIGINAL LOAN TERM  \\\n",
       "0                   4.125        124000                 360   \n",
       "1                   4.625        115000                 240   \n",
       "2                   4.375        175000                 360   \n",
       "3                   4.375        365000                 360   \n",
       "4                   3.875         69000                 120   \n",
       "\n",
       "   ORIGINAL LOAN-TO-VALUE (LTV)  ORIGINAL COMBINED LOAN-TO-VALUE (CLTV)  \\\n",
       "0                            79                                    79.0   \n",
       "1                            68                                    68.0   \n",
       "2                            52                                    52.0   \n",
       "3                            59                                    59.0   \n",
       "4                            28                                    28.0   \n",
       "\n",
       "   NUMBER OF BORROWERS  ORIGINAL DEBT TO INCOME RATIO        ...         \\\n",
       "0                  1.0                           28.0        ...          \n",
       "1                  1.0                           34.0        ...          \n",
       "2                  2.0                           29.0        ...          \n",
       "3                  3.0                           40.0        ...          \n",
       "4                  1.0                           32.0        ...          \n",
       "\n",
       "  LOAN PURPOSE PROPERTY TYPE NUMBER OF UNITS  OCCUPANCY TYPE PROPERTY STATE  \\\n",
       "0            R            SF               1               P             TX   \n",
       "1            C            SF               1               P             IL   \n",
       "2            C            PU               1               S             AZ   \n",
       "3            C            PU               1               P             IL   \n",
       "4            C            SF               1               P             SC   \n",
       "\n",
       "  PRODUCT TYPE RELOCATION MORTGAGE INDICATOR DEFAULT   MI  MIN CREDIT SCORE  \n",
       "0          FRM                             N       0  0.0             792.0  \n",
       "1          FRM                             N       0  0.0             705.0  \n",
       "2          FRM                             N       0  0.0             776.0  \n",
       "3          FRM                             N       0  0.0             797.0  \n",
       "4          FRM                             N       0  0.0             785.0  \n",
       "\n",
       "[5 rows x 21 columns]"
      ]
     },
     "execution_count": 2,
     "metadata": {},
     "output_type": "execute_result"
    }
   ],
   "source": [
    "df = pd.read_csv('../data/complete2011q1.csv')\n",
    "df.head()"
   ]
  },
  {
   "cell_type": "code",
   "execution_count": 3,
   "metadata": {},
   "outputs": [],
   "source": [
    "continuous_features = ['ORIGINAL INTEREST RATE', 'ORIGINAL UPB', 'ORIGINAL LOAN-TO-VALUE (LTV)', \n",
    "                       'ORIGINAL COMBINED LOAN-TO-VALUE (CLTV)', 'ORIGINAL DEBT TO INCOME RATIO',\n",
    "                       'MIN CREDIT SCORE']"
   ]
  },
  {
   "cell_type": "code",
   "execution_count": 4,
   "metadata": {},
   "outputs": [
    {
     "name": "stderr",
     "output_type": "stream",
     "text": [
      "C:\\Users\\bdmir\\Anaconda3\\envs\\dsi\\lib\\site-packages\\sklearn\\preprocessing\\data.py:1263: FutureWarning: arrays to stack must be passed as a \"sequence\" type such as list or tuple. Support for non-sequence iterables such as generators is deprecated as of NumPy 1.16 and will raise an error in the future.\n",
      "  for c in combinations)\n"
     ]
    },
    {
     "data": {
      "text/html": [
       "<div>\n",
       "<style scoped>\n",
       "    .dataframe tbody tr th:only-of-type {\n",
       "        vertical-align: middle;\n",
       "    }\n",
       "\n",
       "    .dataframe tbody tr th {\n",
       "        vertical-align: top;\n",
       "    }\n",
       "\n",
       "    .dataframe thead th {\n",
       "        text-align: right;\n",
       "    }\n",
       "</style>\n",
       "<table border=\"1\" class=\"dataframe\">\n",
       "  <thead>\n",
       "    <tr style=\"text-align: right;\">\n",
       "      <th></th>\n",
       "      <th>LOAN IDENTIFIER</th>\n",
       "      <th>ORIGINATION CHANNEL</th>\n",
       "      <th>SELLER NAME</th>\n",
       "      <th>ORIGINAL INTEREST RATE</th>\n",
       "      <th>ORIGINAL UPB</th>\n",
       "      <th>ORIGINAL LOAN TERM</th>\n",
       "      <th>ORIGINAL LOAN-TO-VALUE (LTV)</th>\n",
       "      <th>ORIGINAL COMBINED LOAN-TO-VALUE (CLTV)</th>\n",
       "      <th>NUMBER OF BORROWERS</th>\n",
       "      <th>ORIGINAL DEBT TO INCOME RATIO</th>\n",
       "      <th>...</th>\n",
       "      <th>ORIGINAL LOAN-TO-VALUE (LTV)^2</th>\n",
       "      <th>ORIGINAL LOAN-TO-VALUE (LTV) ORIGINAL COMBINED LOAN-TO-VALUE (CLTV)</th>\n",
       "      <th>ORIGINAL LOAN-TO-VALUE (LTV) ORIGINAL DEBT TO INCOME RATIO</th>\n",
       "      <th>ORIGINAL LOAN-TO-VALUE (LTV) MIN CREDIT SCORE</th>\n",
       "      <th>ORIGINAL COMBINED LOAN-TO-VALUE (CLTV)^2</th>\n",
       "      <th>ORIGINAL COMBINED LOAN-TO-VALUE (CLTV) ORIGINAL DEBT TO INCOME RATIO</th>\n",
       "      <th>ORIGINAL COMBINED LOAN-TO-VALUE (CLTV) MIN CREDIT SCORE</th>\n",
       "      <th>ORIGINAL DEBT TO INCOME RATIO^2</th>\n",
       "      <th>ORIGINAL DEBT TO INCOME RATIO MIN CREDIT SCORE</th>\n",
       "      <th>MIN CREDIT SCORE^2</th>\n",
       "    </tr>\n",
       "  </thead>\n",
       "  <tbody>\n",
       "    <tr>\n",
       "      <th>0</th>\n",
       "      <td>100000841305</td>\n",
       "      <td>C</td>\n",
       "      <td>CITIMORTGAGE, INC.</td>\n",
       "      <td>4.125</td>\n",
       "      <td>124000</td>\n",
       "      <td>360</td>\n",
       "      <td>79</td>\n",
       "      <td>79.0</td>\n",
       "      <td>1.0</td>\n",
       "      <td>28.0</td>\n",
       "      <td>...</td>\n",
       "      <td>6241.0</td>\n",
       "      <td>6241.0</td>\n",
       "      <td>2212.0</td>\n",
       "      <td>62568.0</td>\n",
       "      <td>6241.0</td>\n",
       "      <td>2212.0</td>\n",
       "      <td>62568.0</td>\n",
       "      <td>784.0</td>\n",
       "      <td>22176.0</td>\n",
       "      <td>627264.0</td>\n",
       "    </tr>\n",
       "    <tr>\n",
       "      <th>1</th>\n",
       "      <td>100001889356</td>\n",
       "      <td>R</td>\n",
       "      <td>OTHER</td>\n",
       "      <td>4.625</td>\n",
       "      <td>115000</td>\n",
       "      <td>240</td>\n",
       "      <td>68</td>\n",
       "      <td>68.0</td>\n",
       "      <td>1.0</td>\n",
       "      <td>34.0</td>\n",
       "      <td>...</td>\n",
       "      <td>4624.0</td>\n",
       "      <td>4624.0</td>\n",
       "      <td>2312.0</td>\n",
       "      <td>47940.0</td>\n",
       "      <td>4624.0</td>\n",
       "      <td>2312.0</td>\n",
       "      <td>47940.0</td>\n",
       "      <td>1156.0</td>\n",
       "      <td>23970.0</td>\n",
       "      <td>497025.0</td>\n",
       "    </tr>\n",
       "    <tr>\n",
       "      <th>2</th>\n",
       "      <td>100006453372</td>\n",
       "      <td>C</td>\n",
       "      <td>BANK OF AMERICA, N.A.</td>\n",
       "      <td>4.375</td>\n",
       "      <td>175000</td>\n",
       "      <td>360</td>\n",
       "      <td>52</td>\n",
       "      <td>52.0</td>\n",
       "      <td>2.0</td>\n",
       "      <td>29.0</td>\n",
       "      <td>...</td>\n",
       "      <td>2704.0</td>\n",
       "      <td>2704.0</td>\n",
       "      <td>1508.0</td>\n",
       "      <td>40352.0</td>\n",
       "      <td>2704.0</td>\n",
       "      <td>1508.0</td>\n",
       "      <td>40352.0</td>\n",
       "      <td>841.0</td>\n",
       "      <td>22504.0</td>\n",
       "      <td>602176.0</td>\n",
       "    </tr>\n",
       "    <tr>\n",
       "      <th>3</th>\n",
       "      <td>100010656545</td>\n",
       "      <td>C</td>\n",
       "      <td>BANK OF AMERICA, N.A.</td>\n",
       "      <td>4.375</td>\n",
       "      <td>365000</td>\n",
       "      <td>360</td>\n",
       "      <td>59</td>\n",
       "      <td>59.0</td>\n",
       "      <td>3.0</td>\n",
       "      <td>40.0</td>\n",
       "      <td>...</td>\n",
       "      <td>3481.0</td>\n",
       "      <td>3481.0</td>\n",
       "      <td>2360.0</td>\n",
       "      <td>47023.0</td>\n",
       "      <td>3481.0</td>\n",
       "      <td>2360.0</td>\n",
       "      <td>47023.0</td>\n",
       "      <td>1600.0</td>\n",
       "      <td>31880.0</td>\n",
       "      <td>635209.0</td>\n",
       "    </tr>\n",
       "    <tr>\n",
       "      <th>4</th>\n",
       "      <td>100010758624</td>\n",
       "      <td>R</td>\n",
       "      <td>CITIMORTGAGE, INC.</td>\n",
       "      <td>3.875</td>\n",
       "      <td>69000</td>\n",
       "      <td>120</td>\n",
       "      <td>28</td>\n",
       "      <td>28.0</td>\n",
       "      <td>1.0</td>\n",
       "      <td>32.0</td>\n",
       "      <td>...</td>\n",
       "      <td>784.0</td>\n",
       "      <td>784.0</td>\n",
       "      <td>896.0</td>\n",
       "      <td>21980.0</td>\n",
       "      <td>784.0</td>\n",
       "      <td>896.0</td>\n",
       "      <td>21980.0</td>\n",
       "      <td>1024.0</td>\n",
       "      <td>25120.0</td>\n",
       "      <td>616225.0</td>\n",
       "    </tr>\n",
       "  </tbody>\n",
       "</table>\n",
       "<p>5 rows × 42 columns</p>\n",
       "</div>"
      ],
      "text/plain": [
       "   LOAN IDENTIFIER ORIGINATION CHANNEL            SELLER NAME  \\\n",
       "0     100000841305                   C     CITIMORTGAGE, INC.   \n",
       "1     100001889356                   R                  OTHER   \n",
       "2     100006453372                   C  BANK OF AMERICA, N.A.   \n",
       "3     100010656545                   C  BANK OF AMERICA, N.A.   \n",
       "4     100010758624                   R     CITIMORTGAGE, INC.   \n",
       "\n",
       "   ORIGINAL INTEREST RATE  ORIGINAL UPB  ORIGINAL LOAN TERM  \\\n",
       "0                   4.125        124000                 360   \n",
       "1                   4.625        115000                 240   \n",
       "2                   4.375        175000                 360   \n",
       "3                   4.375        365000                 360   \n",
       "4                   3.875         69000                 120   \n",
       "\n",
       "   ORIGINAL LOAN-TO-VALUE (LTV)  ORIGINAL COMBINED LOAN-TO-VALUE (CLTV)  \\\n",
       "0                            79                                    79.0   \n",
       "1                            68                                    68.0   \n",
       "2                            52                                    52.0   \n",
       "3                            59                                    59.0   \n",
       "4                            28                                    28.0   \n",
       "\n",
       "   NUMBER OF BORROWERS  ORIGINAL DEBT TO INCOME RATIO         ...          \\\n",
       "0                  1.0                           28.0         ...           \n",
       "1                  1.0                           34.0         ...           \n",
       "2                  2.0                           29.0         ...           \n",
       "3                  3.0                           40.0         ...           \n",
       "4                  1.0                           32.0         ...           \n",
       "\n",
       "  ORIGINAL LOAN-TO-VALUE (LTV)^2  \\\n",
       "0                         6241.0   \n",
       "1                         4624.0   \n",
       "2                         2704.0   \n",
       "3                         3481.0   \n",
       "4                          784.0   \n",
       "\n",
       "  ORIGINAL LOAN-TO-VALUE (LTV) ORIGINAL COMBINED LOAN-TO-VALUE (CLTV)  \\\n",
       "0                                             6241.0                    \n",
       "1                                             4624.0                    \n",
       "2                                             2704.0                    \n",
       "3                                             3481.0                    \n",
       "4                                              784.0                    \n",
       "\n",
       "  ORIGINAL LOAN-TO-VALUE (LTV) ORIGINAL DEBT TO INCOME RATIO  \\\n",
       "0                                             2212.0           \n",
       "1                                             2312.0           \n",
       "2                                             1508.0           \n",
       "3                                             2360.0           \n",
       "4                                              896.0           \n",
       "\n",
       "   ORIGINAL LOAN-TO-VALUE (LTV) MIN CREDIT SCORE  \\\n",
       "0                                        62568.0   \n",
       "1                                        47940.0   \n",
       "2                                        40352.0   \n",
       "3                                        47023.0   \n",
       "4                                        21980.0   \n",
       "\n",
       "  ORIGINAL COMBINED LOAN-TO-VALUE (CLTV)^2  \\\n",
       "0                                   6241.0   \n",
       "1                                   4624.0   \n",
       "2                                   2704.0   \n",
       "3                                   3481.0   \n",
       "4                                    784.0   \n",
       "\n",
       "  ORIGINAL COMBINED LOAN-TO-VALUE (CLTV) ORIGINAL DEBT TO INCOME RATIO  \\\n",
       "0                                             2212.0                     \n",
       "1                                             2312.0                     \n",
       "2                                             1508.0                     \n",
       "3                                             2360.0                     \n",
       "4                                              896.0                     \n",
       "\n",
       "  ORIGINAL COMBINED LOAN-TO-VALUE (CLTV) MIN CREDIT SCORE  \\\n",
       "0                                            62568.0        \n",
       "1                                            47940.0        \n",
       "2                                            40352.0        \n",
       "3                                            47023.0        \n",
       "4                                            21980.0        \n",
       "\n",
       "  ORIGINAL DEBT TO INCOME RATIO^2  \\\n",
       "0                           784.0   \n",
       "1                          1156.0   \n",
       "2                           841.0   \n",
       "3                          1600.0   \n",
       "4                          1024.0   \n",
       "\n",
       "   ORIGINAL DEBT TO INCOME RATIO MIN CREDIT SCORE  MIN CREDIT SCORE^2  \n",
       "0                                         22176.0            627264.0  \n",
       "1                                         23970.0            497025.0  \n",
       "2                                         22504.0            602176.0  \n",
       "3                                         31880.0            635209.0  \n",
       "4                                         25120.0            616225.0  \n",
       "\n",
       "[5 rows x 42 columns]"
      ]
     },
     "execution_count": 4,
     "metadata": {},
     "output_type": "execute_result"
    }
   ],
   "source": [
    "poly = PolynomialFeatures(degree=2, include_bias=False)\n",
    "df_poly = pd.DataFrame(poly.fit_transform(df[continuous_features]), columns=poly.get_feature_names(continuous_features))\n",
    "df_poly = df_poly.drop(columns=continuous_features)\n",
    "df_poly = pd.concat([df, df_poly], axis=1)\n",
    "df_poly.head()"
   ]
  },
  {
   "cell_type": "code",
   "execution_count": 5,
   "metadata": {},
   "outputs": [],
   "source": [
    "categorical_features = ['ORIGINATION CHANNEL', 'SELLER NAME', 'FIRST TIME HOME BUYER INDICATOR', 'LOAN PURPOSE', \n",
    "                        'PROPERTY TYPE', 'OCCUPANCY TYPE', 'PROPERTY STATE', 'PRODUCT TYPE', 'RELOCATION MORTGAGE INDICATOR']"
   ]
  },
  {
   "cell_type": "code",
   "execution_count": 6,
   "metadata": {},
   "outputs": [
    {
     "data": {
      "text/plain": [
       "(504559, 113)"
      ]
     },
     "execution_count": 6,
     "metadata": {},
     "output_type": "execute_result"
    }
   ],
   "source": [
    "df_poly = pd.get_dummies(df_poly, columns=categorical_features, drop_first=True)\n",
    "df_poly.shape"
   ]
  },
  {
   "cell_type": "markdown",
   "metadata": {},
   "source": [
    "### Target number of observations  = features ^ 2\n",
    "- 112^2 = 12,544  \n",
    "\n",
    "Need to upsample minority and downsample majority"
   ]
  },
  {
   "cell_type": "code",
   "execution_count": 7,
   "metadata": {
    "scrolled": true
   },
   "outputs": [
    {
     "data": {
      "text/plain": [
       "0    502998\n",
       "1      1561\n",
       "Name: DEFAULT, dtype: int64"
      ]
     },
     "execution_count": 7,
     "metadata": {},
     "output_type": "execute_result"
    }
   ],
   "source": [
    "df['DEFAULT'].value_counts()"
   ]
  },
  {
   "cell_type": "code",
   "execution_count": 8,
   "metadata": {},
   "outputs": [
    {
     "data": {
      "text/plain": [
       "1    16173\n",
       "0    16173\n",
       "Name: DEFAULT, dtype: int64"
      ]
     },
     "execution_count": 8,
     "metadata": {},
     "output_type": "execute_result"
    }
   ],
   "source": [
    "# balance targets\n",
    "# split classes\n",
    "df_maj = df_poly[df_poly['DEFAULT'] == 0]\n",
    "df_min = df_poly[df_poly['DEFAULT'] == 1]\n",
    "\n",
    "# upsample minority\n",
    "df_min_resample = resample(df_min,\n",
    "                           replace=True,\n",
    "                           n_samples=int(len(df_poly.columns)**2.05),\n",
    "                           random_state=42)\n",
    "\n",
    "# downsample majority\n",
    "df_maj_resample = resample(df_maj, \n",
    "                           replace=False,    \n",
    "                           n_samples=df_min_resample.shape[0],\n",
    "                           random_state=42)             \n",
    "\n",
    "\n",
    "# concat downsample and minority\n",
    "df_resample = pd.concat([df_maj_resample, df_min_resample])\n",
    " \n",
    "# Display new class counts\n",
    "df_resample['DEFAULT'].value_counts()"
   ]
  },
  {
   "cell_type": "code",
   "execution_count": 9,
   "metadata": {},
   "outputs": [],
   "source": [
    "# train test split\n",
    "X = df_resample.drop(columns=['DEFAULT'])\n",
    "y = df_resample['DEFAULT']\n",
    "\n",
    "X_train, X_test, y_train, y_test = train_test_split(X, y,\n",
    "                                                    stratify=y,\n",
    "                                                    shuffle=True,\n",
    "                                                    random_state=42)"
   ]
  },
  {
   "cell_type": "code",
   "execution_count": 10,
   "metadata": {},
   "outputs": [],
   "source": [
    "ss = StandardScaler()\n",
    "ss.fit(X_train, y_train)\n",
    "X_train_sc = ss.transform(X_train)\n",
    "X_test_sc = ss.transform(X_test)"
   ]
  },
  {
   "cell_type": "markdown",
   "metadata": {},
   "source": [
    "## Logistic Classifier"
   ]
  },
  {
   "cell_type": "code",
   "execution_count": 11,
   "metadata": {},
   "outputs": [
    {
     "data": {
      "text/plain": [
       "GridSearchCV(cv=5, error_score='raise',\n",
       "       estimator=LogisticRegression(C=1.0, class_weight=None, dual=False, fit_intercept=True,\n",
       "          intercept_scaling=1, max_iter=100, multi_class='ovr', n_jobs=1,\n",
       "          penalty='l2', random_state=None, solver='liblinear', tol=0.0001,\n",
       "          verbose=0, warm_start=False),\n",
       "       fit_params=None, iid=True, n_jobs=-1,\n",
       "       param_grid={'penalty': ['l1', 'l2'], 'C': [0.1, 0.2, 0.3, 0.4]},\n",
       "       pre_dispatch='2*n_jobs', refit=True, return_train_score=True,\n",
       "       scoring=None, verbose=0)"
      ]
     },
     "execution_count": 11,
     "metadata": {},
     "output_type": "execute_result"
    }
   ],
   "source": [
    "params = {\n",
    "    'penalty': ['l1', 'l2'],\n",
    "    'C': [0.1, 0.2, 0.3, 0.4]\n",
    "}\n",
    "\n",
    "grid_log_cv = GridSearchCV(LogisticRegression(), params, cv=5, return_train_score=True, n_jobs=-1)\n",
    "grid_log_cv.fit(X_train_sc, y_train)"
   ]
  },
  {
   "cell_type": "code",
   "execution_count": 12,
   "metadata": {},
   "outputs": [
    {
     "data": {
      "text/plain": [
       "{'C': 0.2, 'penalty': 'l1'}"
      ]
     },
     "execution_count": 12,
     "metadata": {},
     "output_type": "execute_result"
    }
   ],
   "source": [
    "grid_log_cv.best_params_"
   ]
  },
  {
   "cell_type": "code",
   "execution_count": 13,
   "metadata": {},
   "outputs": [
    {
     "data": {
      "text/plain": [
       "0.7796694010470341"
      ]
     },
     "execution_count": 13,
     "metadata": {},
     "output_type": "execute_result"
    }
   ],
   "source": [
    "grid_log_cv.best_score_"
   ]
  },
  {
   "cell_type": "code",
   "execution_count": 14,
   "metadata": {},
   "outputs": [],
   "source": [
    "log_opt = grid_log_cv.best_estimator_"
   ]
  },
  {
   "cell_type": "code",
   "execution_count": 15,
   "metadata": {},
   "outputs": [
    {
     "data": {
      "text/plain": [
       "0.7813775194757018"
      ]
     },
     "execution_count": 15,
     "metadata": {},
     "output_type": "execute_result"
    }
   ],
   "source": [
    "log_opt.score(X_test_sc, y_test)"
   ]
  },
  {
   "cell_type": "code",
   "execution_count": 16,
   "metadata": {},
   "outputs": [],
   "source": [
    "y_pred = log_opt.predict(X_test_sc)"
   ]
  },
  {
   "cell_type": "code",
   "execution_count": 17,
   "metadata": {},
   "outputs": [],
   "source": [
    "def false_negative_rate(fn, tp):\n",
    "    return fn/(tp+fn)\n",
    "\n",
    "def accuracy(tn, tp, y_test):\n",
    "    return (tn + tp)/len(y_test)"
   ]
  },
  {
   "cell_type": "code",
   "execution_count": 18,
   "metadata": {},
   "outputs": [
    {
     "data": {
      "text/plain": [
       "array([[3104,  940],\n",
       "       [ 828, 3215]], dtype=int64)"
      ]
     },
     "execution_count": 18,
     "metadata": {},
     "output_type": "execute_result"
    }
   ],
   "source": [
    "confusion_matrix(y_test, y_pred)"
   ]
  },
  {
   "cell_type": "code",
   "execution_count": 19,
   "metadata": {},
   "outputs": [],
   "source": [
    "tn, fp, fn, tp = confusion_matrix(y_test, y_pred).ravel()"
   ]
  },
  {
   "cell_type": "code",
   "execution_count": 20,
   "metadata": {},
   "outputs": [
    {
     "data": {
      "text/plain": [
       "0.20479841701706653"
      ]
     },
     "execution_count": 20,
     "metadata": {},
     "output_type": "execute_result"
    }
   ],
   "source": [
    "false_negative_rate(fn, tp)"
   ]
  },
  {
   "cell_type": "code",
   "execution_count": 21,
   "metadata": {},
   "outputs": [
    {
     "data": {
      "text/plain": [
       "0.7813775194757018"
      ]
     },
     "execution_count": 21,
     "metadata": {},
     "output_type": "execute_result"
    }
   ],
   "source": [
    "accuracy(tn, tp, y_test)"
   ]
  },
  {
   "cell_type": "code",
   "execution_count": 22,
   "metadata": {},
   "outputs": [
    {
     "data": {
      "text/html": [
       "<div>\n",
       "<style scoped>\n",
       "    .dataframe tbody tr th:only-of-type {\n",
       "        vertical-align: middle;\n",
       "    }\n",
       "\n",
       "    .dataframe tbody tr th {\n",
       "        vertical-align: top;\n",
       "    }\n",
       "\n",
       "    .dataframe thead th {\n",
       "        text-align: right;\n",
       "    }\n",
       "</style>\n",
       "<table border=\"1\" class=\"dataframe\">\n",
       "  <thead>\n",
       "    <tr style=\"text-align: right;\">\n",
       "      <th></th>\n",
       "      <th>NO DEFAULT</th>\n",
       "      <th>DEFAULT</th>\n",
       "      <th>y_pred</th>\n",
       "      <th>y_pred_adj</th>\n",
       "    </tr>\n",
       "  </thead>\n",
       "  <tbody>\n",
       "    <tr>\n",
       "      <th>0</th>\n",
       "      <td>0.082869</td>\n",
       "      <td>0.917131</td>\n",
       "      <td>1</td>\n",
       "      <td>1</td>\n",
       "    </tr>\n",
       "    <tr>\n",
       "      <th>1</th>\n",
       "      <td>0.706924</td>\n",
       "      <td>0.293076</td>\n",
       "      <td>0</td>\n",
       "      <td>1</td>\n",
       "    </tr>\n",
       "    <tr>\n",
       "      <th>2</th>\n",
       "      <td>0.820701</td>\n",
       "      <td>0.179299</td>\n",
       "      <td>0</td>\n",
       "      <td>1</td>\n",
       "    </tr>\n",
       "    <tr>\n",
       "      <th>3</th>\n",
       "      <td>0.882574</td>\n",
       "      <td>0.117426</td>\n",
       "      <td>0</td>\n",
       "      <td>1</td>\n",
       "    </tr>\n",
       "    <tr>\n",
       "      <th>4</th>\n",
       "      <td>0.232236</td>\n",
       "      <td>0.767764</td>\n",
       "      <td>1</td>\n",
       "      <td>1</td>\n",
       "    </tr>\n",
       "  </tbody>\n",
       "</table>\n",
       "</div>"
      ],
      "text/plain": [
       "   NO DEFAULT   DEFAULT  y_pred  y_pred_adj\n",
       "0    0.082869  0.917131       1           1\n",
       "1    0.706924  0.293076       0           1\n",
       "2    0.820701  0.179299       0           1\n",
       "3    0.882574  0.117426       0           1\n",
       "4    0.232236  0.767764       1           1"
      ]
     },
     "execution_count": 22,
     "metadata": {},
     "output_type": "execute_result"
    }
   ],
   "source": [
    "df_pred = pd.DataFrame(log_opt.predict_proba(X_test_sc), columns=['NO DEFAULT', 'DEFAULT'])\n",
    "df_pred['y_pred'] = y_pred\n",
    "df_pred['y_pred_adj'] = df_pred['DEFAULT'].map(lambda x: 1 if x >= 0.05 else 0)\n",
    "df_pred.head()"
   ]
  },
  {
   "cell_type": "code",
   "execution_count": 23,
   "metadata": {},
   "outputs": [
    {
     "data": {
      "text/plain": [
       "array([[ 561, 3483],\n",
       "       [  27, 4016]], dtype=int64)"
      ]
     },
     "execution_count": 23,
     "metadata": {},
     "output_type": "execute_result"
    }
   ],
   "source": [
    "confusion_matrix(y_test, df_pred['y_pred_adj'])"
   ]
  },
  {
   "cell_type": "code",
   "execution_count": 24,
   "metadata": {},
   "outputs": [],
   "source": [
    "tn, fp, fn, tp = confusion_matrix(y_test, df_pred['y_pred_adj']).ravel()"
   ]
  },
  {
   "cell_type": "code",
   "execution_count": 25,
   "metadata": {},
   "outputs": [
    {
     "data": {
      "text/plain": [
       "0.006678209250556517"
      ]
     },
     "execution_count": 25,
     "metadata": {},
     "output_type": "execute_result"
    }
   ],
   "source": [
    "false_negative_rate(fn, tp)"
   ]
  },
  {
   "cell_type": "code",
   "execution_count": 26,
   "metadata": {},
   "outputs": [
    {
     "data": {
      "text/plain": [
       "0.565970075429702"
      ]
     },
     "execution_count": 26,
     "metadata": {},
     "output_type": "execute_result"
    }
   ],
   "source": [
    "accuracy(tn, tp, y_test)"
   ]
  },
  {
   "cell_type": "markdown",
   "metadata": {},
   "source": [
    "__Insight:__\n",
    "The interaction features that were engineered increased the accuracy of the logistic model from 0.72 to 0.78.  However, an acceptable false negative rate is not obtainable without a huge loss of accurary and Non-Default misclassification."
   ]
  },
  {
   "cell_type": "markdown",
   "metadata": {},
   "source": [
    "## Neural Network"
   ]
  },
  {
   "cell_type": "code",
   "execution_count": 27,
   "metadata": {},
   "outputs": [
    {
     "name": "stdout",
     "output_type": "stream",
     "text": [
      "Train on 24259 samples, validate on 8087 samples\n",
      "Epoch 1/100\n",
      "24259/24259 [==============================] - 2s 75us/step - loss: 0.4777 - acc: 0.7802 - val_loss: 0.4288 - val_acc: 0.8072\n",
      "Epoch 2/100\n",
      "24259/24259 [==============================] - 1s 58us/step - loss: 0.4096 - acc: 0.8156 - val_loss: 0.3806 - val_acc: 0.8362\n",
      "Epoch 3/100\n",
      "24259/24259 [==============================] - 1s 57us/step - loss: 0.3594 - acc: 0.8446 - val_loss: 0.3420 - val_acc: 0.8634\n",
      "Epoch 4/100\n",
      "24259/24259 [==============================] - 1s 62us/step - loss: 0.3237 - acc: 0.8651 - val_loss: 0.3145 - val_acc: 0.8768\n",
      "Epoch 5/100\n",
      "24259/24259 [==============================] - 2s 66us/step - loss: 0.2896 - acc: 0.8838 - val_loss: 0.2804 - val_acc: 0.8940\n",
      "Epoch 6/100\n",
      "24259/24259 [==============================] - 2s 67us/step - loss: 0.2662 - acc: 0.8939 - val_loss: 0.2512 - val_acc: 0.9090\n",
      "Epoch 7/100\n",
      "24259/24259 [==============================] - 2s 71us/step - loss: 0.2418 - acc: 0.9060 - val_loss: 0.2442 - val_acc: 0.9070\n",
      "Epoch 8/100\n",
      "24259/24259 [==============================] - 2s 70us/step - loss: 0.2241 - acc: 0.9123 - val_loss: 0.2306 - val_acc: 0.9167\n",
      "Epoch 9/100\n",
      "24259/24259 [==============================] - 1s 61us/step - loss: 0.2059 - acc: 0.9216 - val_loss: 0.2175 - val_acc: 0.9243\n",
      "Epoch 10/100\n",
      "24259/24259 [==============================] - 1s 52us/step - loss: 0.1924 - acc: 0.9277 - val_loss: 0.1993 - val_acc: 0.9261\n",
      "Epoch 11/100\n",
      "24259/24259 [==============================] - 1s 57us/step - loss: 0.1851 - acc: 0.9304 - val_loss: 0.1910 - val_acc: 0.9406\n",
      "Epoch 12/100\n",
      "24259/24259 [==============================] - 1s 54us/step - loss: 0.1721 - acc: 0.9363 - val_loss: 0.1898 - val_acc: 0.9361\n",
      "Epoch 13/100\n",
      "24259/24259 [==============================] - 2s 65us/step - loss: 0.1657 - acc: 0.9382 - val_loss: 0.1871 - val_acc: 0.9338\n",
      "Epoch 14/100\n",
      "24259/24259 [==============================] - 2s 77us/step - loss: 0.1535 - acc: 0.9439 - val_loss: 0.1807 - val_acc: 0.9395\n",
      "Epoch 15/100\n",
      "24259/24259 [==============================] - 2s 87us/step - loss: 0.1448 - acc: 0.9479 - val_loss: 0.1760 - val_acc: 0.9441\n",
      "Epoch 16/100\n",
      "24259/24259 [==============================] - 2s 90us/step - loss: 0.1433 - acc: 0.9482 - val_loss: 0.1817 - val_acc: 0.9451\n",
      "Epoch 17/100\n",
      "24259/24259 [==============================] - 2s 87us/step - loss: 0.1318 - acc: 0.9526 - val_loss: 0.1645 - val_acc: 0.9472\n",
      "Epoch 18/100\n",
      "24259/24259 [==============================] - 2s 100us/step - loss: 0.1265 - acc: 0.9547 - val_loss: 0.1679 - val_acc: 0.9466\n",
      "Epoch 19/100\n",
      "24259/24259 [==============================] - 2s 76us/step - loss: 0.1258 - acc: 0.9540 - val_loss: 0.1713 - val_acc: 0.9451\n"
     ]
    }
   ],
   "source": [
    "num = X_train_sc.shape[1]\n",
    "\n",
    "nn = Sequential()\n",
    "\n",
    "nn.add(Dense(num, activation='relu', input_dim=num))\n",
    "nn.add(Dropout(0.1))\n",
    "nn.add(Dense(int(num/2), activation='relu'))\n",
    "nn.add(Dense(1, activation='sigmoid'))\n",
    "\n",
    "nn.compile(optimizer='adam', loss='binary_crossentropy', metrics=['accuracy'])\n",
    "\n",
    "early = EarlyStopping(monitor='val_loss', min_delta=0, patience=2)\n",
    "\n",
    "nn_result = nn.fit(X_train_sc, y_train, epochs=100, validation_data=(X_test_sc, y_test), callbacks=[early])"
   ]
  },
  {
   "cell_type": "code",
   "execution_count": 28,
   "metadata": {},
   "outputs": [
    {
     "data": {
      "text/html": [
       "<div>\n",
       "<style scoped>\n",
       "    .dataframe tbody tr th:only-of-type {\n",
       "        vertical-align: middle;\n",
       "    }\n",
       "\n",
       "    .dataframe tbody tr th {\n",
       "        vertical-align: top;\n",
       "    }\n",
       "\n",
       "    .dataframe thead th {\n",
       "        text-align: right;\n",
       "    }\n",
       "</style>\n",
       "<table border=\"1\" class=\"dataframe\">\n",
       "  <thead>\n",
       "    <tr style=\"text-align: right;\">\n",
       "      <th></th>\n",
       "      <th>DEFAULT</th>\n",
       "      <th>y_pred</th>\n",
       "      <th>y_pred_adj</th>\n",
       "    </tr>\n",
       "  </thead>\n",
       "  <tbody>\n",
       "    <tr>\n",
       "      <th>0</th>\n",
       "      <td>9.879660e-01</td>\n",
       "      <td>1</td>\n",
       "      <td>1</td>\n",
       "    </tr>\n",
       "    <tr>\n",
       "      <th>1</th>\n",
       "      <td>9.708326e-01</td>\n",
       "      <td>1</td>\n",
       "      <td>1</td>\n",
       "    </tr>\n",
       "    <tr>\n",
       "      <th>2</th>\n",
       "      <td>1.677061e-10</td>\n",
       "      <td>0</td>\n",
       "      <td>0</td>\n",
       "    </tr>\n",
       "    <tr>\n",
       "      <th>3</th>\n",
       "      <td>3.102563e-06</td>\n",
       "      <td>0</td>\n",
       "      <td>0</td>\n",
       "    </tr>\n",
       "    <tr>\n",
       "      <th>4</th>\n",
       "      <td>9.992926e-01</td>\n",
       "      <td>1</td>\n",
       "      <td>1</td>\n",
       "    </tr>\n",
       "  </tbody>\n",
       "</table>\n",
       "</div>"
      ],
      "text/plain": [
       "        DEFAULT  y_pred  y_pred_adj\n",
       "0  9.879660e-01       1           1\n",
       "1  9.708326e-01       1           1\n",
       "2  1.677061e-10       0           0\n",
       "3  3.102563e-06       0           0\n",
       "4  9.992926e-01       1           1"
      ]
     },
     "execution_count": 28,
     "metadata": {},
     "output_type": "execute_result"
    }
   ],
   "source": [
    "df_pred_nn = pd.DataFrame(nn.predict_proba(X_test_sc), columns=['DEFAULT'])\n",
    "df_pred_nn['y_pred'] = nn.predict_classes(X_test_sc)\n",
    "df_pred_nn['y_pred_adj'] = df_pred_nn['DEFAULT'].map(lambda x: 1 if x >= 0.1 else 0)\n",
    "df_pred_nn.head()"
   ]
  },
  {
   "cell_type": "code",
   "execution_count": 29,
   "metadata": {},
   "outputs": [
    {
     "data": {
      "text/plain": [
       "array([[3250,  794],\n",
       "       [   3, 4040]], dtype=int64)"
      ]
     },
     "execution_count": 29,
     "metadata": {},
     "output_type": "execute_result"
    }
   ],
   "source": [
    "confusion_matrix(y_test, df_pred_nn['y_pred_adj'])"
   ]
  },
  {
   "cell_type": "code",
   "execution_count": 30,
   "metadata": {},
   "outputs": [],
   "source": [
    "tn, fp, fn, tp = confusion_matrix(y_test, df_pred_nn['y_pred_adj']).ravel()"
   ]
  },
  {
   "cell_type": "code",
   "execution_count": 31,
   "metadata": {},
   "outputs": [
    {
     "data": {
      "text/plain": [
       "0.0007420232500618352"
      ]
     },
     "execution_count": 31,
     "metadata": {},
     "output_type": "execute_result"
    }
   ],
   "source": [
    "false_negative_rate(fn, tp)"
   ]
  },
  {
   "cell_type": "code",
   "execution_count": 32,
   "metadata": {},
   "outputs": [
    {
     "data": {
      "text/plain": [
       "0.9014467664152344"
      ]
     },
     "execution_count": 32,
     "metadata": {},
     "output_type": "execute_result"
    }
   ],
   "source": [
    "accuracy(tn, tp, y_test)"
   ]
  },
  {
   "cell_type": "markdown",
   "metadata": {},
   "source": [
    "## Conclusion\n",
    "The neural network model with an adjusted threshold of 0.10 is able to obtain 0.90 accuracy and a false negative rate of 0.074% which far surpasses the benchmark of 0.309%.  For reference, Fannie Mae would be able to avoid 235 defaulted loans using this model.  Using an average of $50,000 loss per default, this would equate to a loss avoidance of \\$11,750,000 per 100,000 loans."
   ]
  },
  {
   "cell_type": "code",
   "execution_count": null,
   "metadata": {},
   "outputs": [],
   "source": []
  }
 ],
 "metadata": {
  "kernelspec": {
   "display_name": "Python [conda env:dsi]",
   "language": "python",
   "name": "conda-env-dsi-py"
  },
  "language_info": {
   "codemirror_mode": {
    "name": "ipython",
    "version": 3
   },
   "file_extension": ".py",
   "mimetype": "text/x-python",
   "name": "python",
   "nbconvert_exporter": "python",
   "pygments_lexer": "ipython3",
   "version": "3.6.5"
  }
 },
 "nbformat": 4,
 "nbformat_minor": 2
}
