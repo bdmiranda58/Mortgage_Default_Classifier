{
 "cells": [
  {
   "cell_type": "markdown",
   "metadata": {},
   "source": [
    "<img style=\"float: left;\" src=\"../images/fanniemae.png\">\n",
    "<br><br><br><br><br><br>\n",
    "______"
   ]
  },
  {
   "cell_type": "markdown",
   "metadata": {},
   "source": [
    "# Mortgage Loan Default Classifier\n",
    "____________\n",
    "____________"
   ]
  },
  {
   "cell_type": "markdown",
   "metadata": {},
   "source": [
    "## Problem Statement:\n",
    "_____________\n",
    "<.add problem statement here when complete.>"
   ]
  },
  {
   "cell_type": "markdown",
   "metadata": {},
   "source": [
    "## Engineered Features\n",
    "___________\n",
    "- elaborate"
   ]
  },
  {
   "cell_type": "code",
   "execution_count": 1,
   "metadata": {},
   "outputs": [
    {
     "name": "stderr",
     "output_type": "stream",
     "text": [
      "Using TensorFlow backend.\n"
     ]
    }
   ],
   "source": [
    "import pandas as pd\n",
    "import numpy as np\n",
    "import seaborn as sns\n",
    "import matplotlib.pyplot as plt\n",
    "\n",
    "from sklearn.utils import resample\n",
    "from sklearn.linear_model import LogisticRegression\n",
    "from sklearn.model_selection import train_test_split, cross_val_score, GridSearchCV\n",
    "from sklearn.preprocessing import StandardScaler, PolynomialFeatures\n",
    "from sklearn.metrics import confusion_matrix\n",
    "\n",
    "from keras.models import Sequential\n",
    "from keras.layers import Dense, Dropout\n",
    "from keras import regularizers\n",
    "from keras.callbacks import EarlyStopping\n",
    "\n",
    "%matplotlib inline"
   ]
  },
  {
   "cell_type": "code",
   "execution_count": 2,
   "metadata": {},
   "outputs": [
    {
     "data": {
      "text/html": [
       "<div>\n",
       "<style scoped>\n",
       "    .dataframe tbody tr th:only-of-type {\n",
       "        vertical-align: middle;\n",
       "    }\n",
       "\n",
       "    .dataframe tbody tr th {\n",
       "        vertical-align: top;\n",
       "    }\n",
       "\n",
       "    .dataframe thead th {\n",
       "        text-align: right;\n",
       "    }\n",
       "</style>\n",
       "<table border=\"1\" class=\"dataframe\">\n",
       "  <thead>\n",
       "    <tr style=\"text-align: right;\">\n",
       "      <th></th>\n",
       "      <th>LOAN IDENTIFIER</th>\n",
       "      <th>ORIGINATION CHANNEL</th>\n",
       "      <th>SELLER NAME</th>\n",
       "      <th>ORIGINAL INTEREST RATE</th>\n",
       "      <th>ORIGINAL UPB</th>\n",
       "      <th>ORIGINAL LOAN TERM</th>\n",
       "      <th>ORIGINAL LOAN-TO-VALUE (LTV)</th>\n",
       "      <th>ORIGINAL COMBINED LOAN-TO-VALUE (CLTV)</th>\n",
       "      <th>NUMBER OF BORROWERS</th>\n",
       "      <th>ORIGINAL DEBT TO INCOME RATIO</th>\n",
       "      <th>...</th>\n",
       "      <th>LOAN PURPOSE</th>\n",
       "      <th>PROPERTY TYPE</th>\n",
       "      <th>NUMBER OF UNITS</th>\n",
       "      <th>OCCUPANCY TYPE</th>\n",
       "      <th>PROPERTY STATE</th>\n",
       "      <th>PRODUCT TYPE</th>\n",
       "      <th>RELOCATION MORTGAGE INDICATOR</th>\n",
       "      <th>DEFAULT</th>\n",
       "      <th>MI</th>\n",
       "      <th>MIN CREDIT SCORE</th>\n",
       "    </tr>\n",
       "  </thead>\n",
       "  <tbody>\n",
       "    <tr>\n",
       "      <th>0</th>\n",
       "      <td>100000841305</td>\n",
       "      <td>C</td>\n",
       "      <td>CITIMORTGAGE, INC.</td>\n",
       "      <td>4.125</td>\n",
       "      <td>124000</td>\n",
       "      <td>360</td>\n",
       "      <td>79</td>\n",
       "      <td>79.0</td>\n",
       "      <td>1.0</td>\n",
       "      <td>28.0</td>\n",
       "      <td>...</td>\n",
       "      <td>R</td>\n",
       "      <td>SF</td>\n",
       "      <td>1</td>\n",
       "      <td>P</td>\n",
       "      <td>TX</td>\n",
       "      <td>FRM</td>\n",
       "      <td>N</td>\n",
       "      <td>0</td>\n",
       "      <td>0.0</td>\n",
       "      <td>792.0</td>\n",
       "    </tr>\n",
       "    <tr>\n",
       "      <th>1</th>\n",
       "      <td>100001889356</td>\n",
       "      <td>R</td>\n",
       "      <td>OTHER</td>\n",
       "      <td>4.625</td>\n",
       "      <td>115000</td>\n",
       "      <td>240</td>\n",
       "      <td>68</td>\n",
       "      <td>68.0</td>\n",
       "      <td>1.0</td>\n",
       "      <td>34.0</td>\n",
       "      <td>...</td>\n",
       "      <td>C</td>\n",
       "      <td>SF</td>\n",
       "      <td>1</td>\n",
       "      <td>P</td>\n",
       "      <td>IL</td>\n",
       "      <td>FRM</td>\n",
       "      <td>N</td>\n",
       "      <td>0</td>\n",
       "      <td>0.0</td>\n",
       "      <td>705.0</td>\n",
       "    </tr>\n",
       "    <tr>\n",
       "      <th>2</th>\n",
       "      <td>100006453372</td>\n",
       "      <td>C</td>\n",
       "      <td>BANK OF AMERICA, N.A.</td>\n",
       "      <td>4.375</td>\n",
       "      <td>175000</td>\n",
       "      <td>360</td>\n",
       "      <td>52</td>\n",
       "      <td>52.0</td>\n",
       "      <td>2.0</td>\n",
       "      <td>29.0</td>\n",
       "      <td>...</td>\n",
       "      <td>C</td>\n",
       "      <td>PU</td>\n",
       "      <td>1</td>\n",
       "      <td>S</td>\n",
       "      <td>AZ</td>\n",
       "      <td>FRM</td>\n",
       "      <td>N</td>\n",
       "      <td>0</td>\n",
       "      <td>0.0</td>\n",
       "      <td>776.0</td>\n",
       "    </tr>\n",
       "    <tr>\n",
       "      <th>3</th>\n",
       "      <td>100010656545</td>\n",
       "      <td>C</td>\n",
       "      <td>BANK OF AMERICA, N.A.</td>\n",
       "      <td>4.375</td>\n",
       "      <td>365000</td>\n",
       "      <td>360</td>\n",
       "      <td>59</td>\n",
       "      <td>59.0</td>\n",
       "      <td>3.0</td>\n",
       "      <td>40.0</td>\n",
       "      <td>...</td>\n",
       "      <td>C</td>\n",
       "      <td>PU</td>\n",
       "      <td>1</td>\n",
       "      <td>P</td>\n",
       "      <td>IL</td>\n",
       "      <td>FRM</td>\n",
       "      <td>N</td>\n",
       "      <td>0</td>\n",
       "      <td>0.0</td>\n",
       "      <td>797.0</td>\n",
       "    </tr>\n",
       "    <tr>\n",
       "      <th>4</th>\n",
       "      <td>100010758624</td>\n",
       "      <td>R</td>\n",
       "      <td>CITIMORTGAGE, INC.</td>\n",
       "      <td>3.875</td>\n",
       "      <td>69000</td>\n",
       "      <td>120</td>\n",
       "      <td>28</td>\n",
       "      <td>28.0</td>\n",
       "      <td>1.0</td>\n",
       "      <td>32.0</td>\n",
       "      <td>...</td>\n",
       "      <td>C</td>\n",
       "      <td>SF</td>\n",
       "      <td>1</td>\n",
       "      <td>P</td>\n",
       "      <td>SC</td>\n",
       "      <td>FRM</td>\n",
       "      <td>N</td>\n",
       "      <td>0</td>\n",
       "      <td>0.0</td>\n",
       "      <td>785.0</td>\n",
       "    </tr>\n",
       "  </tbody>\n",
       "</table>\n",
       "<p>5 rows × 21 columns</p>\n",
       "</div>"
      ],
      "text/plain": [
       "   LOAN IDENTIFIER ORIGINATION CHANNEL            SELLER NAME  \\\n",
       "0     100000841305                   C     CITIMORTGAGE, INC.   \n",
       "1     100001889356                   R                  OTHER   \n",
       "2     100006453372                   C  BANK OF AMERICA, N.A.   \n",
       "3     100010656545                   C  BANK OF AMERICA, N.A.   \n",
       "4     100010758624                   R     CITIMORTGAGE, INC.   \n",
       "\n",
       "   ORIGINAL INTEREST RATE  ORIGINAL UPB  ORIGINAL LOAN TERM  \\\n",
       "0                   4.125        124000                 360   \n",
       "1                   4.625        115000                 240   \n",
       "2                   4.375        175000                 360   \n",
       "3                   4.375        365000                 360   \n",
       "4                   3.875         69000                 120   \n",
       "\n",
       "   ORIGINAL LOAN-TO-VALUE (LTV)  ORIGINAL COMBINED LOAN-TO-VALUE (CLTV)  \\\n",
       "0                            79                                    79.0   \n",
       "1                            68                                    68.0   \n",
       "2                            52                                    52.0   \n",
       "3                            59                                    59.0   \n",
       "4                            28                                    28.0   \n",
       "\n",
       "   NUMBER OF BORROWERS  ORIGINAL DEBT TO INCOME RATIO        ...         \\\n",
       "0                  1.0                           28.0        ...          \n",
       "1                  1.0                           34.0        ...          \n",
       "2                  2.0                           29.0        ...          \n",
       "3                  3.0                           40.0        ...          \n",
       "4                  1.0                           32.0        ...          \n",
       "\n",
       "  LOAN PURPOSE PROPERTY TYPE NUMBER OF UNITS  OCCUPANCY TYPE PROPERTY STATE  \\\n",
       "0            R            SF               1               P             TX   \n",
       "1            C            SF               1               P             IL   \n",
       "2            C            PU               1               S             AZ   \n",
       "3            C            PU               1               P             IL   \n",
       "4            C            SF               1               P             SC   \n",
       "\n",
       "  PRODUCT TYPE RELOCATION MORTGAGE INDICATOR DEFAULT   MI  MIN CREDIT SCORE  \n",
       "0          FRM                             N       0  0.0             792.0  \n",
       "1          FRM                             N       0  0.0             705.0  \n",
       "2          FRM                             N       0  0.0             776.0  \n",
       "3          FRM                             N       0  0.0             797.0  \n",
       "4          FRM                             N       0  0.0             785.0  \n",
       "\n",
       "[5 rows x 21 columns]"
      ]
     },
     "execution_count": 2,
     "metadata": {},
     "output_type": "execute_result"
    }
   ],
   "source": [
    "df = pd.read_csv('../data/complete2011q1.csv')\n",
    "df.head()"
   ]
  },
  {
   "cell_type": "code",
   "execution_count": 3,
   "metadata": {},
   "outputs": [],
   "source": [
    "continuous_features = ['ORIGINAL INTEREST RATE', 'ORIGINAL UPB', 'ORIGINAL LOAN-TO-VALUE (LTV)', \n",
    "                       'ORIGINAL COMBINED LOAN-TO-VALUE (CLTV)', 'ORIGINAL DEBT TO INCOME RATIO',\n",
    "                       'MIN CREDIT SCORE']"
   ]
  },
  {
   "cell_type": "code",
   "execution_count": 4,
   "metadata": {},
   "outputs": [
    {
     "name": "stderr",
     "output_type": "stream",
     "text": [
      "C:\\Users\\bdmir\\Anaconda3\\envs\\dsi\\lib\\site-packages\\sklearn\\preprocessing\\data.py:1263: FutureWarning: arrays to stack must be passed as a \"sequence\" type such as list or tuple. Support for non-sequence iterables such as generators is deprecated as of NumPy 1.16 and will raise an error in the future.\n",
      "  for c in combinations)\n"
     ]
    },
    {
     "data": {
      "text/html": [
       "<div>\n",
       "<style scoped>\n",
       "    .dataframe tbody tr th:only-of-type {\n",
       "        vertical-align: middle;\n",
       "    }\n",
       "\n",
       "    .dataframe tbody tr th {\n",
       "        vertical-align: top;\n",
       "    }\n",
       "\n",
       "    .dataframe thead th {\n",
       "        text-align: right;\n",
       "    }\n",
       "</style>\n",
       "<table border=\"1\" class=\"dataframe\">\n",
       "  <thead>\n",
       "    <tr style=\"text-align: right;\">\n",
       "      <th></th>\n",
       "      <th>LOAN IDENTIFIER</th>\n",
       "      <th>ORIGINATION CHANNEL</th>\n",
       "      <th>SELLER NAME</th>\n",
       "      <th>ORIGINAL INTEREST RATE</th>\n",
       "      <th>ORIGINAL UPB</th>\n",
       "      <th>ORIGINAL LOAN TERM</th>\n",
       "      <th>ORIGINAL LOAN-TO-VALUE (LTV)</th>\n",
       "      <th>ORIGINAL COMBINED LOAN-TO-VALUE (CLTV)</th>\n",
       "      <th>NUMBER OF BORROWERS</th>\n",
       "      <th>ORIGINAL DEBT TO INCOME RATIO</th>\n",
       "      <th>...</th>\n",
       "      <th>ORIGINAL LOAN-TO-VALUE (LTV)^2</th>\n",
       "      <th>ORIGINAL LOAN-TO-VALUE (LTV) ORIGINAL COMBINED LOAN-TO-VALUE (CLTV)</th>\n",
       "      <th>ORIGINAL LOAN-TO-VALUE (LTV) ORIGINAL DEBT TO INCOME RATIO</th>\n",
       "      <th>ORIGINAL LOAN-TO-VALUE (LTV) MIN CREDIT SCORE</th>\n",
       "      <th>ORIGINAL COMBINED LOAN-TO-VALUE (CLTV)^2</th>\n",
       "      <th>ORIGINAL COMBINED LOAN-TO-VALUE (CLTV) ORIGINAL DEBT TO INCOME RATIO</th>\n",
       "      <th>ORIGINAL COMBINED LOAN-TO-VALUE (CLTV) MIN CREDIT SCORE</th>\n",
       "      <th>ORIGINAL DEBT TO INCOME RATIO^2</th>\n",
       "      <th>ORIGINAL DEBT TO INCOME RATIO MIN CREDIT SCORE</th>\n",
       "      <th>MIN CREDIT SCORE^2</th>\n",
       "    </tr>\n",
       "  </thead>\n",
       "  <tbody>\n",
       "    <tr>\n",
       "      <th>0</th>\n",
       "      <td>100000841305</td>\n",
       "      <td>C</td>\n",
       "      <td>CITIMORTGAGE, INC.</td>\n",
       "      <td>4.125</td>\n",
       "      <td>124000</td>\n",
       "      <td>360</td>\n",
       "      <td>79</td>\n",
       "      <td>79.0</td>\n",
       "      <td>1.0</td>\n",
       "      <td>28.0</td>\n",
       "      <td>...</td>\n",
       "      <td>6241.0</td>\n",
       "      <td>6241.0</td>\n",
       "      <td>2212.0</td>\n",
       "      <td>62568.0</td>\n",
       "      <td>6241.0</td>\n",
       "      <td>2212.0</td>\n",
       "      <td>62568.0</td>\n",
       "      <td>784.0</td>\n",
       "      <td>22176.0</td>\n",
       "      <td>627264.0</td>\n",
       "    </tr>\n",
       "    <tr>\n",
       "      <th>1</th>\n",
       "      <td>100001889356</td>\n",
       "      <td>R</td>\n",
       "      <td>OTHER</td>\n",
       "      <td>4.625</td>\n",
       "      <td>115000</td>\n",
       "      <td>240</td>\n",
       "      <td>68</td>\n",
       "      <td>68.0</td>\n",
       "      <td>1.0</td>\n",
       "      <td>34.0</td>\n",
       "      <td>...</td>\n",
       "      <td>4624.0</td>\n",
       "      <td>4624.0</td>\n",
       "      <td>2312.0</td>\n",
       "      <td>47940.0</td>\n",
       "      <td>4624.0</td>\n",
       "      <td>2312.0</td>\n",
       "      <td>47940.0</td>\n",
       "      <td>1156.0</td>\n",
       "      <td>23970.0</td>\n",
       "      <td>497025.0</td>\n",
       "    </tr>\n",
       "    <tr>\n",
       "      <th>2</th>\n",
       "      <td>100006453372</td>\n",
       "      <td>C</td>\n",
       "      <td>BANK OF AMERICA, N.A.</td>\n",
       "      <td>4.375</td>\n",
       "      <td>175000</td>\n",
       "      <td>360</td>\n",
       "      <td>52</td>\n",
       "      <td>52.0</td>\n",
       "      <td>2.0</td>\n",
       "      <td>29.0</td>\n",
       "      <td>...</td>\n",
       "      <td>2704.0</td>\n",
       "      <td>2704.0</td>\n",
       "      <td>1508.0</td>\n",
       "      <td>40352.0</td>\n",
       "      <td>2704.0</td>\n",
       "      <td>1508.0</td>\n",
       "      <td>40352.0</td>\n",
       "      <td>841.0</td>\n",
       "      <td>22504.0</td>\n",
       "      <td>602176.0</td>\n",
       "    </tr>\n",
       "    <tr>\n",
       "      <th>3</th>\n",
       "      <td>100010656545</td>\n",
       "      <td>C</td>\n",
       "      <td>BANK OF AMERICA, N.A.</td>\n",
       "      <td>4.375</td>\n",
       "      <td>365000</td>\n",
       "      <td>360</td>\n",
       "      <td>59</td>\n",
       "      <td>59.0</td>\n",
       "      <td>3.0</td>\n",
       "      <td>40.0</td>\n",
       "      <td>...</td>\n",
       "      <td>3481.0</td>\n",
       "      <td>3481.0</td>\n",
       "      <td>2360.0</td>\n",
       "      <td>47023.0</td>\n",
       "      <td>3481.0</td>\n",
       "      <td>2360.0</td>\n",
       "      <td>47023.0</td>\n",
       "      <td>1600.0</td>\n",
       "      <td>31880.0</td>\n",
       "      <td>635209.0</td>\n",
       "    </tr>\n",
       "    <tr>\n",
       "      <th>4</th>\n",
       "      <td>100010758624</td>\n",
       "      <td>R</td>\n",
       "      <td>CITIMORTGAGE, INC.</td>\n",
       "      <td>3.875</td>\n",
       "      <td>69000</td>\n",
       "      <td>120</td>\n",
       "      <td>28</td>\n",
       "      <td>28.0</td>\n",
       "      <td>1.0</td>\n",
       "      <td>32.0</td>\n",
       "      <td>...</td>\n",
       "      <td>784.0</td>\n",
       "      <td>784.0</td>\n",
       "      <td>896.0</td>\n",
       "      <td>21980.0</td>\n",
       "      <td>784.0</td>\n",
       "      <td>896.0</td>\n",
       "      <td>21980.0</td>\n",
       "      <td>1024.0</td>\n",
       "      <td>25120.0</td>\n",
       "      <td>616225.0</td>\n",
       "    </tr>\n",
       "  </tbody>\n",
       "</table>\n",
       "<p>5 rows × 42 columns</p>\n",
       "</div>"
      ],
      "text/plain": [
       "   LOAN IDENTIFIER ORIGINATION CHANNEL            SELLER NAME  \\\n",
       "0     100000841305                   C     CITIMORTGAGE, INC.   \n",
       "1     100001889356                   R                  OTHER   \n",
       "2     100006453372                   C  BANK OF AMERICA, N.A.   \n",
       "3     100010656545                   C  BANK OF AMERICA, N.A.   \n",
       "4     100010758624                   R     CITIMORTGAGE, INC.   \n",
       "\n",
       "   ORIGINAL INTEREST RATE  ORIGINAL UPB  ORIGINAL LOAN TERM  \\\n",
       "0                   4.125        124000                 360   \n",
       "1                   4.625        115000                 240   \n",
       "2                   4.375        175000                 360   \n",
       "3                   4.375        365000                 360   \n",
       "4                   3.875         69000                 120   \n",
       "\n",
       "   ORIGINAL LOAN-TO-VALUE (LTV)  ORIGINAL COMBINED LOAN-TO-VALUE (CLTV)  \\\n",
       "0                            79                                    79.0   \n",
       "1                            68                                    68.0   \n",
       "2                            52                                    52.0   \n",
       "3                            59                                    59.0   \n",
       "4                            28                                    28.0   \n",
       "\n",
       "   NUMBER OF BORROWERS  ORIGINAL DEBT TO INCOME RATIO         ...          \\\n",
       "0                  1.0                           28.0         ...           \n",
       "1                  1.0                           34.0         ...           \n",
       "2                  2.0                           29.0         ...           \n",
       "3                  3.0                           40.0         ...           \n",
       "4                  1.0                           32.0         ...           \n",
       "\n",
       "  ORIGINAL LOAN-TO-VALUE (LTV)^2  \\\n",
       "0                         6241.0   \n",
       "1                         4624.0   \n",
       "2                         2704.0   \n",
       "3                         3481.0   \n",
       "4                          784.0   \n",
       "\n",
       "  ORIGINAL LOAN-TO-VALUE (LTV) ORIGINAL COMBINED LOAN-TO-VALUE (CLTV)  \\\n",
       "0                                             6241.0                    \n",
       "1                                             4624.0                    \n",
       "2                                             2704.0                    \n",
       "3                                             3481.0                    \n",
       "4                                              784.0                    \n",
       "\n",
       "  ORIGINAL LOAN-TO-VALUE (LTV) ORIGINAL DEBT TO INCOME RATIO  \\\n",
       "0                                             2212.0           \n",
       "1                                             2312.0           \n",
       "2                                             1508.0           \n",
       "3                                             2360.0           \n",
       "4                                              896.0           \n",
       "\n",
       "   ORIGINAL LOAN-TO-VALUE (LTV) MIN CREDIT SCORE  \\\n",
       "0                                        62568.0   \n",
       "1                                        47940.0   \n",
       "2                                        40352.0   \n",
       "3                                        47023.0   \n",
       "4                                        21980.0   \n",
       "\n",
       "  ORIGINAL COMBINED LOAN-TO-VALUE (CLTV)^2  \\\n",
       "0                                   6241.0   \n",
       "1                                   4624.0   \n",
       "2                                   2704.0   \n",
       "3                                   3481.0   \n",
       "4                                    784.0   \n",
       "\n",
       "  ORIGINAL COMBINED LOAN-TO-VALUE (CLTV) ORIGINAL DEBT TO INCOME RATIO  \\\n",
       "0                                             2212.0                     \n",
       "1                                             2312.0                     \n",
       "2                                             1508.0                     \n",
       "3                                             2360.0                     \n",
       "4                                              896.0                     \n",
       "\n",
       "  ORIGINAL COMBINED LOAN-TO-VALUE (CLTV) MIN CREDIT SCORE  \\\n",
       "0                                            62568.0        \n",
       "1                                            47940.0        \n",
       "2                                            40352.0        \n",
       "3                                            47023.0        \n",
       "4                                            21980.0        \n",
       "\n",
       "  ORIGINAL DEBT TO INCOME RATIO^2  \\\n",
       "0                           784.0   \n",
       "1                          1156.0   \n",
       "2                           841.0   \n",
       "3                          1600.0   \n",
       "4                          1024.0   \n",
       "\n",
       "   ORIGINAL DEBT TO INCOME RATIO MIN CREDIT SCORE  MIN CREDIT SCORE^2  \n",
       "0                                         22176.0            627264.0  \n",
       "1                                         23970.0            497025.0  \n",
       "2                                         22504.0            602176.0  \n",
       "3                                         31880.0            635209.0  \n",
       "4                                         25120.0            616225.0  \n",
       "\n",
       "[5 rows x 42 columns]"
      ]
     },
     "execution_count": 4,
     "metadata": {},
     "output_type": "execute_result"
    }
   ],
   "source": [
    "poly = PolynomialFeatures(degree=2, include_bias=False)\n",
    "df_poly = pd.DataFrame(poly.fit_transform(df[continuous_features]), columns=poly.get_feature_names(continuous_features))\n",
    "df_poly = df_poly.drop(columns=continuous_features)\n",
    "df_poly = pd.concat([df, df_poly], axis=1)\n",
    "df_poly.head()"
   ]
  },
  {
   "cell_type": "code",
   "execution_count": 5,
   "metadata": {},
   "outputs": [],
   "source": [
    "categorical_features = ['ORIGINATION CHANNEL', 'SELLER NAME', 'FIRST TIME HOME BUYER INDICATOR', 'LOAN PURPOSE', \n",
    "                        'PROPERTY TYPE', 'OCCUPANCY TYPE', 'PROPERTY STATE', 'PRODUCT TYPE', 'RELOCATION MORTGAGE INDICATOR']"
   ]
  },
  {
   "cell_type": "code",
   "execution_count": 6,
   "metadata": {},
   "outputs": [
    {
     "data": {
      "text/plain": [
       "(504559, 113)"
      ]
     },
     "execution_count": 6,
     "metadata": {},
     "output_type": "execute_result"
    }
   ],
   "source": [
    "df_poly = pd.get_dummies(df_poly, columns=categorical_features, drop_first=True)\n",
    "df_poly.shape"
   ]
  },
  {
   "cell_type": "markdown",
   "metadata": {},
   "source": [
    "### Target number of observations  = features ^ 2\n",
    "- 112^2 = 12,544  \n",
    "\n",
    "Need to upsample minority and downsample majority"
   ]
  },
  {
   "cell_type": "code",
   "execution_count": 7,
   "metadata": {
    "scrolled": true
   },
   "outputs": [
    {
     "data": {
      "text/plain": [
       "0    502998\n",
       "1      1561\n",
       "Name: DEFAULT, dtype: int64"
      ]
     },
     "execution_count": 7,
     "metadata": {},
     "output_type": "execute_result"
    }
   ],
   "source": [
    "df['DEFAULT'].value_counts()"
   ]
  },
  {
   "cell_type": "code",
   "execution_count": 8,
   "metadata": {},
   "outputs": [
    {
     "data": {
      "text/plain": [
       "1    16173\n",
       "0    16173\n",
       "Name: DEFAULT, dtype: int64"
      ]
     },
     "execution_count": 8,
     "metadata": {},
     "output_type": "execute_result"
    }
   ],
   "source": [
    "# balance targets\n",
    "# split classes\n",
    "df_maj = df_poly[df_poly['DEFAULT'] == 0]\n",
    "df_min = df_poly[df_poly['DEFAULT'] == 1]\n",
    "\n",
    "# upsample minority\n",
    "df_min_resample = resample(df_min,\n",
    "                           replace=True,\n",
    "                           n_samples=int(len(df_poly.columns)**2.05),\n",
    "                           random_state=42)\n",
    "\n",
    "# downsample majority\n",
    "df_maj_resample = resample(df_maj, \n",
    "                           replace=False,    \n",
    "                           n_samples=df_min_resample.shape[0],\n",
    "                           random_state=42)             \n",
    "\n",
    "\n",
    "# concat downsample and minority\n",
    "df_resample = pd.concat([df_maj_resample, df_min_resample])\n",
    " \n",
    "# Display new class counts\n",
    "df_resample['DEFAULT'].value_counts()"
   ]
  },
  {
   "cell_type": "code",
   "execution_count": 9,
   "metadata": {},
   "outputs": [],
   "source": [
    "# train test split\n",
    "X = df_resample.drop(columns=['DEFAULT'])\n",
    "y = df_resample['DEFAULT']\n",
    "\n",
    "X_train, X_test, y_train, y_test = train_test_split(X, y,\n",
    "                                                    stratify=y,\n",
    "                                                    shuffle=True,\n",
    "                                                    random_state=42)"
   ]
  },
  {
   "cell_type": "code",
   "execution_count": 10,
   "metadata": {},
   "outputs": [],
   "source": [
    "ss = StandardScaler()\n",
    "ss.fit(X_train, y_train)\n",
    "X_train_sc = ss.transform(X_train)\n",
    "X_test_sc = ss.transform(X_test)"
   ]
  },
  {
   "cell_type": "markdown",
   "metadata": {},
   "source": [
    "## Logistic Classifier"
   ]
  },
  {
   "cell_type": "code",
   "execution_count": 11,
   "metadata": {},
   "outputs": [
    {
     "data": {
      "text/plain": [
       "GridSearchCV(cv=5, error_score='raise',\n",
       "       estimator=LogisticRegression(C=1.0, class_weight=None, dual=False, fit_intercept=True,\n",
       "          intercept_scaling=1, max_iter=100, multi_class='ovr', n_jobs=1,\n",
       "          penalty='l2', random_state=None, solver='liblinear', tol=0.0001,\n",
       "          verbose=0, warm_start=False),\n",
       "       fit_params=None, iid=True, n_jobs=-1,\n",
       "       param_grid={'penalty': ['l1', 'l2'], 'C': [0.1, 0.2, 0.3, 0.4]},\n",
       "       pre_dispatch='2*n_jobs', refit=True, return_train_score=True,\n",
       "       scoring=None, verbose=0)"
      ]
     },
     "execution_count": 11,
     "metadata": {},
     "output_type": "execute_result"
    }
   ],
   "source": [
    "params = {\n",
    "    'penalty': ['l1', 'l2'],\n",
    "    'C': [0.1, 0.2, 0.3, 0.4]\n",
    "}\n",
    "\n",
    "grid_log_cv = GridSearchCV(LogisticRegression(), params, cv=5, return_train_score=True, n_jobs=-1)\n",
    "grid_log_cv.fit(X_train_sc, y_train)"
   ]
  },
  {
   "cell_type": "code",
   "execution_count": 12,
   "metadata": {},
   "outputs": [
    {
     "data": {
      "text/plain": [
       "{'C': 0.2, 'penalty': 'l1'}"
      ]
     },
     "execution_count": 12,
     "metadata": {},
     "output_type": "execute_result"
    }
   ],
   "source": [
    "grid_log_cv.best_params_"
   ]
  },
  {
   "cell_type": "code",
   "execution_count": 13,
   "metadata": {},
   "outputs": [
    {
     "data": {
      "text/plain": [
       "0.7797106228616184"
      ]
     },
     "execution_count": 13,
     "metadata": {},
     "output_type": "execute_result"
    }
   ],
   "source": [
    "grid_log_cv.best_score_"
   ]
  },
  {
   "cell_type": "code",
   "execution_count": 14,
   "metadata": {},
   "outputs": [],
   "source": [
    "log_opt = grid_log_cv.best_estimator_"
   ]
  },
  {
   "cell_type": "code",
   "execution_count": 15,
   "metadata": {},
   "outputs": [
    {
     "data": {
      "text/plain": [
       "0.7808828984790405"
      ]
     },
     "execution_count": 15,
     "metadata": {},
     "output_type": "execute_result"
    }
   ],
   "source": [
    "log_opt.score(X_test_sc, y_test)"
   ]
  },
  {
   "cell_type": "code",
   "execution_count": 16,
   "metadata": {},
   "outputs": [],
   "source": [
    "y_pred = log_opt.predict(X_test_sc)"
   ]
  },
  {
   "cell_type": "code",
   "execution_count": 17,
   "metadata": {},
   "outputs": [
    {
     "data": {
      "text/plain": [
       "array([[3102,  942],\n",
       "       [ 830, 3213]], dtype=int64)"
      ]
     },
     "execution_count": 17,
     "metadata": {},
     "output_type": "execute_result"
    }
   ],
   "source": [
    "confusion_matrix(y_test, y_pred)"
   ]
  },
  {
   "cell_type": "code",
   "execution_count": 18,
   "metadata": {},
   "outputs": [],
   "source": [
    "tn, fp, fn, tp = confusion_matrix(y_test, y_pred).ravel()"
   ]
  },
  {
   "cell_type": "code",
   "execution_count": 19,
   "metadata": {},
   "outputs": [],
   "source": [
    "def false_negative_rate(fn=fn, tp=tp):\n",
    "    return fn/(tp+fn)\n",
    "\n",
    "def accuracy(tn=tn, tp=tp, y_test=y_test):\n",
    "    return (tn + tp)/len(y_test)"
   ]
  },
  {
   "cell_type": "code",
   "execution_count": 20,
   "metadata": {},
   "outputs": [
    {
     "data": {
      "text/plain": [
       "0.20529309918377442"
      ]
     },
     "execution_count": 20,
     "metadata": {},
     "output_type": "execute_result"
    }
   ],
   "source": [
    "false_negative_rate()"
   ]
  },
  {
   "cell_type": "code",
   "execution_count": 21,
   "metadata": {},
   "outputs": [
    {
     "data": {
      "text/plain": [
       "0.7808828984790405"
      ]
     },
     "execution_count": 21,
     "metadata": {},
     "output_type": "execute_result"
    }
   ],
   "source": [
    "accuracy()"
   ]
  },
  {
   "cell_type": "code",
   "execution_count": 22,
   "metadata": {},
   "outputs": [
    {
     "data": {
      "text/html": [
       "<div>\n",
       "<style scoped>\n",
       "    .dataframe tbody tr th:only-of-type {\n",
       "        vertical-align: middle;\n",
       "    }\n",
       "\n",
       "    .dataframe tbody tr th {\n",
       "        vertical-align: top;\n",
       "    }\n",
       "\n",
       "    .dataframe thead th {\n",
       "        text-align: right;\n",
       "    }\n",
       "</style>\n",
       "<table border=\"1\" class=\"dataframe\">\n",
       "  <thead>\n",
       "    <tr style=\"text-align: right;\">\n",
       "      <th></th>\n",
       "      <th>NO DEFAULT</th>\n",
       "      <th>DEFAULT</th>\n",
       "      <th>y_pred</th>\n",
       "      <th>y_pred_adj</th>\n",
       "    </tr>\n",
       "  </thead>\n",
       "  <tbody>\n",
       "    <tr>\n",
       "      <th>0</th>\n",
       "      <td>0.082824</td>\n",
       "      <td>0.917176</td>\n",
       "      <td>1</td>\n",
       "      <td>1</td>\n",
       "    </tr>\n",
       "    <tr>\n",
       "      <th>1</th>\n",
       "      <td>0.706832</td>\n",
       "      <td>0.293168</td>\n",
       "      <td>0</td>\n",
       "      <td>1</td>\n",
       "    </tr>\n",
       "    <tr>\n",
       "      <th>2</th>\n",
       "      <td>0.820970</td>\n",
       "      <td>0.179030</td>\n",
       "      <td>0</td>\n",
       "      <td>1</td>\n",
       "    </tr>\n",
       "    <tr>\n",
       "      <th>3</th>\n",
       "      <td>0.882701</td>\n",
       "      <td>0.117299</td>\n",
       "      <td>0</td>\n",
       "      <td>1</td>\n",
       "    </tr>\n",
       "    <tr>\n",
       "      <th>4</th>\n",
       "      <td>0.231704</td>\n",
       "      <td>0.768296</td>\n",
       "      <td>1</td>\n",
       "      <td>1</td>\n",
       "    </tr>\n",
       "  </tbody>\n",
       "</table>\n",
       "</div>"
      ],
      "text/plain": [
       "   NO DEFAULT   DEFAULT  y_pred  y_pred_adj\n",
       "0    0.082824  0.917176       1           1\n",
       "1    0.706832  0.293168       0           1\n",
       "2    0.820970  0.179030       0           1\n",
       "3    0.882701  0.117299       0           1\n",
       "4    0.231704  0.768296       1           1"
      ]
     },
     "execution_count": 22,
     "metadata": {},
     "output_type": "execute_result"
    }
   ],
   "source": [
    "df_pred = pd.DataFrame(log_opt.predict_proba(X_test_sc), columns=['NO DEFAULT', 'DEFAULT'])\n",
    "df_pred['y_pred'] = y_pred\n",
    "df_pred['y_pred_adj'] = df_pred['DEFAULT'].map(lambda x: 1 if x >= 0.05 else 0)\n",
    "df_pred.head()"
   ]
  },
  {
   "cell_type": "code",
   "execution_count": 23,
   "metadata": {},
   "outputs": [
    {
     "data": {
      "text/plain": [
       "array([[ 561, 3483],\n",
       "       [  27, 4016]], dtype=int64)"
      ]
     },
     "execution_count": 23,
     "metadata": {},
     "output_type": "execute_result"
    }
   ],
   "source": [
    "confusion_matrix(y_test, df_pred['y_pred_adj'])"
   ]
  },
  {
   "cell_type": "code",
   "execution_count": 24,
   "metadata": {},
   "outputs": [],
   "source": [
    "tn, fp, fn, tp = confusion_matrix(y_test, df_pred['y_pred_adj']).ravel()"
   ]
  },
  {
   "cell_type": "code",
   "execution_count": 25,
   "metadata": {},
   "outputs": [
    {
     "data": {
      "text/plain": [
       "0.006678209250556517"
      ]
     },
     "execution_count": 25,
     "metadata": {},
     "output_type": "execute_result"
    }
   ],
   "source": [
    "false_negative_rate(fn, tp)"
   ]
  },
  {
   "cell_type": "code",
   "execution_count": 26,
   "metadata": {},
   "outputs": [
    {
     "data": {
      "text/plain": [
       "0.565970075429702"
      ]
     },
     "execution_count": 26,
     "metadata": {},
     "output_type": "execute_result"
    }
   ],
   "source": [
    "accuracy(tn, tp, y_test)"
   ]
  },
  {
   "cell_type": "markdown",
   "metadata": {},
   "source": [
    "## Neural Network"
   ]
  },
  {
   "cell_type": "code",
   "execution_count": 39,
   "metadata": {},
   "outputs": [
    {
     "name": "stdout",
     "output_type": "stream",
     "text": [
      "Train on 24259 samples, validate on 8087 samples\n",
      "Epoch 1/100\n",
      "24259/24259 [==============================] - 2s 79us/step - loss: 0.4748 - acc: 0.7807 - val_loss: 0.4333 - val_acc: 0.8071\n",
      "Epoch 2/100\n",
      "24259/24259 [==============================] - 1s 54us/step - loss: 0.4048 - acc: 0.8231 - val_loss: 0.3711 - val_acc: 0.8420\n",
      "Epoch 3/100\n",
      "24259/24259 [==============================] - 1s 54us/step - loss: 0.3564 - acc: 0.8484 - val_loss: 0.3465 - val_acc: 0.8500\n",
      "Epoch 4/100\n",
      "24259/24259 [==============================] - 1s 54us/step - loss: 0.3176 - acc: 0.8689 - val_loss: 0.3096 - val_acc: 0.8804\n",
      "Epoch 5/100\n",
      "24259/24259 [==============================] - 2s 62us/step - loss: 0.2860 - acc: 0.8835 - val_loss: 0.2753 - val_acc: 0.8970\n",
      "Epoch 6/100\n",
      "24259/24259 [==============================] - 1s 54us/step - loss: 0.2532 - acc: 0.9017 - val_loss: 0.2427 - val_acc: 0.9136\n",
      "Epoch 7/100\n",
      "24259/24259 [==============================] - 2s 69us/step - loss: 0.2364 - acc: 0.9068 - val_loss: 0.2330 - val_acc: 0.9143\n",
      "Epoch 8/100\n",
      "24259/24259 [==============================] - 1s 53us/step - loss: 0.2174 - acc: 0.9162 - val_loss: 0.2150 - val_acc: 0.9269\n",
      "Epoch 9/100\n",
      "24259/24259 [==============================] - 1s 58us/step - loss: 0.1987 - acc: 0.9229 - val_loss: 0.2026 - val_acc: 0.9303\n",
      "Epoch 10/100\n",
      "24259/24259 [==============================] - 1s 60us/step - loss: 0.1848 - acc: 0.9302 - val_loss: 0.2048 - val_acc: 0.9274\n",
      "Epoch 11/100\n",
      "24259/24259 [==============================] - 1s 52us/step - loss: 0.1705 - acc: 0.9373 - val_loss: 0.1974 - val_acc: 0.9336\n",
      "Epoch 12/100\n",
      "24259/24259 [==============================] - 1s 48us/step - loss: 0.1590 - acc: 0.9416 - val_loss: 0.1810 - val_acc: 0.9416\n",
      "Epoch 13/100\n",
      "24259/24259 [==============================] - 1s 49us/step - loss: 0.1515 - acc: 0.9439 - val_loss: 0.1813 - val_acc: 0.9390\n",
      "Epoch 14/100\n",
      "24259/24259 [==============================] - 2s 63us/step - loss: 0.1437 - acc: 0.9464 - val_loss: 0.1637 - val_acc: 0.9447\n",
      "Epoch 15/100\n",
      "24259/24259 [==============================] - 1s 55us/step - loss: 0.1351 - acc: 0.9510 - val_loss: 0.1737 - val_acc: 0.9445\n",
      "Epoch 16/100\n",
      "24259/24259 [==============================] - 1s 58us/step - loss: 0.1287 - acc: 0.9533 - val_loss: 0.1646 - val_acc: 0.9463\n"
     ]
    }
   ],
   "source": [
    "num = X_train_sc.shape[1]\n",
    "\n",
    "nn = Sequential()\n",
    "\n",
    "nn.add(Dense(num, activation='relu', input_dim=num))\n",
    "nn.add(Dropout(0.1))\n",
    "nn.add(Dense(int(num/2), activation='relu'))\n",
    "nn.add(Dense(1, activation='sigmoid'))\n",
    "\n",
    "nn.compile(optimizer='adam', loss='binary_crossentropy', metrics=['accuracy'])\n",
    "\n",
    "early = EarlyStopping(monitor='val_loss', min_delta=0, patience=2)\n",
    "\n",
    "nn_result = nn.fit(X_train_sc, y_train, epochs=100, validation_data=(X_test_sc, y_test), callbacks=[early])"
   ]
  },
  {
   "cell_type": "code",
   "execution_count": 28,
   "metadata": {},
   "outputs": [
    {
     "data": {
      "text/html": [
       "<div>\n",
       "<style scoped>\n",
       "    .dataframe tbody tr th:only-of-type {\n",
       "        vertical-align: middle;\n",
       "    }\n",
       "\n",
       "    .dataframe tbody tr th {\n",
       "        vertical-align: top;\n",
       "    }\n",
       "\n",
       "    .dataframe thead th {\n",
       "        text-align: right;\n",
       "    }\n",
       "</style>\n",
       "<table border=\"1\" class=\"dataframe\">\n",
       "  <thead>\n",
       "    <tr style=\"text-align: right;\">\n",
       "      <th></th>\n",
       "      <th>DEFAULT</th>\n",
       "      <th>y_pred</th>\n",
       "      <th>y_pred_adj</th>\n",
       "    </tr>\n",
       "  </thead>\n",
       "  <tbody>\n",
       "    <tr>\n",
       "      <th>0</th>\n",
       "      <td>9.962887e-01</td>\n",
       "      <td>1</td>\n",
       "      <td>1</td>\n",
       "    </tr>\n",
       "    <tr>\n",
       "      <th>1</th>\n",
       "      <td>9.998637e-01</td>\n",
       "      <td>1</td>\n",
       "      <td>1</td>\n",
       "    </tr>\n",
       "    <tr>\n",
       "      <th>2</th>\n",
       "      <td>4.264235e-07</td>\n",
       "      <td>0</td>\n",
       "      <td>0</td>\n",
       "    </tr>\n",
       "    <tr>\n",
       "      <th>3</th>\n",
       "      <td>2.080206e-03</td>\n",
       "      <td>0</td>\n",
       "      <td>0</td>\n",
       "    </tr>\n",
       "    <tr>\n",
       "      <th>4</th>\n",
       "      <td>9.992656e-01</td>\n",
       "      <td>1</td>\n",
       "      <td>1</td>\n",
       "    </tr>\n",
       "  </tbody>\n",
       "</table>\n",
       "</div>"
      ],
      "text/plain": [
       "        DEFAULT  y_pred  y_pred_adj\n",
       "0  9.962887e-01       1           1\n",
       "1  9.998637e-01       1           1\n",
       "2  4.264235e-07       0           0\n",
       "3  2.080206e-03       0           0\n",
       "4  9.992656e-01       1           1"
      ]
     },
     "execution_count": 28,
     "metadata": {},
     "output_type": "execute_result"
    }
   ],
   "source": [
    "df_pred_nn = pd.DataFrame(nn.predict_proba(X_test_sc), columns=['DEFAULT'])\n",
    "df_pred_nn['y_pred'] = nn.predict_classes(X_test_sc)\n",
    "df_pred_nn['y_pred_adj'] = df_pred_nn['DEFAULT'].map(lambda x: 1 if x >= 0.01 else 0)\n",
    "df_pred_nn.head()"
   ]
  },
  {
   "cell_type": "code",
   "execution_count": 29,
   "metadata": {},
   "outputs": [
    {
     "data": {
      "text/plain": [
       "array([[2955, 1089],\n",
       "       [   0, 4043]], dtype=int64)"
      ]
     },
     "execution_count": 29,
     "metadata": {},
     "output_type": "execute_result"
    }
   ],
   "source": [
    "confusion_matrix(y_test, df_pred_nn['y_pred_adj'])"
   ]
  },
  {
   "cell_type": "code",
   "execution_count": 30,
   "metadata": {},
   "outputs": [],
   "source": [
    "tn, fp, fn, tp = confusion_matrix(y_test, df_pred_nn['y_pred_adj']).ravel()"
   ]
  },
  {
   "cell_type": "code",
   "execution_count": 31,
   "metadata": {},
   "outputs": [
    {
     "data": {
      "text/plain": [
       "0.0"
      ]
     },
     "execution_count": 31,
     "metadata": {},
     "output_type": "execute_result"
    }
   ],
   "source": [
    "false_negative_rate(fn, tp)"
   ]
  },
  {
   "cell_type": "code",
   "execution_count": 32,
   "metadata": {},
   "outputs": [
    {
     "data": {
      "text/plain": [
       "0.8653394336589588"
      ]
     },
     "execution_count": 32,
     "metadata": {},
     "output_type": "execute_result"
    }
   ],
   "source": [
    "accuracy(tn, tp, y_test)"
   ]
  },
  {
   "cell_type": "code",
   "execution_count": 33,
   "metadata": {},
   "outputs": [],
   "source": [
    "# plot changes in threshold to visualize changes"
   ]
  },
  {
   "cell_type": "markdown",
   "metadata": {},
   "source": [
    "## Neural Network on Future Data"
   ]
  },
  {
   "cell_type": "code",
   "execution_count": 57,
   "metadata": {},
   "outputs": [
    {
     "data": {
      "text/html": [
       "<div>\n",
       "<style scoped>\n",
       "    .dataframe tbody tr th:only-of-type {\n",
       "        vertical-align: middle;\n",
       "    }\n",
       "\n",
       "    .dataframe tbody tr th {\n",
       "        vertical-align: top;\n",
       "    }\n",
       "\n",
       "    .dataframe thead th {\n",
       "        text-align: right;\n",
       "    }\n",
       "</style>\n",
       "<table border=\"1\" class=\"dataframe\">\n",
       "  <thead>\n",
       "    <tr style=\"text-align: right;\">\n",
       "      <th></th>\n",
       "      <th>LOAN IDENTIFIER</th>\n",
       "      <th>ORIGINATION CHANNEL</th>\n",
       "      <th>SELLER NAME</th>\n",
       "      <th>ORIGINAL INTEREST RATE</th>\n",
       "      <th>ORIGINAL UPB</th>\n",
       "      <th>ORIGINAL LOAN TERM</th>\n",
       "      <th>ORIGINAL LOAN-TO-VALUE (LTV)</th>\n",
       "      <th>ORIGINAL COMBINED LOAN-TO-VALUE (CLTV)</th>\n",
       "      <th>NUMBER OF BORROWERS</th>\n",
       "      <th>ORIGINAL DEBT TO INCOME RATIO</th>\n",
       "      <th>...</th>\n",
       "      <th>LOAN PURPOSE</th>\n",
       "      <th>PROPERTY TYPE</th>\n",
       "      <th>NUMBER OF UNITS</th>\n",
       "      <th>OCCUPANCY TYPE</th>\n",
       "      <th>PROPERTY STATE</th>\n",
       "      <th>PRODUCT TYPE</th>\n",
       "      <th>RELOCATION MORTGAGE INDICATOR</th>\n",
       "      <th>DEFAULT</th>\n",
       "      <th>MI</th>\n",
       "      <th>MIN CREDIT SCORE</th>\n",
       "    </tr>\n",
       "  </thead>\n",
       "  <tbody>\n",
       "    <tr>\n",
       "      <th>0</th>\n",
       "      <td>100000853384</td>\n",
       "      <td>R</td>\n",
       "      <td>OTHER</td>\n",
       "      <td>4.625</td>\n",
       "      <td>280000</td>\n",
       "      <td>360</td>\n",
       "      <td>31</td>\n",
       "      <td>31.0</td>\n",
       "      <td>1.0</td>\n",
       "      <td>23.0</td>\n",
       "      <td>...</td>\n",
       "      <td>C</td>\n",
       "      <td>SF</td>\n",
       "      <td>1</td>\n",
       "      <td>I</td>\n",
       "      <td>CA</td>\n",
       "      <td>FRM</td>\n",
       "      <td>N</td>\n",
       "      <td>0</td>\n",
       "      <td>0.0</td>\n",
       "      <td>801.0</td>\n",
       "    </tr>\n",
       "    <tr>\n",
       "      <th>1</th>\n",
       "      <td>100003735682</td>\n",
       "      <td>R</td>\n",
       "      <td>SUNTRUST MORTGAGE INC.</td>\n",
       "      <td>3.990</td>\n",
       "      <td>466000</td>\n",
       "      <td>360</td>\n",
       "      <td>80</td>\n",
       "      <td>80.0</td>\n",
       "      <td>2.0</td>\n",
       "      <td>30.0</td>\n",
       "      <td>...</td>\n",
       "      <td>P</td>\n",
       "      <td>SF</td>\n",
       "      <td>1</td>\n",
       "      <td>P</td>\n",
       "      <td>MD</td>\n",
       "      <td>FRM</td>\n",
       "      <td>N</td>\n",
       "      <td>0</td>\n",
       "      <td>0.0</td>\n",
       "      <td>788.0</td>\n",
       "    </tr>\n",
       "    <tr>\n",
       "      <th>2</th>\n",
       "      <td>100006367485</td>\n",
       "      <td>C</td>\n",
       "      <td>PHH MORTGAGE CORPORATION</td>\n",
       "      <td>4.000</td>\n",
       "      <td>229000</td>\n",
       "      <td>360</td>\n",
       "      <td>67</td>\n",
       "      <td>67.0</td>\n",
       "      <td>2.0</td>\n",
       "      <td>36.0</td>\n",
       "      <td>...</td>\n",
       "      <td>R</td>\n",
       "      <td>SF</td>\n",
       "      <td>1</td>\n",
       "      <td>P</td>\n",
       "      <td>CA</td>\n",
       "      <td>FRM</td>\n",
       "      <td>N</td>\n",
       "      <td>0</td>\n",
       "      <td>0.0</td>\n",
       "      <td>794.0</td>\n",
       "    </tr>\n",
       "    <tr>\n",
       "      <th>3</th>\n",
       "      <td>100007267644</td>\n",
       "      <td>C</td>\n",
       "      <td>OTHER</td>\n",
       "      <td>4.125</td>\n",
       "      <td>154000</td>\n",
       "      <td>360</td>\n",
       "      <td>77</td>\n",
       "      <td>77.0</td>\n",
       "      <td>1.0</td>\n",
       "      <td>43.0</td>\n",
       "      <td>...</td>\n",
       "      <td>R</td>\n",
       "      <td>CO</td>\n",
       "      <td>1</td>\n",
       "      <td>P</td>\n",
       "      <td>MA</td>\n",
       "      <td>FRM</td>\n",
       "      <td>N</td>\n",
       "      <td>0</td>\n",
       "      <td>0.0</td>\n",
       "      <td>724.0</td>\n",
       "    </tr>\n",
       "    <tr>\n",
       "      <th>4</th>\n",
       "      <td>100007813921</td>\n",
       "      <td>C</td>\n",
       "      <td>FLAGSTAR CAPITAL MARKETS CORPORATION</td>\n",
       "      <td>3.875</td>\n",
       "      <td>152000</td>\n",
       "      <td>360</td>\n",
       "      <td>48</td>\n",
       "      <td>48.0</td>\n",
       "      <td>2.0</td>\n",
       "      <td>26.0</td>\n",
       "      <td>...</td>\n",
       "      <td>R</td>\n",
       "      <td>PU</td>\n",
       "      <td>1</td>\n",
       "      <td>P</td>\n",
       "      <td>CA</td>\n",
       "      <td>FRM</td>\n",
       "      <td>N</td>\n",
       "      <td>0</td>\n",
       "      <td>0.0</td>\n",
       "      <td>820.0</td>\n",
       "    </tr>\n",
       "  </tbody>\n",
       "</table>\n",
       "<p>5 rows × 21 columns</p>\n",
       "</div>"
      ],
      "text/plain": [
       "   LOAN IDENTIFIER ORIGINATION CHANNEL                           SELLER NAME  \\\n",
       "0     100000853384                   R                                 OTHER   \n",
       "1     100003735682                   R                SUNTRUST MORTGAGE INC.   \n",
       "2     100006367485                   C              PHH MORTGAGE CORPORATION   \n",
       "3     100007267644                   C                                 OTHER   \n",
       "4     100007813921                   C  FLAGSTAR CAPITAL MARKETS CORPORATION   \n",
       "\n",
       "   ORIGINAL INTEREST RATE  ORIGINAL UPB  ORIGINAL LOAN TERM  \\\n",
       "0                   4.625        280000                 360   \n",
       "1                   3.990        466000                 360   \n",
       "2                   4.000        229000                 360   \n",
       "3                   4.125        154000                 360   \n",
       "4                   3.875        152000                 360   \n",
       "\n",
       "   ORIGINAL LOAN-TO-VALUE (LTV)  ORIGINAL COMBINED LOAN-TO-VALUE (CLTV)  \\\n",
       "0                            31                                    31.0   \n",
       "1                            80                                    80.0   \n",
       "2                            67                                    67.0   \n",
       "3                            77                                    77.0   \n",
       "4                            48                                    48.0   \n",
       "\n",
       "   NUMBER OF BORROWERS  ORIGINAL DEBT TO INCOME RATIO        ...         \\\n",
       "0                  1.0                           23.0        ...          \n",
       "1                  2.0                           30.0        ...          \n",
       "2                  2.0                           36.0        ...          \n",
       "3                  1.0                           43.0        ...          \n",
       "4                  2.0                           26.0        ...          \n",
       "\n",
       "  LOAN PURPOSE PROPERTY TYPE NUMBER OF UNITS  OCCUPANCY TYPE PROPERTY STATE  \\\n",
       "0            C            SF               1               I             CA   \n",
       "1            P            SF               1               P             MD   \n",
       "2            R            SF               1               P             CA   \n",
       "3            R            CO               1               P             MA   \n",
       "4            R            PU               1               P             CA   \n",
       "\n",
       "  PRODUCT TYPE RELOCATION MORTGAGE INDICATOR DEFAULT   MI  MIN CREDIT SCORE  \n",
       "0          FRM                             N       0  0.0             801.0  \n",
       "1          FRM                             N       0  0.0             788.0  \n",
       "2          FRM                             N       0  0.0             794.0  \n",
       "3          FRM                             N       0  0.0             724.0  \n",
       "4          FRM                             N       0  0.0             820.0  \n",
       "\n",
       "[5 rows x 21 columns]"
      ]
     },
     "execution_count": 57,
     "metadata": {},
     "output_type": "execute_result"
    }
   ],
   "source": [
    "df_2012Q1 = pd.read_csv('../data/complete2012q1.csv')\n",
    "df_2012Q1.head()"
   ]
  },
  {
   "cell_type": "code",
   "execution_count": 58,
   "metadata": {},
   "outputs": [
    {
     "data": {
      "text/plain": [
       "(637079, 96)"
      ]
     },
     "execution_count": 58,
     "metadata": {},
     "output_type": "execute_result"
    }
   ],
   "source": [
    "df_2012Q1 = pd.get_dummies(df_2012Q1, columns=categorical_features, drop_first=True)\n",
    "df_2012Q1.shape"
   ]
  },
  {
   "cell_type": "code",
   "execution_count": 59,
   "metadata": {},
   "outputs": [
    {
     "name": "stderr",
     "output_type": "stream",
     "text": [
      "C:\\Users\\bdmir\\Anaconda3\\envs\\dsi\\lib\\site-packages\\sklearn\\preprocessing\\data.py:1263: FutureWarning: arrays to stack must be passed as a \"sequence\" type such as list or tuple. Support for non-sequence iterables such as generators is deprecated as of NumPy 1.16 and will raise an error in the future.\n",
      "  for c in combinations)\n"
     ]
    },
    {
     "data": {
      "text/html": [
       "<div>\n",
       "<style scoped>\n",
       "    .dataframe tbody tr th:only-of-type {\n",
       "        vertical-align: middle;\n",
       "    }\n",
       "\n",
       "    .dataframe tbody tr th {\n",
       "        vertical-align: top;\n",
       "    }\n",
       "\n",
       "    .dataframe thead th {\n",
       "        text-align: right;\n",
       "    }\n",
       "</style>\n",
       "<table border=\"1\" class=\"dataframe\">\n",
       "  <thead>\n",
       "    <tr style=\"text-align: right;\">\n",
       "      <th></th>\n",
       "      <th>LOAN IDENTIFIER</th>\n",
       "      <th>ORIGINAL INTEREST RATE</th>\n",
       "      <th>ORIGINAL UPB</th>\n",
       "      <th>ORIGINAL LOAN TERM</th>\n",
       "      <th>ORIGINAL LOAN-TO-VALUE (LTV)</th>\n",
       "      <th>ORIGINAL COMBINED LOAN-TO-VALUE (CLTV)</th>\n",
       "      <th>NUMBER OF BORROWERS</th>\n",
       "      <th>ORIGINAL DEBT TO INCOME RATIO</th>\n",
       "      <th>NUMBER OF UNITS</th>\n",
       "      <th>DEFAULT</th>\n",
       "      <th>...</th>\n",
       "      <th>ORIGINAL LOAN-TO-VALUE (LTV)^2</th>\n",
       "      <th>ORIGINAL LOAN-TO-VALUE (LTV) ORIGINAL COMBINED LOAN-TO-VALUE (CLTV)</th>\n",
       "      <th>ORIGINAL LOAN-TO-VALUE (LTV) ORIGINAL DEBT TO INCOME RATIO</th>\n",
       "      <th>ORIGINAL LOAN-TO-VALUE (LTV) MIN CREDIT SCORE</th>\n",
       "      <th>ORIGINAL COMBINED LOAN-TO-VALUE (CLTV)^2</th>\n",
       "      <th>ORIGINAL COMBINED LOAN-TO-VALUE (CLTV) ORIGINAL DEBT TO INCOME RATIO</th>\n",
       "      <th>ORIGINAL COMBINED LOAN-TO-VALUE (CLTV) MIN CREDIT SCORE</th>\n",
       "      <th>ORIGINAL DEBT TO INCOME RATIO^2</th>\n",
       "      <th>ORIGINAL DEBT TO INCOME RATIO MIN CREDIT SCORE</th>\n",
       "      <th>MIN CREDIT SCORE^2</th>\n",
       "    </tr>\n",
       "  </thead>\n",
       "  <tbody>\n",
       "    <tr>\n",
       "      <th>0</th>\n",
       "      <td>100000853384</td>\n",
       "      <td>4.625</td>\n",
       "      <td>280000</td>\n",
       "      <td>360</td>\n",
       "      <td>31</td>\n",
       "      <td>31.0</td>\n",
       "      <td>1.0</td>\n",
       "      <td>23.0</td>\n",
       "      <td>1</td>\n",
       "      <td>0</td>\n",
       "      <td>...</td>\n",
       "      <td>961.0</td>\n",
       "      <td>961.0</td>\n",
       "      <td>713.0</td>\n",
       "      <td>24831.0</td>\n",
       "      <td>961.0</td>\n",
       "      <td>713.0</td>\n",
       "      <td>24831.0</td>\n",
       "      <td>529.0</td>\n",
       "      <td>18423.0</td>\n",
       "      <td>641601.0</td>\n",
       "    </tr>\n",
       "    <tr>\n",
       "      <th>1</th>\n",
       "      <td>100003735682</td>\n",
       "      <td>3.990</td>\n",
       "      <td>466000</td>\n",
       "      <td>360</td>\n",
       "      <td>80</td>\n",
       "      <td>80.0</td>\n",
       "      <td>2.0</td>\n",
       "      <td>30.0</td>\n",
       "      <td>1</td>\n",
       "      <td>0</td>\n",
       "      <td>...</td>\n",
       "      <td>6400.0</td>\n",
       "      <td>6400.0</td>\n",
       "      <td>2400.0</td>\n",
       "      <td>63040.0</td>\n",
       "      <td>6400.0</td>\n",
       "      <td>2400.0</td>\n",
       "      <td>63040.0</td>\n",
       "      <td>900.0</td>\n",
       "      <td>23640.0</td>\n",
       "      <td>620944.0</td>\n",
       "    </tr>\n",
       "    <tr>\n",
       "      <th>2</th>\n",
       "      <td>100006367485</td>\n",
       "      <td>4.000</td>\n",
       "      <td>229000</td>\n",
       "      <td>360</td>\n",
       "      <td>67</td>\n",
       "      <td>67.0</td>\n",
       "      <td>2.0</td>\n",
       "      <td>36.0</td>\n",
       "      <td>1</td>\n",
       "      <td>0</td>\n",
       "      <td>...</td>\n",
       "      <td>4489.0</td>\n",
       "      <td>4489.0</td>\n",
       "      <td>2412.0</td>\n",
       "      <td>53198.0</td>\n",
       "      <td>4489.0</td>\n",
       "      <td>2412.0</td>\n",
       "      <td>53198.0</td>\n",
       "      <td>1296.0</td>\n",
       "      <td>28584.0</td>\n",
       "      <td>630436.0</td>\n",
       "    </tr>\n",
       "    <tr>\n",
       "      <th>3</th>\n",
       "      <td>100007267644</td>\n",
       "      <td>4.125</td>\n",
       "      <td>154000</td>\n",
       "      <td>360</td>\n",
       "      <td>77</td>\n",
       "      <td>77.0</td>\n",
       "      <td>1.0</td>\n",
       "      <td>43.0</td>\n",
       "      <td>1</td>\n",
       "      <td>0</td>\n",
       "      <td>...</td>\n",
       "      <td>5929.0</td>\n",
       "      <td>5929.0</td>\n",
       "      <td>3311.0</td>\n",
       "      <td>55748.0</td>\n",
       "      <td>5929.0</td>\n",
       "      <td>3311.0</td>\n",
       "      <td>55748.0</td>\n",
       "      <td>1849.0</td>\n",
       "      <td>31132.0</td>\n",
       "      <td>524176.0</td>\n",
       "    </tr>\n",
       "    <tr>\n",
       "      <th>4</th>\n",
       "      <td>100007813921</td>\n",
       "      <td>3.875</td>\n",
       "      <td>152000</td>\n",
       "      <td>360</td>\n",
       "      <td>48</td>\n",
       "      <td>48.0</td>\n",
       "      <td>2.0</td>\n",
       "      <td>26.0</td>\n",
       "      <td>1</td>\n",
       "      <td>0</td>\n",
       "      <td>...</td>\n",
       "      <td>2304.0</td>\n",
       "      <td>2304.0</td>\n",
       "      <td>1248.0</td>\n",
       "      <td>39360.0</td>\n",
       "      <td>2304.0</td>\n",
       "      <td>1248.0</td>\n",
       "      <td>39360.0</td>\n",
       "      <td>676.0</td>\n",
       "      <td>21320.0</td>\n",
       "      <td>672400.0</td>\n",
       "    </tr>\n",
       "  </tbody>\n",
       "</table>\n",
       "<p>5 rows × 117 columns</p>\n",
       "</div>"
      ],
      "text/plain": [
       "   LOAN IDENTIFIER  ORIGINAL INTEREST RATE  ORIGINAL UPB  ORIGINAL LOAN TERM  \\\n",
       "0     100000853384                   4.625        280000                 360   \n",
       "1     100003735682                   3.990        466000                 360   \n",
       "2     100006367485                   4.000        229000                 360   \n",
       "3     100007267644                   4.125        154000                 360   \n",
       "4     100007813921                   3.875        152000                 360   \n",
       "\n",
       "   ORIGINAL LOAN-TO-VALUE (LTV)  ORIGINAL COMBINED LOAN-TO-VALUE (CLTV)  \\\n",
       "0                            31                                    31.0   \n",
       "1                            80                                    80.0   \n",
       "2                            67                                    67.0   \n",
       "3                            77                                    77.0   \n",
       "4                            48                                    48.0   \n",
       "\n",
       "   NUMBER OF BORROWERS  ORIGINAL DEBT TO INCOME RATIO  NUMBER OF UNITS  \\\n",
       "0                  1.0                           23.0                1   \n",
       "1                  2.0                           30.0                1   \n",
       "2                  2.0                           36.0                1   \n",
       "3                  1.0                           43.0                1   \n",
       "4                  2.0                           26.0                1   \n",
       "\n",
       "   DEFAULT         ...          ORIGINAL LOAN-TO-VALUE (LTV)^2  \\\n",
       "0        0         ...                                   961.0   \n",
       "1        0         ...                                  6400.0   \n",
       "2        0         ...                                  4489.0   \n",
       "3        0         ...                                  5929.0   \n",
       "4        0         ...                                  2304.0   \n",
       "\n",
       "   ORIGINAL LOAN-TO-VALUE (LTV) ORIGINAL COMBINED LOAN-TO-VALUE (CLTV)  \\\n",
       "0                                              961.0                     \n",
       "1                                             6400.0                     \n",
       "2                                             4489.0                     \n",
       "3                                             5929.0                     \n",
       "4                                             2304.0                     \n",
       "\n",
       "   ORIGINAL LOAN-TO-VALUE (LTV) ORIGINAL DEBT TO INCOME RATIO  \\\n",
       "0                                              713.0            \n",
       "1                                             2400.0            \n",
       "2                                             2412.0            \n",
       "3                                             3311.0            \n",
       "4                                             1248.0            \n",
       "\n",
       "   ORIGINAL LOAN-TO-VALUE (LTV) MIN CREDIT SCORE  \\\n",
       "0                                        24831.0   \n",
       "1                                        63040.0   \n",
       "2                                        53198.0   \n",
       "3                                        55748.0   \n",
       "4                                        39360.0   \n",
       "\n",
       "   ORIGINAL COMBINED LOAN-TO-VALUE (CLTV)^2  \\\n",
       "0                                     961.0   \n",
       "1                                    6400.0   \n",
       "2                                    4489.0   \n",
       "3                                    5929.0   \n",
       "4                                    2304.0   \n",
       "\n",
       "   ORIGINAL COMBINED LOAN-TO-VALUE (CLTV) ORIGINAL DEBT TO INCOME RATIO  \\\n",
       "0                                              713.0                      \n",
       "1                                             2400.0                      \n",
       "2                                             2412.0                      \n",
       "3                                             3311.0                      \n",
       "4                                             1248.0                      \n",
       "\n",
       "   ORIGINAL COMBINED LOAN-TO-VALUE (CLTV) MIN CREDIT SCORE  \\\n",
       "0                                            24831.0         \n",
       "1                                            63040.0         \n",
       "2                                            53198.0         \n",
       "3                                            55748.0         \n",
       "4                                            39360.0         \n",
       "\n",
       "   ORIGINAL DEBT TO INCOME RATIO^2  \\\n",
       "0                            529.0   \n",
       "1                            900.0   \n",
       "2                           1296.0   \n",
       "3                           1849.0   \n",
       "4                            676.0   \n",
       "\n",
       "   ORIGINAL DEBT TO INCOME RATIO MIN CREDIT SCORE  MIN CREDIT SCORE^2  \n",
       "0                                         18423.0            641601.0  \n",
       "1                                         23640.0            620944.0  \n",
       "2                                         28584.0            630436.0  \n",
       "3                                         31132.0            524176.0  \n",
       "4                                         21320.0            672400.0  \n",
       "\n",
       "[5 rows x 117 columns]"
      ]
     },
     "execution_count": 59,
     "metadata": {},
     "output_type": "execute_result"
    }
   ],
   "source": [
    "df_2012Q1_poly = pd.DataFrame(poly.fit_transform(df_2012Q1[continuous_features]), columns=poly.get_feature_names(continuous_features))\n",
    "df_2012Q1_poly = df_2012Q1_poly.drop(columns=continuous_features)\n",
    "df_2012Q1 = pd.concat([df_2012Q1, df_2012Q1_poly], axis=1)\n",
    "df_2012Q1.head()"
   ]
  },
  {
   "cell_type": "code",
   "execution_count": 60,
   "metadata": {},
   "outputs": [],
   "source": [
    "drop2012 = []\n",
    "\n",
    "for col in df_2012Q1.columns:\n",
    "    if col not in df_poly.columns:\n",
    "        drop2012.append(col)"
   ]
  },
  {
   "cell_type": "code",
   "execution_count": 61,
   "metadata": {},
   "outputs": [
    {
     "data": {
      "text/plain": [
       "['SELLER NAME_CHICAGO MORTGAGE SOLUTIONS DBA INTERBANK MORTGAGE COMPANY',\n",
       " 'SELLER NAME_CHICAGO MORTGAGE SOLUTIONS DBA INTERFIRST MORTGAGE COMPANY',\n",
       " 'SELLER NAME_FEDERAL HOME LOAN BANK OF CHICAGO',\n",
       " 'SELLER NAME_FIFTH THIRD BANK',\n",
       " 'SELLER NAME_FRANKLIN AMERICAN MORTGAGE COMPANY',\n",
       " 'SELLER NAME_QUICKEN LOANS INC.']"
      ]
     },
     "execution_count": 61,
     "metadata": {},
     "output_type": "execute_result"
    }
   ],
   "source": [
    "drop2012"
   ]
  },
  {
   "cell_type": "code",
   "execution_count": 62,
   "metadata": {},
   "outputs": [],
   "source": [
    "add2011 = []\n",
    "\n",
    "for col in df_poly.columns:\n",
    "    if col not in df_2012Q1.columns:\n",
    "        add2011.append(col)"
   ]
  },
  {
   "cell_type": "code",
   "execution_count": 63,
   "metadata": {
    "scrolled": true
   },
   "outputs": [
    {
     "data": {
      "text/plain": [
       "['SELLER NAME_HSBC BANK USA, NATIONAL ASSOCIATION', 'SELLER NAME_REGIONS BANK']"
      ]
     },
     "execution_count": 63,
     "metadata": {},
     "output_type": "execute_result"
    }
   ],
   "source": [
    "add2011"
   ]
  },
  {
   "cell_type": "code",
   "execution_count": 64,
   "metadata": {},
   "outputs": [],
   "source": [
    "df_2012Q1 = df_2012Q1.drop(columns=drop2012)"
   ]
  },
  {
   "cell_type": "code",
   "execution_count": 67,
   "metadata": {},
   "outputs": [],
   "source": [
    "for col in add2011:\n",
    "    df_2012Q1[col] = 0"
   ]
  },
  {
   "cell_type": "code",
   "execution_count": 81,
   "metadata": {},
   "outputs": [
    {
     "data": {
      "text/plain": [
       "(637079, 113)"
      ]
     },
     "execution_count": 81,
     "metadata": {},
     "output_type": "execute_result"
    }
   ],
   "source": [
    "df_2012Q1.shape"
   ]
  },
  {
   "cell_type": "code",
   "execution_count": 68,
   "metadata": {},
   "outputs": [],
   "source": [
    "X_test_2012Q1 = df_2012Q1.drop(columns=['DEFAULT'])\n",
    "y_test_2012Q1 = df_2012Q1['DEFAULT']"
   ]
  },
  {
   "cell_type": "code",
   "execution_count": 69,
   "metadata": {},
   "outputs": [],
   "source": [
    "X_test_sc_2012Q1 = ss.transform(X_test_2012Q1)"
   ]
  },
  {
   "cell_type": "code",
   "execution_count": 75,
   "metadata": {},
   "outputs": [
    {
     "ename": "AttributeError",
     "evalue": "'numpy.ndarray' object has no attribute 'unique'",
     "output_type": "error",
     "traceback": [
      "\u001b[1;31m---------------------------------------------------------------------------\u001b[0m",
      "\u001b[1;31mAttributeError\u001b[0m                            Traceback (most recent call last)",
      "\u001b[1;32m<ipython-input-75-9f661f221f88>\u001b[0m in \u001b[0;36m<module>\u001b[1;34m\u001b[0m\n\u001b[1;32m----> 1\u001b[1;33m \u001b[0mnn\u001b[0m\u001b[1;33m.\u001b[0m\u001b[0mpredict_proba\u001b[0m\u001b[1;33m(\u001b[0m\u001b[0mX_test_sc_2012Q1\u001b[0m\u001b[1;33m)\u001b[0m\u001b[1;33m.\u001b[0m\u001b[0munique\u001b[0m\u001b[1;33m(\u001b[0m\u001b[1;33m)\u001b[0m\u001b[1;33m\u001b[0m\u001b[0m\n\u001b[0m",
      "\u001b[1;31mAttributeError\u001b[0m: 'numpy.ndarray' object has no attribute 'unique'"
     ]
    }
   ],
   "source": [
    "nn.predict_proba(X_test_sc_2012Q1)"
   ]
  },
  {
   "cell_type": "code",
   "execution_count": 82,
   "metadata": {},
   "outputs": [
    {
     "data": {
      "text/html": [
       "<div>\n",
       "<style scoped>\n",
       "    .dataframe tbody tr th:only-of-type {\n",
       "        vertical-align: middle;\n",
       "    }\n",
       "\n",
       "    .dataframe tbody tr th {\n",
       "        vertical-align: top;\n",
       "    }\n",
       "\n",
       "    .dataframe thead th {\n",
       "        text-align: right;\n",
       "    }\n",
       "</style>\n",
       "<table border=\"1\" class=\"dataframe\">\n",
       "  <thead>\n",
       "    <tr style=\"text-align: right;\">\n",
       "      <th></th>\n",
       "      <th>DEFAULT</th>\n",
       "      <th>y_pred</th>\n",
       "      <th>y_pred_adj</th>\n",
       "    </tr>\n",
       "  </thead>\n",
       "  <tbody>\n",
       "    <tr>\n",
       "      <th>0</th>\n",
       "      <td>0.0</td>\n",
       "      <td>0</td>\n",
       "      <td>0</td>\n",
       "    </tr>\n",
       "    <tr>\n",
       "      <th>1</th>\n",
       "      <td>0.0</td>\n",
       "      <td>0</td>\n",
       "      <td>0</td>\n",
       "    </tr>\n",
       "    <tr>\n",
       "      <th>2</th>\n",
       "      <td>0.0</td>\n",
       "      <td>0</td>\n",
       "      <td>0</td>\n",
       "    </tr>\n",
       "    <tr>\n",
       "      <th>3</th>\n",
       "      <td>0.0</td>\n",
       "      <td>0</td>\n",
       "      <td>0</td>\n",
       "    </tr>\n",
       "    <tr>\n",
       "      <th>4</th>\n",
       "      <td>0.0</td>\n",
       "      <td>0</td>\n",
       "      <td>0</td>\n",
       "    </tr>\n",
       "  </tbody>\n",
       "</table>\n",
       "</div>"
      ],
      "text/plain": [
       "   DEFAULT  y_pred  y_pred_adj\n",
       "0      0.0       0           0\n",
       "1      0.0       0           0\n",
       "2      0.0       0           0\n",
       "3      0.0       0           0\n",
       "4      0.0       0           0"
      ]
     },
     "execution_count": 82,
     "metadata": {},
     "output_type": "execute_result"
    }
   ],
   "source": [
    "df_pred_2012Q1 = pd.DataFrame(nn.predict_proba(X_test_sc_2012Q1), columns=['DEFAULT'])\n",
    "df_pred_2012Q1['y_pred'] = nn.predict_classes(X_test_sc_2012Q1)\n",
    "df_pred_2012Q1['y_pred_adj'] = df_pred_2012Q1['DEFAULT'].map(lambda x: 1 if x >= 0.5 else 0)\n",
    "df_pred_2012Q1.head()"
   ]
  },
  {
   "cell_type": "code",
   "execution_count": 83,
   "metadata": {},
   "outputs": [
    {
     "data": {
      "text/plain": [
       "array([[635950,      0],\n",
       "       [  1129,      0]], dtype=int64)"
      ]
     },
     "execution_count": 83,
     "metadata": {},
     "output_type": "execute_result"
    }
   ],
   "source": [
    "confusion_matrix(y_test_2012Q1, df_pred_2012Q1['y_pred_adj'])"
   ]
  },
  {
   "cell_type": "code",
   "execution_count": 84,
   "metadata": {},
   "outputs": [],
   "source": [
    "tn, fp, fn, tp = confusion_matrix(y_test_2012Q1, df_pred_2012Q1['y_pred_adj']).ravel()"
   ]
  },
  {
   "cell_type": "code",
   "execution_count": 85,
   "metadata": {},
   "outputs": [
    {
     "data": {
      "text/plain": [
       "1.0"
      ]
     },
     "execution_count": 85,
     "metadata": {},
     "output_type": "execute_result"
    }
   ],
   "source": [
    "false_negative_rate(fn, tp)"
   ]
  },
  {
   "cell_type": "code",
   "execution_count": 86,
   "metadata": {},
   "outputs": [
    {
     "data": {
      "text/plain": [
       "0.9982278492934157"
      ]
     },
     "execution_count": 86,
     "metadata": {},
     "output_type": "execute_result"
    }
   ],
   "source": [
    "accuracy(tn, tp, y_test_2012Q1)"
   ]
  },
  {
   "cell_type": "code",
   "execution_count": null,
   "metadata": {},
   "outputs": [],
   "source": []
  }
 ],
 "metadata": {
  "kernelspec": {
   "display_name": "Python [conda env:dsi]",
   "language": "python",
   "name": "conda-env-dsi-py"
  },
  "language_info": {
   "codemirror_mode": {
    "name": "ipython",
    "version": 3
   },
   "file_extension": ".py",
   "mimetype": "text/x-python",
   "name": "python",
   "nbconvert_exporter": "python",
   "pygments_lexer": "ipython3",
   "version": "3.6.5"
  }
 },
 "nbformat": 4,
 "nbformat_minor": 2
}
