{
 "cells": [
  {
   "cell_type": "markdown",
   "metadata": {},
   "source": [
    "<img style=\"float: left;\" src=\"../images/fanniemae.png\">\n",
    "<br><br><br><br><br><br>\n",
    "______"
   ]
  },
  {
   "cell_type": "markdown",
   "metadata": {},
   "source": [
    "# Mortgage Loan Default Classifier\n",
    "____________\n",
    "____________"
   ]
  },
  {
   "cell_type": "markdown",
   "metadata": {},
   "source": [
    "## Problem Statement:\n",
    "_____________\n",
    "Fannie Mae, or more specifically the Federal National Mortgage Association (FNMA), is a government sponsored entity whose primary goal is to raise home ownership and affordable housing levels.  Fannie Mae attempts to accomplish this in essence by purchasing mortgage loans within certain parameters from mortgage lenders.  In turn, mortgage lenders are provided cash flow to issue additional mortgages.<br>\n",
    "\n",
    "The cause of the Financial Crisis of 2008 can in part be drawn back to the purchase of mortgage loans with an actual probability of default that were higher than assumed.  By creating a classification model that will predict whether a mortgage loan will default based on pre-purchase characteristics, Fannie Mae may better avoid high risk mortgage loans.  The model will be evaluated based on Accuracy and False Negative Rate.  In this particular case, the \"positive\" class will be loans that default therefore, we will seek to minimize the False Negative Rate while maximizing Accuracy."
   ]
  },
  {
   "cell_type": "markdown",
   "metadata": {},
   "source": [
    "## Convert Data Description Summary from .pdf to .csvs\n",
    "_________\n",
    "\n",
    "The files that contain the raw data located on Fannie Mae's website (hyperlink) do not contain the associated headers.  The headers themselves are contained in a pdf (hyperlink) that summarizes the data file layout.  This workbork seeks to extract the information from the file layout pdf and convert it to a more convenient csv format using the Pandas and Tabula packages."
   ]
  },
  {
   "cell_type": "markdown",
   "metadata": {},
   "source": [
    "### Import packages and load pdf file"
   ]
  },
  {
   "cell_type": "code",
   "execution_count": 1,
   "metadata": {},
   "outputs": [],
   "source": [
    "# import necessary packages\n",
    "import pandas as pd\n",
    "from tabula import read_pdf, convert_into"
   ]
  },
  {
   "cell_type": "code",
   "execution_count": 2,
   "metadata": {},
   "outputs": [
    {
     "data": {
      "text/html": [
       "<div>\n",
       "<style scoped>\n",
       "    .dataframe tbody tr th:only-of-type {\n",
       "        vertical-align: middle;\n",
       "    }\n",
       "\n",
       "    .dataframe tbody tr th {\n",
       "        vertical-align: top;\n",
       "    }\n",
       "\n",
       "    .dataframe thead th {\n",
       "        text-align: right;\n",
       "    }\n",
       "</style>\n",
       "<table border=\"1\" class=\"dataframe\">\n",
       "  <thead>\n",
       "    <tr style=\"text-align: right;\">\n",
       "      <th></th>\n",
       "      <th>File Position</th>\n",
       "      <th>Unnamed: 1</th>\n",
       "      <th>Field Name</th>\n",
       "      <th>Type</th>\n",
       "      <th>Max Length</th>\n",
       "    </tr>\n",
       "  </thead>\n",
       "  <tbody>\n",
       "    <tr>\n",
       "      <th>0</th>\n",
       "      <td>NaN</td>\n",
       "      <td>NaN</td>\n",
       "      <td>NaN</td>\n",
       "      <td>NaN</td>\n",
       "      <td>NaN</td>\n",
       "    </tr>\n",
       "    <tr>\n",
       "      <th>1</th>\n",
       "      <td>1</td>\n",
       "      <td>LOAN IDENTIFIER</td>\n",
       "      <td>NaN</td>\n",
       "      <td>ALPHA-NUMERIC</td>\n",
       "      <td>20</td>\n",
       "    </tr>\n",
       "    <tr>\n",
       "      <th>2</th>\n",
       "      <td>2</td>\n",
       "      <td>ORIGINATION CHANNEL</td>\n",
       "      <td>NaN</td>\n",
       "      <td>ALPHA-NUMERIC</td>\n",
       "      <td>1</td>\n",
       "    </tr>\n",
       "    <tr>\n",
       "      <th>3</th>\n",
       "      <td>3</td>\n",
       "      <td>SELLER NAME</td>\n",
       "      <td>NaN</td>\n",
       "      <td>ALPHA-NUMERIC</td>\n",
       "      <td>80</td>\n",
       "    </tr>\n",
       "    <tr>\n",
       "      <th>4</th>\n",
       "      <td>4</td>\n",
       "      <td>ORIGINAL INTEREST RATE</td>\n",
       "      <td>NaN</td>\n",
       "      <td>NUMERIC</td>\n",
       "      <td>14,10</td>\n",
       "    </tr>\n",
       "    <tr>\n",
       "      <th>5</th>\n",
       "      <td>5</td>\n",
       "      <td>ORIGINAL UPB</td>\n",
       "      <td>NaN</td>\n",
       "      <td>NUMERIC</td>\n",
       "      <td>11,2</td>\n",
       "    </tr>\n",
       "    <tr>\n",
       "      <th>6</th>\n",
       "      <td>6</td>\n",
       "      <td>ORIGINAL LOAN TERM</td>\n",
       "      <td>NaN</td>\n",
       "      <td>NUMERIC</td>\n",
       "      <td>3,0</td>\n",
       "    </tr>\n",
       "    <tr>\n",
       "      <th>7</th>\n",
       "      <td>7</td>\n",
       "      <td>ORIGINATION DATE</td>\n",
       "      <td>NaN</td>\n",
       "      <td>DATE</td>\n",
       "      <td>MM/YYYY</td>\n",
       "    </tr>\n",
       "    <tr>\n",
       "      <th>8</th>\n",
       "      <td>8</td>\n",
       "      <td>FIRST PAYMENT DATE</td>\n",
       "      <td>NaN</td>\n",
       "      <td>DATE</td>\n",
       "      <td>MM/YYYY</td>\n",
       "    </tr>\n",
       "    <tr>\n",
       "      <th>9</th>\n",
       "      <td>9</td>\n",
       "      <td>ORIGINAL LOAN-TO-VALUE</td>\n",
       "      <td>(LTV)</td>\n",
       "      <td>NUMERIC</td>\n",
       "      <td>14,10</td>\n",
       "    </tr>\n",
       "  </tbody>\n",
       "</table>\n",
       "</div>"
      ],
      "text/plain": [
       "  File Position              Unnamed: 1 Field Name           Type Max Length\n",
       "0           NaN                     NaN        NaN            NaN        NaN\n",
       "1             1         LOAN IDENTIFIER        NaN  ALPHA-NUMERIC         20\n",
       "2             2     ORIGINATION CHANNEL        NaN  ALPHA-NUMERIC          1\n",
       "3             3             SELLER NAME        NaN  ALPHA-NUMERIC         80\n",
       "4             4  ORIGINAL INTEREST RATE        NaN        NUMERIC      14,10\n",
       "5             5            ORIGINAL UPB        NaN        NUMERIC       11,2\n",
       "6             6      ORIGINAL LOAN TERM        NaN        NUMERIC        3,0\n",
       "7             7        ORIGINATION DATE        NaN           DATE    MM/YYYY\n",
       "8             8      FIRST PAYMENT DATE        NaN           DATE    MM/YYYY\n",
       "9             9  ORIGINAL LOAN-TO-VALUE      (LTV)        NUMERIC      14,10"
      ]
     },
     "execution_count": 2,
     "metadata": {},
     "output_type": "execute_result"
    }
   ],
   "source": [
    "# declare file path for pdf containing data headers\n",
    "input_file = '../data/FNMA_SF_Loan_Performance_File_layout.pdf'\n",
    "\n",
    "# load input file and explore output\n",
    "df = read_pdf(input_file, pages='all')\n",
    "df.head(10)"
   ]
  },
  {
   "cell_type": "markdown",
   "metadata": {},
   "source": [
    "__Insight:__<br>\n",
    "It appears that the column with the Field Name was errantly split in a few instances.  Also, the converting package translated space to empty rows.  These will need to be corrected.  "
   ]
  },
  {
   "cell_type": "markdown",
   "metadata": {},
   "source": [
    "### Clean and save to csv files"
   ]
  },
  {
   "cell_type": "code",
   "execution_count": 3,
   "metadata": {},
   "outputs": [
    {
     "data": {
      "text/html": [
       "<div>\n",
       "<style scoped>\n",
       "    .dataframe tbody tr th:only-of-type {\n",
       "        vertical-align: middle;\n",
       "    }\n",
       "\n",
       "    .dataframe tbody tr th {\n",
       "        vertical-align: top;\n",
       "    }\n",
       "\n",
       "    .dataframe thead th {\n",
       "        text-align: right;\n",
       "    }\n",
       "</style>\n",
       "<table border=\"1\" class=\"dataframe\">\n",
       "  <thead>\n",
       "    <tr style=\"text-align: right;\">\n",
       "      <th></th>\n",
       "      <th>File Position</th>\n",
       "      <th>Unnamed: 1</th>\n",
       "      <th>Field Name</th>\n",
       "      <th>Type</th>\n",
       "      <th>Max Length</th>\n",
       "    </tr>\n",
       "  </thead>\n",
       "  <tbody>\n",
       "    <tr>\n",
       "      <th>0</th>\n",
       "      <td></td>\n",
       "      <td></td>\n",
       "      <td></td>\n",
       "      <td></td>\n",
       "      <td></td>\n",
       "    </tr>\n",
       "    <tr>\n",
       "      <th>1</th>\n",
       "      <td>1</td>\n",
       "      <td>LOAN IDENTIFIER</td>\n",
       "      <td>LOAN IDENTIFIER</td>\n",
       "      <td>ALPHA-NUMERIC</td>\n",
       "      <td>20</td>\n",
       "    </tr>\n",
       "    <tr>\n",
       "      <th>2</th>\n",
       "      <td>2</td>\n",
       "      <td>ORIGINATION CHANNEL</td>\n",
       "      <td>ORIGINATION CHANNEL</td>\n",
       "      <td>ALPHA-NUMERIC</td>\n",
       "      <td>1</td>\n",
       "    </tr>\n",
       "    <tr>\n",
       "      <th>3</th>\n",
       "      <td>3</td>\n",
       "      <td>SELLER NAME</td>\n",
       "      <td>SELLER NAME</td>\n",
       "      <td>ALPHA-NUMERIC</td>\n",
       "      <td>80</td>\n",
       "    </tr>\n",
       "    <tr>\n",
       "      <th>4</th>\n",
       "      <td>4</td>\n",
       "      <td>ORIGINAL INTEREST RATE</td>\n",
       "      <td>ORIGINAL INTEREST RATE</td>\n",
       "      <td>NUMERIC</td>\n",
       "      <td>14,10</td>\n",
       "    </tr>\n",
       "  </tbody>\n",
       "</table>\n",
       "</div>"
      ],
      "text/plain": [
       "  File Position              Unnamed: 1                Field Name  \\\n",
       "0                                                                   \n",
       "1             1         LOAN IDENTIFIER         LOAN IDENTIFIER     \n",
       "2             2     ORIGINATION CHANNEL     ORIGINATION CHANNEL     \n",
       "3             3             SELLER NAME             SELLER NAME     \n",
       "4             4  ORIGINAL INTEREST RATE  ORIGINAL INTEREST RATE     \n",
       "\n",
       "            Type Max Length  \n",
       "0                            \n",
       "1  ALPHA-NUMERIC         20  \n",
       "2  ALPHA-NUMERIC          1  \n",
       "3  ALPHA-NUMERIC         80  \n",
       "4        NUMERIC      14,10  "
      ]
     },
     "execution_count": 3,
     "metadata": {},
     "output_type": "execute_result"
    }
   ],
   "source": [
    "# solve read errors on Field Name by replacing nulls and combining Unnamed: 1 and Field Name\n",
    "df.fillna(value=' ', inplace=True)\n",
    "df['Field Name'] = df['Unnamed: 1'] +' '+ df['Field Name']\n",
    "df.head()"
   ]
  },
  {
   "cell_type": "code",
   "execution_count": 4,
   "metadata": {},
   "outputs": [],
   "source": [
    "# drop Unnamed: 1 column and null rows\n",
    "df.drop(columns='Unnamed: 1', inplace=True)\n",
    "df.drop(index = df[df['File Position'] == ' '].index, inplace=True)\n",
    "\n",
    "# assign data description summaries to associated data files; Acquisition and Performance\n",
    "df_acq = df.iloc[0:25,:].reset_index(drop=True)\n",
    "df_perf = df.iloc[26:,:].reset_index(drop=True)\n",
    "\n",
    "# strip additional spaces from Field Name\n",
    "df_acq['Field Name'] = df_acq['Field Name'].map(lambda x: x.strip())\n",
    "df_perf['Field Name'] = df_perf['Field Name'].map(lambda x: x.strip())"
   ]
  },
  {
   "cell_type": "code",
   "execution_count": 5,
   "metadata": {},
   "outputs": [],
   "source": [
    "# save data description summaries associated data files to csvs; Acquisition and Performance\n",
    "output_file = '../data/acquisition_data_dict_summary.csv'\n",
    "df_acq.to_csv(output_file, index=False)\n",
    "\n",
    "output_file = '../data/performance_data_dict_summary.csv'\n",
    "df_perf.to_csv(output_file, index=False)"
   ]
  }
 ],
 "metadata": {
  "kernelspec": {
   "display_name": "Python [conda env:dsi]",
   "language": "python",
   "name": "conda-env-dsi-py"
  },
  "language_info": {
   "codemirror_mode": {
    "name": "ipython",
    "version": 3
   },
   "file_extension": ".py",
   "mimetype": "text/x-python",
   "name": "python",
   "nbconvert_exporter": "python",
   "pygments_lexer": "ipython3",
   "version": "3.6.5"
  }
 },
 "nbformat": 4,
 "nbformat_minor": 2
}
