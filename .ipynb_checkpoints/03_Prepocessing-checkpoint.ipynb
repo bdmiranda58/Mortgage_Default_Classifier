{
 "cells": [
  {
   "cell_type": "markdown",
   "metadata": {},
   "source": [
    "<img style=\"float: left;\" src=\"./images/fanniemae.png\">"
   ]
  },
  {
   "cell_type": "markdown",
   "metadata": {},
   "source": [
    "___________\n",
    "# Mortgage Loan Default Classifier\n",
    "\n",
    "### Problem Statement:\n",
    "- Predict whether a mortgage loan will default using Fannie Mae Loan Performance data set from previous quarter\n",
    "\n",
    "____________"
   ]
  },
  {
   "cell_type": "code",
   "execution_count": 1,
   "metadata": {},
   "outputs": [],
   "source": [
    "import pandas as pd\n",
    "import numpy as np\n",
    "import seaborn as sns\n",
    "import matplotlib.pyplot as plt\n",
    "from sklearn.utils import resample\n",
    "from sklearn.linear_model import LogisticRegression\n",
    "from sklearn.model_selection import train_test_split, cross_val_score, KFold\n",
    "from sklearn.preprocessing import StandardScaler, PolynomialFeatures"
   ]
  },
  {
   "cell_type": "code",
   "execution_count": 2,
   "metadata": {},
   "outputs": [
    {
     "data": {
      "text/html": [
       "<div>\n",
       "<style scoped>\n",
       "    .dataframe tbody tr th:only-of-type {\n",
       "        vertical-align: middle;\n",
       "    }\n",
       "\n",
       "    .dataframe tbody tr th {\n",
       "        vertical-align: top;\n",
       "    }\n",
       "\n",
       "    .dataframe thead th {\n",
       "        text-align: right;\n",
       "    }\n",
       "</style>\n",
       "<table border=\"1\" class=\"dataframe\">\n",
       "  <thead>\n",
       "    <tr style=\"text-align: right;\">\n",
       "      <th></th>\n",
       "      <th>LOAN IDENTIFIER</th>\n",
       "      <th>ORIGINATION CHANNEL</th>\n",
       "      <th>SELLER NAME</th>\n",
       "      <th>ORIGINAL INTEREST RATE</th>\n",
       "      <th>ORIGINAL UPB</th>\n",
       "      <th>ORIGINAL LOAN TERM</th>\n",
       "      <th>ORIGINATION DATE</th>\n",
       "      <th>FIRST PAYMENT DATE</th>\n",
       "      <th>ORIGINAL LOAN-TO-VALUE (LTV)</th>\n",
       "      <th>ORIGINAL COMBINED LOAN-TO-VALUE (CLTV)</th>\n",
       "      <th>...</th>\n",
       "      <th>PROPERTY TYPE</th>\n",
       "      <th>NUMBER OF UNITS</th>\n",
       "      <th>OCCUPANCY TYPE</th>\n",
       "      <th>PROPERTY STATE</th>\n",
       "      <th>ZIP CODE SHORT</th>\n",
       "      <th>PRODUCT TYPE</th>\n",
       "      <th>RELOCATION MORTGAGE INDICATOR</th>\n",
       "      <th>DEFAULT</th>\n",
       "      <th>MI</th>\n",
       "      <th>MIN CREDIT SCORE</th>\n",
       "    </tr>\n",
       "  </thead>\n",
       "  <tbody>\n",
       "    <tr>\n",
       "      <th>0</th>\n",
       "      <td>100000102115</td>\n",
       "      <td>C</td>\n",
       "      <td>CITIMORTGAGE, INC.</td>\n",
       "      <td>4.500</td>\n",
       "      <td>95000</td>\n",
       "      <td>120</td>\n",
       "      <td>02/2005</td>\n",
       "      <td>04/2005</td>\n",
       "      <td>51</td>\n",
       "      <td>51.0</td>\n",
       "      <td>...</td>\n",
       "      <td>SF</td>\n",
       "      <td>1</td>\n",
       "      <td>P</td>\n",
       "      <td>TX</td>\n",
       "      <td>750</td>\n",
       "      <td>FRM</td>\n",
       "      <td>N</td>\n",
       "      <td>0</td>\n",
       "      <td>0.0</td>\n",
       "      <td>783.0</td>\n",
       "    </tr>\n",
       "    <tr>\n",
       "      <th>1</th>\n",
       "      <td>100004036273</td>\n",
       "      <td>C</td>\n",
       "      <td>BANK OF AMERICA, N.A.</td>\n",
       "      <td>6.625</td>\n",
       "      <td>139000</td>\n",
       "      <td>360</td>\n",
       "      <td>01/2005</td>\n",
       "      <td>03/2005</td>\n",
       "      <td>95</td>\n",
       "      <td>95.0</td>\n",
       "      <td>...</td>\n",
       "      <td>SF</td>\n",
       "      <td>1</td>\n",
       "      <td>S</td>\n",
       "      <td>FL</td>\n",
       "      <td>349</td>\n",
       "      <td>FRM</td>\n",
       "      <td>N</td>\n",
       "      <td>0</td>\n",
       "      <td>1.0</td>\n",
       "      <td>755.0</td>\n",
       "    </tr>\n",
       "    <tr>\n",
       "      <th>2</th>\n",
       "      <td>100004945019</td>\n",
       "      <td>R</td>\n",
       "      <td>BANK OF AMERICA, N.A.</td>\n",
       "      <td>5.875</td>\n",
       "      <td>104000</td>\n",
       "      <td>360</td>\n",
       "      <td>12/2004</td>\n",
       "      <td>02/2005</td>\n",
       "      <td>68</td>\n",
       "      <td>68.0</td>\n",
       "      <td>...</td>\n",
       "      <td>PU</td>\n",
       "      <td>1</td>\n",
       "      <td>P</td>\n",
       "      <td>SC</td>\n",
       "      <td>295</td>\n",
       "      <td>FRM</td>\n",
       "      <td>N</td>\n",
       "      <td>0</td>\n",
       "      <td>0.0</td>\n",
       "      <td>689.0</td>\n",
       "    </tr>\n",
       "    <tr>\n",
       "      <th>3</th>\n",
       "      <td>100013634177</td>\n",
       "      <td>C</td>\n",
       "      <td>CITIMORTGAGE, INC.</td>\n",
       "      <td>6.250</td>\n",
       "      <td>51000</td>\n",
       "      <td>240</td>\n",
       "      <td>12/2004</td>\n",
       "      <td>02/2005</td>\n",
       "      <td>69</td>\n",
       "      <td>69.0</td>\n",
       "      <td>...</td>\n",
       "      <td>SF</td>\n",
       "      <td>1</td>\n",
       "      <td>P</td>\n",
       "      <td>WI</td>\n",
       "      <td>544</td>\n",
       "      <td>FRM</td>\n",
       "      <td>N</td>\n",
       "      <td>0</td>\n",
       "      <td>0.0</td>\n",
       "      <td>788.0</td>\n",
       "    </tr>\n",
       "    <tr>\n",
       "      <th>4</th>\n",
       "      <td>100014052527</td>\n",
       "      <td>C</td>\n",
       "      <td>OTHER</td>\n",
       "      <td>5.625</td>\n",
       "      <td>60000</td>\n",
       "      <td>240</td>\n",
       "      <td>12/2004</td>\n",
       "      <td>02/2005</td>\n",
       "      <td>75</td>\n",
       "      <td>75.0</td>\n",
       "      <td>...</td>\n",
       "      <td>SF</td>\n",
       "      <td>1</td>\n",
       "      <td>P</td>\n",
       "      <td>IN</td>\n",
       "      <td>479</td>\n",
       "      <td>FRM</td>\n",
       "      <td>N</td>\n",
       "      <td>0</td>\n",
       "      <td>0.0</td>\n",
       "      <td>700.0</td>\n",
       "    </tr>\n",
       "  </tbody>\n",
       "</table>\n",
       "<p>5 rows × 24 columns</p>\n",
       "</div>"
      ],
      "text/plain": [
       "   LOAN IDENTIFIER ORIGINATION CHANNEL            SELLER NAME  \\\n",
       "0     100000102115                   C     CITIMORTGAGE, INC.   \n",
       "1     100004036273                   C  BANK OF AMERICA, N.A.   \n",
       "2     100004945019                   R  BANK OF AMERICA, N.A.   \n",
       "3     100013634177                   C     CITIMORTGAGE, INC.   \n",
       "4     100014052527                   C                  OTHER   \n",
       "\n",
       "   ORIGINAL INTEREST RATE  ORIGINAL UPB  ORIGINAL LOAN TERM ORIGINATION DATE  \\\n",
       "0                   4.500         95000                 120          02/2005   \n",
       "1                   6.625        139000                 360          01/2005   \n",
       "2                   5.875        104000                 360          12/2004   \n",
       "3                   6.250         51000                 240          12/2004   \n",
       "4                   5.625         60000                 240          12/2004   \n",
       "\n",
       "  FIRST PAYMENT DATE  ORIGINAL LOAN-TO-VALUE (LTV)  \\\n",
       "0            04/2005                            51   \n",
       "1            03/2005                            95   \n",
       "2            02/2005                            68   \n",
       "3            02/2005                            69   \n",
       "4            02/2005                            75   \n",
       "\n",
       "   ORIGINAL COMBINED LOAN-TO-VALUE (CLTV)       ...         PROPERTY TYPE  \\\n",
       "0                                    51.0       ...                    SF   \n",
       "1                                    95.0       ...                    SF   \n",
       "2                                    68.0       ...                    PU   \n",
       "3                                    69.0       ...                    SF   \n",
       "4                                    75.0       ...                    SF   \n",
       "\n",
       "   NUMBER OF UNITS OCCUPANCY TYPE PROPERTY STATE ZIP CODE SHORT  PRODUCT TYPE  \\\n",
       "0                1              P             TX            750           FRM   \n",
       "1                1              S             FL            349           FRM   \n",
       "2                1              P             SC            295           FRM   \n",
       "3                1              P             WI            544           FRM   \n",
       "4                1              P             IN            479           FRM   \n",
       "\n",
       "  RELOCATION MORTGAGE INDICATOR DEFAULT   MI MIN CREDIT SCORE  \n",
       "0                             N       0  0.0            783.0  \n",
       "1                             N       0  1.0            755.0  \n",
       "2                             N       0  0.0            689.0  \n",
       "3                             N       0  0.0            788.0  \n",
       "4                             N       0  0.0            700.0  \n",
       "\n",
       "[5 rows x 24 columns]"
      ]
     },
     "execution_count": 2,
     "metadata": {},
     "output_type": "execute_result"
    }
   ],
   "source": [
    "df = pd.read_csv('./data/complete2005q1.csv')\n",
    "df.head()"
   ]
  },
  {
   "cell_type": "code",
   "execution_count": 3,
   "metadata": {},
   "outputs": [
    {
     "data": {
      "text/plain": [
       "Index(['LOAN IDENTIFIER', 'ORIGINATION CHANNEL', 'SELLER NAME',\n",
       "       'ORIGINAL INTEREST RATE', 'ORIGINAL UPB', 'ORIGINAL LOAN TERM',\n",
       "       'ORIGINATION DATE', 'FIRST PAYMENT DATE',\n",
       "       'ORIGINAL LOAN-TO-VALUE (LTV)',\n",
       "       'ORIGINAL COMBINED LOAN-TO-VALUE (CLTV)', 'NUMBER OF BORROWERS',\n",
       "       'ORIGINAL DEBT TO INCOME RATIO', 'FIRST TIME HOME BUYER INDICATOR',\n",
       "       'LOAN PURPOSE', 'PROPERTY TYPE', 'NUMBER OF UNITS', 'OCCUPANCY TYPE',\n",
       "       'PROPERTY STATE', 'ZIP CODE SHORT', 'PRODUCT TYPE',\n",
       "       'RELOCATION MORTGAGE INDICATOR', 'DEFAULT', 'MI', 'MIN CREDIT SCORE'],\n",
       "      dtype='object')"
      ]
     },
     "execution_count": 3,
     "metadata": {},
     "output_type": "execute_result"
    }
   ],
   "source": [
    "df.columns"
   ]
  },
  {
   "cell_type": "code",
   "execution_count": 4,
   "metadata": {},
   "outputs": [],
   "source": [
    "categorical_features = ['ORIGINATION CHANNEL', 'SELLER NAME',\n",
    "                        'FIRST TIME HOME BUYER INDICATOR',\n",
    "                        'LOAN PURPOSE', 'PROPERTY TYPE', 'OCCUPANCY TYPE',\n",
    "                        'PROPERTY STATE', 'ZIP CODE SHORT', 'PRODUCT TYPE',\n",
    "                        'RELOCATION MORTGAGE INDICATOR']"
   ]
  },
  {
   "cell_type": "code",
   "execution_count": 5,
   "metadata": {},
   "outputs": [],
   "source": [
    "df = df.drop(columns=['ORIGINATION DATE', 'FIRST PAYMENT DATE'])"
   ]
  },
  {
   "cell_type": "code",
   "execution_count": 6,
   "metadata": {},
   "outputs": [],
   "source": [
    "df = pd.get_dummies(df, columns=categorical_features, drop_first=True)"
   ]
  },
  {
   "cell_type": "code",
   "execution_count": 7,
   "metadata": {},
   "outputs": [
    {
     "data": {
      "text/plain": [
       "(279961, 990)"
      ]
     },
     "execution_count": 7,
     "metadata": {},
     "output_type": "execute_result"
    }
   ],
   "source": [
    "df.shape"
   ]
  },
  {
   "cell_type": "code",
   "execution_count": 8,
   "metadata": {},
   "outputs": [],
   "source": [
    "# explore choropleth"
   ]
  },
  {
   "cell_type": "code",
   "execution_count": 9,
   "metadata": {},
   "outputs": [
    {
     "data": {
      "text/plain": [
       "1    11759\n",
       "0    11759\n",
       "Name: DEFAULT, dtype: int64"
      ]
     },
     "execution_count": 9,
     "metadata": {},
     "output_type": "execute_result"
    }
   ],
   "source": [
    "# balance target\n",
    "# split classes\n",
    "df_maj = df[df['DEFAULT'] == 0]\n",
    "df_min = df[df['DEFAULT'] == 1]\n",
    " \n",
    "# downsample majority\n",
    "df_maj_resample = resample(df_maj, \n",
    "                           replace=False,    \n",
    "                           n_samples=df_min.shape[0],\n",
    "                           random_state=42)             \n",
    "\n",
    "\n",
    "# concat downsample and minority\n",
    "# df_resample = \n",
    "df_resample = pd.concat([df_maj_resample, df_min])\n",
    " \n",
    "# Display new class counts\n",
    "df_resample['DEFAULT'].value_counts()"
   ]
  },
  {
   "cell_type": "code",
   "execution_count": 10,
   "metadata": {},
   "outputs": [],
   "source": [
    "# train test split\n",
    "X = df_resample.drop(columns=['DEFAULT'])\n",
    "y = df_resample['DEFAULT']\n",
    "\n",
    "X_train, X_test, y_train, y_test = train_test_split(X, y,\n",
    "                                                    stratify=y,\n",
    "                                                    shuffle=True,\n",
    "                                                    random_state=42)"
   ]
  },
  {
   "cell_type": "code",
   "execution_count": 11,
   "metadata": {},
   "outputs": [],
   "source": [
    "ss = StandardScaler()\n",
    "ss.fit(X_train, y_train)\n",
    "X_train_sc = ss.transform(X_train)\n",
    "X_test_sc = ss.transform(X_test)"
   ]
  },
  {
   "cell_type": "code",
   "execution_count": 12,
   "metadata": {},
   "outputs": [
    {
     "data": {
      "text/plain": [
       "LogisticRegression(C=1.0, class_weight=None, dual=False, fit_intercept=True,\n",
       "          intercept_scaling=1, max_iter=100, multi_class='ovr', n_jobs=1,\n",
       "          penalty='l2', random_state=None, solver='liblinear', tol=0.0001,\n",
       "          verbose=0, warm_start=False)"
      ]
     },
     "execution_count": 12,
     "metadata": {},
     "output_type": "execute_result"
    }
   ],
   "source": [
    "log = LogisticRegression()\n",
    "log.fit(X_train_sc, y_train)"
   ]
  },
  {
   "cell_type": "code",
   "execution_count": 13,
   "metadata": {},
   "outputs": [
    {
     "data": {
      "text/plain": [
       "0.7575121895906566"
      ]
     },
     "execution_count": 13,
     "metadata": {},
     "output_type": "execute_result"
    }
   ],
   "source": [
    "log.score(X_train_sc, y_train)"
   ]
  },
  {
   "cell_type": "code",
   "execution_count": 14,
   "metadata": {},
   "outputs": [
    {
     "data": {
      "text/plain": [
       "array([0.71655329, 0.73044218, 0.7196712 , 0.72222222, 0.72291548])"
      ]
     },
     "execution_count": 14,
     "metadata": {},
     "output_type": "execute_result"
    }
   ],
   "source": [
    "cross_val_score(log, X_train_sc, y_train, cv=5)\n"
   ]
  },
  {
   "cell_type": "code",
   "execution_count": 15,
   "metadata": {},
   "outputs": [
    {
     "data": {
      "text/plain": [
       "0.7173469387755103"
      ]
     },
     "execution_count": 15,
     "metadata": {},
     "output_type": "execute_result"
    }
   ],
   "source": [
    "log.score(X_test_sc, y_test)"
   ]
  },
  {
   "cell_type": "code",
   "execution_count": 16,
   "metadata": {},
   "outputs": [],
   "source": [
    "preds = log.predict(X_test_sc)"
   ]
  },
  {
   "cell_type": "code",
   "execution_count": 17,
   "metadata": {},
   "outputs": [],
   "source": [
    "from sklearn.metrics import confusion_matrix, r2_score"
   ]
  },
  {
   "cell_type": "code",
   "execution_count": 18,
   "metadata": {},
   "outputs": [
    {
     "data": {
      "text/plain": [
       "array([[2007,  933],\n",
       "       [ 729, 2211]], dtype=int64)"
      ]
     },
     "execution_count": 18,
     "metadata": {},
     "output_type": "execute_result"
    }
   ],
   "source": [
    "confusion_matrix(y_test, preds)"
   ]
  },
  {
   "cell_type": "code",
   "execution_count": 19,
   "metadata": {},
   "outputs": [],
   "source": [
    "tn, fp, fn, tp = confusion_matrix(y_test, preds).ravel()"
   ]
  },
  {
   "cell_type": "code",
   "execution_count": 33,
   "metadata": {
    "scrolled": true
   },
   "outputs": [
    {
     "ename": "IndentationError",
     "evalue": "unexpected indent (metrics.py, line 11)",
     "output_type": "error",
     "traceback": [
      "Traceback \u001b[1;36m(most recent call last)\u001b[0m:\n",
      "  File \u001b[0;32m\"C:\\Users\\bdmir\\Anaconda3\\envs\\dsi\\lib\\site-packages\\IPython\\core\\interactiveshell.py\"\u001b[0m, line \u001b[0;32m3267\u001b[0m, in \u001b[0;35mrun_code\u001b[0m\n    exec(code_obj, self.user_global_ns, self.user_ns)\n",
      "\u001b[1;36m  File \u001b[1;32m\"<ipython-input-33-b1756270888d>\"\u001b[1;36m, line \u001b[1;32m1\u001b[1;36m, in \u001b[1;35m<module>\u001b[1;36m\u001b[0m\n\u001b[1;33m    from dsi6.metrics import ClassificationMetrics\u001b[0m\n",
      "\u001b[1;36m  File \u001b[1;32m\"C:\\Users\\bdmir\\Anaconda3\\envs\\dsi\\lib\\site-packages\\dsi6\\metrics.py\"\u001b[1;36m, line \u001b[1;32m11\u001b[0m\n\u001b[1;33m    None\u001b[0m\n\u001b[1;37m    ^\u001b[0m\n\u001b[1;31mIndentationError\u001b[0m\u001b[1;31m:\u001b[0m unexpected indent\n"
     ]
    }
   ],
   "source": [
    "from dsi6.metrics import ClassificationMetrics"
   ]
  },
  {
   "cell_type": "code",
   "execution_count": 21,
   "metadata": {},
   "outputs": [],
   "source": [
    "# cm = metrics.ClassificationMetrics()\n",
    "# cm.fit(y_test, preds)"
   ]
  },
  {
   "cell_type": "code",
   "execution_count": 22,
   "metadata": {},
   "outputs": [],
   "source": [
    "# cm.describe()"
   ]
  },
  {
   "cell_type": "code",
   "execution_count": 23,
   "metadata": {},
   "outputs": [],
   "source": [
    "# False negative rate = 24%"
   ]
  },
  {
   "cell_type": "code",
   "execution_count": 24,
   "metadata": {},
   "outputs": [],
   "source": [
    "def false_negative_rate(fn=fn, tp=tp):\n",
    "    return fn/(tp+fn)\n",
    "\n",
    "def accuracy(tn=tn, tp=tp, y_test=y_test):\n",
    "    return (tn + tp)/len(y_test)"
   ]
  },
  {
   "cell_type": "code",
   "execution_count": 25,
   "metadata": {},
   "outputs": [
    {
     "data": {
      "text/plain": [
       "0.2479591836734694"
      ]
     },
     "execution_count": 25,
     "metadata": {},
     "output_type": "execute_result"
    }
   ],
   "source": [
    "false_negative_rate()"
   ]
  },
  {
   "cell_type": "code",
   "execution_count": 26,
   "metadata": {},
   "outputs": [],
   "source": [
    "preds_prob = log.predict_proba(X_test_sc)"
   ]
  },
  {
   "cell_type": "code",
   "execution_count": 27,
   "metadata": {},
   "outputs": [
    {
     "data": {
      "text/html": [
       "<div>\n",
       "<style scoped>\n",
       "    .dataframe tbody tr th:only-of-type {\n",
       "        vertical-align: middle;\n",
       "    }\n",
       "\n",
       "    .dataframe tbody tr th {\n",
       "        vertical-align: top;\n",
       "    }\n",
       "\n",
       "    .dataframe thead th {\n",
       "        text-align: right;\n",
       "    }\n",
       "</style>\n",
       "<table border=\"1\" class=\"dataframe\">\n",
       "  <thead>\n",
       "    <tr style=\"text-align: right;\">\n",
       "      <th></th>\n",
       "      <th>NoDefault</th>\n",
       "      <th>Default</th>\n",
       "      <th>y_pred</th>\n",
       "      <th>y_pred_adj</th>\n",
       "    </tr>\n",
       "  </thead>\n",
       "  <tbody>\n",
       "    <tr>\n",
       "      <th>0</th>\n",
       "      <td>0.295208</td>\n",
       "      <td>0.704792</td>\n",
       "      <td>1</td>\n",
       "      <td>1</td>\n",
       "    </tr>\n",
       "    <tr>\n",
       "      <th>1</th>\n",
       "      <td>0.243850</td>\n",
       "      <td>0.756150</td>\n",
       "      <td>1</td>\n",
       "      <td>1</td>\n",
       "    </tr>\n",
       "    <tr>\n",
       "      <th>2</th>\n",
       "      <td>0.731485</td>\n",
       "      <td>0.268515</td>\n",
       "      <td>0</td>\n",
       "      <td>0</td>\n",
       "    </tr>\n",
       "    <tr>\n",
       "      <th>3</th>\n",
       "      <td>0.466654</td>\n",
       "      <td>0.533346</td>\n",
       "      <td>1</td>\n",
       "      <td>1</td>\n",
       "    </tr>\n",
       "    <tr>\n",
       "      <th>4</th>\n",
       "      <td>0.279210</td>\n",
       "      <td>0.720790</td>\n",
       "      <td>1</td>\n",
       "      <td>1</td>\n",
       "    </tr>\n",
       "  </tbody>\n",
       "</table>\n",
       "</div>"
      ],
      "text/plain": [
       "   NoDefault   Default  y_pred  y_pred_adj\n",
       "0   0.295208  0.704792       1           1\n",
       "1   0.243850  0.756150       1           1\n",
       "2   0.731485  0.268515       0           0\n",
       "3   0.466654  0.533346       1           1\n",
       "4   0.279210  0.720790       1           1"
      ]
     },
     "execution_count": 27,
     "metadata": {},
     "output_type": "execute_result"
    }
   ],
   "source": [
    "preds_adj = pd.DataFrame(log.predict_proba(X_test_sc), columns=['NoDefault', 'Default'])\n",
    "preds_adj['y_pred'] = preds\n",
    "preds_adj['y_pred_adj'] = preds_adj['Default'].map(lambda x: 1 if x >= .33 else 0)\n",
    "preds_adj.head()"
   ]
  },
  {
   "cell_type": "code",
   "execution_count": 28,
   "metadata": {},
   "outputs": [],
   "source": [
    "tn, fp, fn, tp = confusion_matrix(y_test, preds_adj['y_pred_adj']).ravel()"
   ]
  },
  {
   "cell_type": "code",
   "execution_count": 29,
   "metadata": {},
   "outputs": [
    {
     "data": {
      "text/plain": [
       "array([[1511, 1429],\n",
       "       [ 332, 2608]], dtype=int64)"
      ]
     },
     "execution_count": 29,
     "metadata": {},
     "output_type": "execute_result"
    }
   ],
   "source": [
    "confusion_matrix(y_test, preds_adj['y_pred_adj'])"
   ]
  },
  {
   "cell_type": "code",
   "execution_count": 30,
   "metadata": {},
   "outputs": [
    {
     "data": {
      "text/plain": [
       "0.11292517006802721"
      ]
     },
     "execution_count": 30,
     "metadata": {},
     "output_type": "execute_result"
    }
   ],
   "source": [
    "false_negative_rate(fn, tp)"
   ]
  },
  {
   "cell_type": "code",
   "execution_count": 31,
   "metadata": {},
   "outputs": [
    {
     "data": {
      "text/plain": [
       "0.7005102040816327"
      ]
     },
     "execution_count": 31,
     "metadata": {},
     "output_type": "execute_result"
    }
   ],
   "source": [
    "accuracy(tn, tp, y_test)"
   ]
  },
  {
   "cell_type": "code",
   "execution_count": null,
   "metadata": {},
   "outputs": [],
   "source": []
  },
  {
   "cell_type": "code",
   "execution_count": null,
   "metadata": {},
   "outputs": [],
   "source": []
  }
 ],
 "metadata": {
  "kernelspec": {
   "display_name": "Python [conda env:dsi]",
   "language": "python",
   "name": "conda-env-dsi-py"
  },
  "language_info": {
   "codemirror_mode": {
    "name": "ipython",
    "version": 3
   },
   "file_extension": ".py",
   "mimetype": "text/x-python",
   "name": "python",
   "nbconvert_exporter": "python",
   "pygments_lexer": "ipython3",
   "version": "3.6.5"
  }
 },
 "nbformat": 4,
 "nbformat_minor": 2
}
