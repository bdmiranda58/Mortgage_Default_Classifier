{
 "cells": [
  {
   "cell_type": "code",
   "execution_count": 3,
   "metadata": {},
   "outputs": [],
   "source": [
    "import pandas as pd\n",
    "from tabula import read_pdf, convert_into"
   ]
  },
  {
   "cell_type": "code",
   "execution_count": 4,
   "metadata": {},
   "outputs": [],
   "source": [
    "input_file = './data/FNMA_SF_Loan_Performance_File_layout.pdf'\n",
    "output_file = './data/data_dict_summary.csv'"
   ]
  },
  {
   "cell_type": "code",
   "execution_count": 32,
   "metadata": {},
   "outputs": [
    {
     "data": {
      "text/html": [
       "<div>\n",
       "<style scoped>\n",
       "    .dataframe tbody tr th:only-of-type {\n",
       "        vertical-align: middle;\n",
       "    }\n",
       "\n",
       "    .dataframe tbody tr th {\n",
       "        vertical-align: top;\n",
       "    }\n",
       "\n",
       "    .dataframe thead th {\n",
       "        text-align: right;\n",
       "    }\n",
       "</style>\n",
       "<table border=\"1\" class=\"dataframe\">\n",
       "  <thead>\n",
       "    <tr style=\"text-align: right;\">\n",
       "      <th></th>\n",
       "      <th>File Position</th>\n",
       "      <th>Unnamed: 1</th>\n",
       "      <th>Field Name</th>\n",
       "      <th>Type</th>\n",
       "      <th>Max Length</th>\n",
       "    </tr>\n",
       "  </thead>\n",
       "  <tbody>\n",
       "    <tr>\n",
       "      <th>0</th>\n",
       "      <td>NaN</td>\n",
       "      <td>NaN</td>\n",
       "      <td>NaN</td>\n",
       "      <td>NaN</td>\n",
       "      <td>NaN</td>\n",
       "    </tr>\n",
       "    <tr>\n",
       "      <th>1</th>\n",
       "      <td>1</td>\n",
       "      <td>LOAN IDENTIFIER</td>\n",
       "      <td>NaN</td>\n",
       "      <td>ALPHA-NUMERIC</td>\n",
       "      <td>20</td>\n",
       "    </tr>\n",
       "    <tr>\n",
       "      <th>2</th>\n",
       "      <td>2</td>\n",
       "      <td>ORIGINATION CHANNEL</td>\n",
       "      <td>NaN</td>\n",
       "      <td>ALPHA-NUMERIC</td>\n",
       "      <td>1</td>\n",
       "    </tr>\n",
       "    <tr>\n",
       "      <th>3</th>\n",
       "      <td>3</td>\n",
       "      <td>SELLER NAME</td>\n",
       "      <td>NaN</td>\n",
       "      <td>ALPHA-NUMERIC</td>\n",
       "      <td>80</td>\n",
       "    </tr>\n",
       "    <tr>\n",
       "      <th>4</th>\n",
       "      <td>4</td>\n",
       "      <td>ORIGINAL INTEREST RATE</td>\n",
       "      <td>NaN</td>\n",
       "      <td>NUMERIC</td>\n",
       "      <td>14,10</td>\n",
       "    </tr>\n",
       "  </tbody>\n",
       "</table>\n",
       "</div>"
      ],
      "text/plain": [
       "  File Position              Unnamed: 1 Field Name           Type Max Length\n",
       "0           NaN                     NaN        NaN            NaN        NaN\n",
       "1             1         LOAN IDENTIFIER        NaN  ALPHA-NUMERIC         20\n",
       "2             2     ORIGINATION CHANNEL        NaN  ALPHA-NUMERIC          1\n",
       "3             3             SELLER NAME        NaN  ALPHA-NUMERIC         80\n",
       "4             4  ORIGINAL INTEREST RATE        NaN        NUMERIC      14,10"
      ]
     },
     "execution_count": 32,
     "metadata": {},
     "output_type": "execute_result"
    }
   ],
   "source": [
    "df = read_pdf(input_file, pages='all')\n",
    "df.head()"
   ]
  },
  {
   "cell_type": "code",
   "execution_count": 41,
   "metadata": {},
   "outputs": [],
   "source": [
    "df.fillna(value=' ', inplace=True)"
   ]
  },
  {
   "cell_type": "code",
   "execution_count": 44,
   "metadata": {},
   "outputs": [
    {
     "data": {
      "text/html": [
       "<div>\n",
       "<style scoped>\n",
       "    .dataframe tbody tr th:only-of-type {\n",
       "        vertical-align: middle;\n",
       "    }\n",
       "\n",
       "    .dataframe tbody tr th {\n",
       "        vertical-align: top;\n",
       "    }\n",
       "\n",
       "    .dataframe thead th {\n",
       "        text-align: right;\n",
       "    }\n",
       "</style>\n",
       "<table border=\"1\" class=\"dataframe\">\n",
       "  <thead>\n",
       "    <tr style=\"text-align: right;\">\n",
       "      <th></th>\n",
       "      <th>File Position</th>\n",
       "      <th>Unnamed: 1</th>\n",
       "      <th>Field Name</th>\n",
       "      <th>Type</th>\n",
       "      <th>Max Length</th>\n",
       "    </tr>\n",
       "  </thead>\n",
       "  <tbody>\n",
       "    <tr>\n",
       "      <th>0</th>\n",
       "      <td></td>\n",
       "      <td></td>\n",
       "      <td></td>\n",
       "      <td></td>\n",
       "      <td></td>\n",
       "    </tr>\n",
       "    <tr>\n",
       "      <th>1</th>\n",
       "      <td>1</td>\n",
       "      <td>LOAN IDENTIFIER</td>\n",
       "      <td>LOAN IDENTIFIER</td>\n",
       "      <td>ALPHA-NUMERIC</td>\n",
       "      <td>20</td>\n",
       "    </tr>\n",
       "    <tr>\n",
       "      <th>2</th>\n",
       "      <td>2</td>\n",
       "      <td>ORIGINATION CHANNEL</td>\n",
       "      <td>ORIGINATION CHANNEL</td>\n",
       "      <td>ALPHA-NUMERIC</td>\n",
       "      <td>1</td>\n",
       "    </tr>\n",
       "    <tr>\n",
       "      <th>3</th>\n",
       "      <td>3</td>\n",
       "      <td>SELLER NAME</td>\n",
       "      <td>SELLER NAME</td>\n",
       "      <td>ALPHA-NUMERIC</td>\n",
       "      <td>80</td>\n",
       "    </tr>\n",
       "    <tr>\n",
       "      <th>4</th>\n",
       "      <td>4</td>\n",
       "      <td>ORIGINAL INTEREST RATE</td>\n",
       "      <td>ORIGINAL INTEREST RATE</td>\n",
       "      <td>NUMERIC</td>\n",
       "      <td>14,10</td>\n",
       "    </tr>\n",
       "  </tbody>\n",
       "</table>\n",
       "</div>"
      ],
      "text/plain": [
       "  File Position              Unnamed: 1                Field Name  \\\n",
       "0                                                                   \n",
       "1             1         LOAN IDENTIFIER         LOAN IDENTIFIER     \n",
       "2             2     ORIGINATION CHANNEL     ORIGINATION CHANNEL     \n",
       "3             3             SELLER NAME             SELLER NAME     \n",
       "4             4  ORIGINAL INTEREST RATE  ORIGINAL INTEREST RATE     \n",
       "\n",
       "            Type Max Length  \n",
       "0                            \n",
       "1  ALPHA-NUMERIC         20  \n",
       "2  ALPHA-NUMERIC          1  \n",
       "3  ALPHA-NUMERIC         80  \n",
       "4        NUMERIC      14,10  "
      ]
     },
     "execution_count": 44,
     "metadata": {},
     "output_type": "execute_result"
    }
   ],
   "source": [
    "df['Field Name'] = df['Unnamed: 1'] +' '+ df['Field Name']\n",
    "df.head()"
   ]
  },
  {
   "cell_type": "code",
   "execution_count": 45,
   "metadata": {},
   "outputs": [],
   "source": [
    "df.drop(columns='Unnamed: 1', inplace=True)"
   ]
  },
  {
   "cell_type": "code",
   "execution_count": 56,
   "metadata": {},
   "outputs": [],
   "source": [
    "df.drop(index = df[df['File Position'] == ' '].index, inplace=True)"
   ]
  },
  {
   "cell_type": "code",
   "execution_count": 66,
   "metadata": {},
   "outputs": [],
   "source": [
    "df_acq = df.iloc[0:25,:].reset_index(drop=True)"
   ]
  },
  {
   "cell_type": "code",
   "execution_count": 69,
   "metadata": {},
   "outputs": [],
   "source": [
    "df_perf = df.iloc[26:,:].reset_index(drop=True)"
   ]
  },
  {
   "cell_type": "code",
   "execution_count": 77,
   "metadata": {},
   "outputs": [],
   "source": [
    "df_acq['Field Name'] = df_acq['Field Name'].map(lambda x: x.strip())"
   ]
  },
  {
   "cell_type": "code",
   "execution_count": 78,
   "metadata": {},
   "outputs": [],
   "source": [
    "df_perf['Field Name'] = df_perf['Field Name'].map(lambda x: x.strip())"
   ]
  },
  {
   "cell_type": "code",
   "execution_count": 79,
   "metadata": {},
   "outputs": [],
   "source": [
    "output_file = './data/acquisition_data_dict_summary.csv'\n",
    "df_acq.to_csv(output_file, index=False)"
   ]
  },
  {
   "cell_type": "code",
   "execution_count": 80,
   "metadata": {},
   "outputs": [],
   "source": [
    "output_file = './data/performance_data_dict_summary.csv'\n",
    "df_perf.to_csv(output_file, index=False)"
   ]
  },
  {
   "cell_type": "code",
   "execution_count": null,
   "metadata": {},
   "outputs": [],
   "source": []
  }
 ],
 "metadata": {
  "kernelspec": {
   "display_name": "Python [conda env:dsi]",
   "language": "python",
   "name": "conda-env-dsi-py"
  },
  "language_info": {
   "codemirror_mode": {
    "name": "ipython",
    "version": 3
   },
   "file_extension": ".py",
   "mimetype": "text/x-python",
   "name": "python",
   "nbconvert_exporter": "python",
   "pygments_lexer": "ipython3",
   "version": "3.6.5"
  }
 },
 "nbformat": 4,
 "nbformat_minor": 2
}
