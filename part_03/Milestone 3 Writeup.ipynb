{
 "cells": [
  {
   "cell_type": "markdown",
   "metadata": {},
   "source": [
    "# Milestone 3 Writeup\n",
    "_____"
   ]
  },
  {
   "cell_type": "markdown",
   "metadata": {},
   "source": [
    "### 1. Do you have data fully in hand and if not, what blockers are you facing?\n",
    "- I have data fully in hand and additional data readily available should I choose to expand to different quarters and years"
   ]
  },
  {
   "cell_type": "markdown",
   "metadata": {},
   "source": [
    "### 2. Have you done a full EDA on all of your data?\n",
    "- I have done what I would call a partial EDA on my data. \n",
    "- There were decisions to be made regarding how to clean, impute nulls, etc. before a full EDA could be completed.  I am currently rewriting my initial exploration to condense the import, loading, cleaning, etc. into a concise function that can be applied to different datasets"
   ]
  },
  {
   "cell_type": "markdown",
   "metadata": {},
   "source": [
    "### 3. Have you begun the modeling process? How accurate are your predictions so far?\n",
    "- I have not begun the modeling process yet.  I anticipate a base model by EOD."
   ]
  },
  {
   "cell_type": "markdown",
   "metadata": {},
   "source": [
    "### 4. What blockers are you facing, including processing power, data acquisition, modeling difficulties, data cleaning, etc.? How can we help you overcome those challenges?\n",
    "- Eventually, I would like to impute nulls in a 'valid' fashion as noted by Brems lecture.  Due to time constraints, I have decided to continue by droping observations with nulls for the time being.  Time permitting, I will go back and augment the cleaning function to imputing using fancyimpute.\n",
    "- I am still indecisive on how to handle missing values legitimately.  I would like impute properly but don't precisely know how.\n",
    "- Raw csvs are approx. 22M x 30 which slows the cleaning process down.\n",
    "- Eventually, I would like to have data files housed on a web server so that I can highlight SQL usage.  However, lack of experience has left me a little intimidated."
   ]
  },
  {
   "cell_type": "markdown",
   "metadata": {},
   "source": [
    "### 5. Have you changed topics since your lightning talk? Since you submitted your Problem Statement and EDA? If so, do you have the necessary data in hand (and the requisite EDA completed) to continue moving forward?\n",
    "- I have not changed my topics since the lightning talk."
   ]
  },
  {
   "cell_type": "markdown",
   "metadata": {},
   "source": [
    "### 6. What is your timeline for the next week and a half? What do you have to get done versus what would you like to get done?\n",
    "- Wed, 1/30/19: complete EDA and create base logistic classification model\n",
    "- Fri, 2/1/19:  compare classification models and explore interpretation versus accuracy tradeoff\n",
    "- Weekend: explore additional features.  choose production models and tune.  start conclusion.\n",
    "- Mon, 2/4/19: finish conclusion and begin auxilary items such as readme, exec summary, presentation, etc.\n",
    "- Wed, 2/6/19: complete aux items. revisit improvement items noted during process."
   ]
  },
  {
   "cell_type": "markdown",
   "metadata": {},
   "source": [
    "### 7. What topics do you want to discuss during your 1:1?\n",
    "- null imputations per category; cltv, dti (7% of obs), num bwrs, credit score\n",
    "- discuss model selection (knn, tree, boost, nn, etc.)"
   ]
  },
  {
   "cell_type": "code",
   "execution_count": null,
   "metadata": {},
   "outputs": [],
   "source": []
  }
 ],
 "metadata": {
  "kernelspec": {
   "display_name": "Python [conda env:dsi]",
   "language": "python",
   "name": "conda-env-dsi-py"
  },
  "language_info": {
   "codemirror_mode": {
    "name": "ipython",
    "version": 3
   },
   "file_extension": ".py",
   "mimetype": "text/x-python",
   "name": "python",
   "nbconvert_exporter": "python",
   "pygments_lexer": "ipython3",
   "version": "3.6.5"
  }
 },
 "nbformat": 4,
 "nbformat_minor": 2
}
