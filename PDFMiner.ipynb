{
 "cells": [
  {
   "cell_type": "code",
   "execution_count": 1,
   "metadata": {},
   "outputs": [],
   "source": [
    "import io"
   ]
  },
  {
   "cell_type": "code",
   "execution_count": 2,
   "metadata": {},
   "outputs": [],
   "source": [
    "from pdfminer.converter import TextConverter\n",
    "from pdfminer.pdfinterp import PDFPageInterpreter\n",
    "from pdfminer.pdfinterp import PDFResourceManager\n",
    "from pdfminer.pdfpage import PDFPage"
   ]
  },
  {
   "cell_type": "code",
   "execution_count": 8,
   "metadata": {},
   "outputs": [],
   "source": [
    "def extract_text_from_pdf(pdf_path):\n",
    "    resource_manager = PDFResourceManager()\n",
    "    fake_file_handle = io.StringIO()\n",
    "    converter = TextConverter(resource_manager, fake_file_handle)\n",
    "    page_interpreter = PDFPageInterpreter(resource_manager, converter)\n",
    " \n",
    "    with open(pdf_path, 'rb') as fh:\n",
    "        for page in PDFPage.get_pages(fh, \n",
    "                                      caching=True,\n",
    "                                      check_extractable=True):\n",
    "            page_interpreter.process_page(page)\n",
    " \n",
    "        text = fake_file_handle.getvalue()\n",
    " \n",
    "    # close open handles\n",
    "    converter.close()\n",
    "    fake_file_handle.close()\n",
    " \n",
    "    if text:\n",
    "        return text\n",
    " \n",
    "# if __name__ == '__main__':\n",
    "data_dict = extract_text_from_pdf('./data/FNMA_SF_Loan_Performance_File_layout.pdf')"
   ]
  },
  {
   "cell_type": "code",
   "execution_count": 11,
   "metadata": {},
   "outputs": [
    {
     "data": {
      "text/plain": [
       "'  © 2018 Fannie Mae. Trademarks of Fannie Mae. 7.30.2018 1 of 2 Loan Performance Data – File Layout  Acquisition File Layout File Position  Field Name Type Max Length 1 LOAN IDENTIFIER ALPHA-NUMERIC 20 2 ORIGINATION CHANNEL ALPHA-NUMERIC 1 3 SELLER NAME ALPHA-NUMERIC 80 4 ORIGINAL INTEREST RATE NUMERIC 14,10 5 ORIGINAL UPB NUMERIC 11,2 6 ORIGINAL LOAN TERM NUMERIC 3,0 7 ORIGINATION DATE DATE MM/YYYY 8 FIRST PAYMENT DATE DATE MM/YYYY 9 ORIGINAL LOAN-TO-VALUE (LTV) NUMERIC 14,10 10 ORIGINAL COMBINED LOAN-TO-VALUE (CLTV) NUMERIC 14,10 11 NUMBER OF BORROWERS NUMERIC 3,0 12 ORIGINAL DEBT TO INCOME RATIO  NUMERIC 14,10 13 BORROWER CREDIT SCORE AT ORIGINATION NUMERIC 3,0 14 FIRST TIME HOME BUYER INDICATOR ALPHA-NUMERIC 1 15 LOAN PURPOSE ALPHA-NUMERIC 1 16 PROPERTY TYPE ALPHA-NUMERIC 2 17 NUMBER OF UNITS ALPHA-NUMERIC 10 18 OCCUPANCY TYPE ALPHA-NUMERIC 1 19 PROPERTY STATE ALPHA-NUMERIC 20 20 ZIP CODE SHORT ALPHA-NUMERIC 10 21 PRIMARY MORTGAGE INSURANCE PERCENT NUMERIC 14,10 22 PRODUCT TYPE ALPHA-NUMERIC 20 23 CO-BORROWER CREDIT SCORE AT ORIGINATION NUMERIC 3,0 24 MORTGAGE INSURANCE TYPE NUMERIC 1 25 RELOCATION MORTGAGE INDICATOR ALPHA-NUMERIC 1  Performance File Layout  File Position  Field Name Type Max Length 1 LOAN IDENTIFIER ALPHA-NUMERIC 20 2 MONTHLY REPORTING PERIOD DATE MM/DD/YYYY 3 SERVICER NAME ALPHA-NUMERIC 80 4 CURRENT INTEREST RATE NUMERIC 14,10 5 CURRENT ACTUAL UPB NUMERIC 11,2 6 LOAN AGE NUMERIC 10,0 \\x0c  © 2018 Fannie Mae. Trademarks of Fannie Mae. 7.30.2018 2 of 2 7 REMAINING MONTHS TO LEGAL MATURITY NUMERIC 3,0 8 ADJUSTED MONTHS TO MATURITY NUMERIC 3,0 9 MATURITY DATE DATE MM/YYYY 10 METROPOLITAN STATISTICAL AREA (MSA) ALPHA-NUMERIC 5 11 CURRENT LOAN DELINQUENCY STATUS ALPHA-NUMERIC 5 12 MODIFICATION FLAG ALPHA-NUMERIC 1 13 ZERO BALANCE CODE ALPHA-NUMERIC 2 14 ZERO BALANCE EFFECTIVE DATE DATE MM/YYYY 15 LAST PAID INSTALLMENT DATE DATE MM/DD/YYYY 16 FORECLOSURE DATE DATE MM/DD/YYYY 17 DISPOSITION DATE DATE MM/DD/YYYY 18 FORECLOSURE COSTS NUMERIC 27,12 19 PROPERTY PRESERVATION AND REPAIR COSTS NUMERIC 27,12 20 ASSET RECOVERY COSTS NUMERIC 27,12 21 MISCELLANEOUS HOLDING EXPENSES AND CREDITS NUMERIC 27,12 22 ASSOCIATED TAXES FOR HOLDING PROPERTY NUMERIC 27,12 23 NET SALE PROCEEDS NUMERIC 27,12 24 CREDIT ENHANCEMENT PROCEEDS NUMERIC 27,12 25 REPURCHASE MAKE WHOLE PROCEEDS NUMERIC 27,12 26 OTHER FORECLOSURE PROCEEDS NUMERIC 27,12 27 NON INTEREST BEARING UPB NUMERIC 11,2 28 PRINCIPAL FORGIVENESS AMOUNT  NUMERIC 11,2 29 REPURCHASE MAKE WHOLE PROCEEDS FLAG ALPHA-NUMERIC 1 30 FORECLOSURE PRINCIPAL WRITE-OFF AMOUNT NUMERIC 11,2 31 SERVICING ACTIVITY INDICATOR ALPHA-NUMERIC 1     \\x0c'"
      ]
     },
     "execution_count": 11,
     "metadata": {},
     "output_type": "execute_result"
    }
   ],
   "source": [
    "data_dict"
   ]
  },
  {
   "cell_type": "code",
   "execution_count": null,
   "metadata": {},
   "outputs": [],
   "source": [
    "LOAN IDENTIFIER, MONTHLY REPORTING PERIOD DATE MM/DD/YYYY 3 SERVICER NAME ALPHA-NUMERIC 80 4 CURRENT INTEREST RATE NUMERIC 14,10 5 CURRENT ACTUAL UPB NUMERIC 11,2 6 LOAN AGE NUMERIC 10,0 \\x0c  © 2018 Fannie Mae. Trademarks of Fannie Mae. 7.30.2018 2 of 2 7 REMAINING MONTHS TO LEGAL MATURITY NUMERIC 3,0 8 ADJUSTED MONTHS TO MATURITY NUMERIC 3,0 9 MATURITY DATE DATE MM/YYYY 10 METROPOLITAN STATISTICAL AREA (MSA) ALPHA-NUMERIC 5 11 CURRENT LOAN DELINQUENCY STATUS ALPHA-NUMERIC 5 12 MODIFICATION FLAG ALPHA-NUMERIC 1 13 ZERO BALANCE CODE ALPHA-NUMERIC 2 14 ZERO BALANCE EFFECTIVE DATE DATE MM/YYYY 15 LAST PAID INSTALLMENT DATE DATE MM/DD/YYYY 16 FORECLOSURE DATE DATE MM/DD/YYYY 17 DISPOSITION DATE DATE MM/DD/YYYY 18 FORECLOSURE COSTS NUMERIC 27,12 19 PROPERTY PRESERVATION AND REPAIR COSTS NUMERIC 27,12 20 ASSET RECOVERY COSTS NUMERIC 27,12 21 MISCELLANEOUS HOLDING EXPENSES AND CREDITS NUMERIC 27,12 22 ASSOCIATED TAXES FOR HOLDING PROPERTY NUMERIC 27,12 23 NET SALE PROCEEDS NUMERIC 27,12 24 CREDIT ENHANCEMENT PROCEEDS NUMERIC 27,12 25 REPURCHASE MAKE WHOLE PROCEEDS NUMERIC 27,12 26 OTHER FORECLOSURE PROCEEDS NUMERIC 27,12 27 NON INTEREST BEARING UPB NUMERIC 11,2 28 PRINCIPAL FORGIVENESS AMOUNT  NUMERIC 11,2 29 REPURCHASE MAKE WHOLE PROCEEDS FLAG ALPHA-NUMERIC 1 30 FORECLOSURE PRINCIPAL WRITE-OFF AMOUNT NUMERIC 11,2 31 SERVICING ACTIVITY INDICATOR ALPHA-NUMERIC 1 "
   ]
  }
 ],
 "metadata": {
  "kernelspec": {
   "display_name": "Python [conda env:dsi]",
   "language": "python",
   "name": "conda-env-dsi-py"
  },
  "language_info": {
   "codemirror_mode": {
    "name": "ipython",
    "version": 3
   },
   "file_extension": ".py",
   "mimetype": "text/x-python",
   "name": "python",
   "nbconvert_exporter": "python",
   "pygments_lexer": "ipython3",
   "version": "3.6.5"
  }
 },
 "nbformat": 4,
 "nbformat_minor": 2
}
