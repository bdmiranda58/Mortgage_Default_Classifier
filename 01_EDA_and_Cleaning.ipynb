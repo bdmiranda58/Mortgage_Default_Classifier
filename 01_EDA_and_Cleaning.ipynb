{
 "cells": [
  {
   "cell_type": "markdown",
   "metadata": {},
   "source": [
    "<insert. Fannie Mae logo>\n",
    "\n",
    "___________\n",
    "# Mortgage Loan Default Classifier\n",
    "\n",
    "### Problem Statement:\n",
    "- Predict whether a mortgage loan will default using Fannie Mae Loan Performance data set from previous quarter"
   ]
  },
  {
   "cell_type": "markdown",
   "metadata": {},
   "source": [
    "-----------\n",
    "\n",
    "## EDA and Cleaning\n",
    "___"
   ]
  },
  {
   "cell_type": "code",
   "execution_count": 1,
   "metadata": {},
   "outputs": [],
   "source": [
    "# import necessary packages\n",
    "import pandas as pd\n",
    "import numpy as np\n",
    "import matplotlib.pyplot as plt\n",
    "import seaborn as sns"
   ]
  },
  {
   "cell_type": "code",
   "execution_count": 2,
   "metadata": {},
   "outputs": [],
   "source": [
    "# define function to to allow user to assign train year and quarter of training data"
   ]
  },
  {
   "cell_type": "code",
   "execution_count": 8,
   "metadata": {},
   "outputs": [],
   "source": [
    "# define function to load and clean data set\n",
    "\n",
    "def load_dataset(year=2005, quarter=1):\n",
    "\n",
    "    #load acquisition data dictionary csv for column names\n",
    "    acq_data_dict_fp = './data/acquisition_data_dict_summary.csv'\n",
    "    list_acq_col_names = pd.read_csv(acq_data_dict_fp)['Field Name'].tolist()\n",
    "\n",
    "    #load acquisition data dictionary csv for column names\n",
    "    perf_data_dict_fp = './data/performance_data_dict_summary.csv'\n",
    "    list_perf_col_names = pd.read_csv(perf_data_dict_fp)['Field Name'].tolist()\n",
    "\n",
    "    #load acquisition csv\n",
    "    ## string for fp needs variable\n",
    "    acq_data_fp = f'./data/2005Q1/Acquisition_{year}Q{quarter}.txt'\n",
    "    df_acq = pd.read_csv(acq_data_fp, sep='|', header=None, names=list_acq_col_names)\n",
    "    \n",
    "    #load performance csv\n",
    "    perf_data_fp = f'./data/2005Q1/Performance_{year}Q{quarter}.txt'\n",
    "    df_perf = pd.read_csv(perf_data_fp, sep='|', header=None, names=list_perf_col_names)\n",
    "    \n",
    "    return df_acq, df_perf"
   ]
  },
  {
   "cell_type": "code",
   "execution_count": 9,
   "metadata": {},
   "outputs": [],
   "source": [
    "df_acq, df_perf = load_dataset()"
   ]
  },
  {
   "cell_type": "code",
   "execution_count": null,
   "metadata": {},
   "outputs": [],
   "source": [
    "df_acq.head()"
   ]
  }
 ],
 "metadata": {
  "kernelspec": {
   "display_name": "Python [conda env:dsi]",
   "language": "python",
   "name": "conda-env-dsi-py"
  },
  "language_info": {
   "codemirror_mode": {
    "name": "ipython",
    "version": 3
   },
   "file_extension": ".py",
   "mimetype": "text/x-python",
   "name": "python",
   "nbconvert_exporter": "python",
   "pygments_lexer": "ipython3",
   "version": "3.6.5"
  }
 },
 "nbformat": 4,
 "nbformat_minor": 2
}
